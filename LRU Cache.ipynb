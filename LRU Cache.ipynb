{
 "cells": [
  {
   "cell_type": "code",
   "execution_count": 61,
   "metadata": {
    "collapsed": true
   },
   "outputs": [],
   "source": [
    "class Node(object):\n",
    "    def __init__(self,key,val):\n",
    "        self.key=key\n",
    "        self.val=val\n",
    "        self.next=None\n",
    "        self.prev=None\n",
    "        \n",
    "class LRU(object):\n",
    "    def __init__(self,capacity):\n",
    "        self.capacity = capacity\n",
    "        self.size=0\n",
    "        self.head = Node(-1,-1)\n",
    "        self.tail = Node(-1,-1)\n",
    "        self.head.next=self.tail\n",
    "        self.tail.prev=self.head\n",
    "        self.__cache= {}\n",
    "    def remove(self,key):\n",
    "        try:\n",
    "            node = self.__cache.pop(key)\n",
    "            (node.prev).next = node.next\n",
    "            (node.next).prev = node.prev\n",
    "            self.size-=1\n",
    "        except all as e:\n",
    "            print(e)\n",
    "            print(\"Key doesn't exist\")\n",
    "    def add(self,key,val):\n",
    "        node = Node(key,val)\n",
    "        node.next=self.tail\n",
    "        node.prev = self.tail.prev\n",
    "        (self.tail.prev).next = node\n",
    "        self.tail.prev = node\n",
    "        self.__cache[key]=node\n",
    "        self.size+=1\n",
    "    def put(self,key,val):\n",
    "        if self.__cache.get(key)!=None:\n",
    "            self.remove(key)\n",
    "        elif self.size>=self.capacity:\n",
    "            self.remove(self.head.next.key)\n",
    "        self.add(key,val)\n",
    "    def get(self,key):\n",
    "        if self.__cache.get(key)!=None:\n",
    "            node= self.__cache.get(key)\n",
    "            self.remove(node.key)\n",
    "            self.add(node.key,node.val)\n",
    "            return node.val\n",
    "        else:\n",
    "            return -1\n",
    "    def __repr__(self):\n",
    "        print(self.__cache)"
   ]
  },
  {
   "cell_type": "code",
   "execution_count": 62,
   "metadata": {
    "collapsed": true
   },
   "outputs": [],
   "source": [
    "lru = LRU(5)"
   ]
  },
  {
   "cell_type": "code",
   "execution_count": 63,
   "metadata": {
    "collapsed": true
   },
   "outputs": [],
   "source": [
    "lru.set_(\"vishnu\",\"the champ\")\n",
    "lru.set_(\"bdv\",\"he gon get it\")\n",
    "lru.set_(\"bdv\",\"gets what\")\n",
    "lru.set_(\"he\",\"gets it\")\n",
    "lru.set_(\"got it?\",\"yuh\")\n",
    "lru.set_(\"should be full\",\"yes\")\n",
    "lru.set_(\"vishnu?\",\"should be succesful\")"
   ]
  },
  {
   "cell_type": "code",
   "execution_count": 65,
   "metadata": {},
   "outputs": [
    {
     "data": {
      "text/plain": [
       "'should be succesful'"
      ]
     },
     "execution_count": 65,
     "metadata": {},
     "output_type": "execute_result"
    }
   ],
   "source": [
    "lru.get_(\"vishnu?\")"
   ]
  },
  {
   "cell_type": "code",
   "execution_count": 1,
   "metadata": {
    "collapsed": true
   },
   "outputs": [],
   "source": [
    "a=[(1,2),(3,-1)]\n",
    "a.sort(key=lambda x:x[1])"
   ]
  },
  {
   "cell_type": "code",
   "execution_count": 7,
   "metadata": {},
   "outputs": [
    {
     "data": {
      "text/plain": [
       "[(3, -1)]"
      ]
     },
     "execution_count": 7,
     "metadata": {},
     "output_type": "execute_result"
    }
   ],
   "source": []
  },
  {
   "cell_type": "code",
   "execution_count": null,
   "metadata": {
    "collapsed": true
   },
   "outputs": [],
   "source": []
  }
 ],
 "metadata": {
  "kernelspec": {
   "display_name": "Python 3",
   "language": "python",
   "name": "python3"
  },
  "language_info": {
   "codemirror_mode": {
    "name": "ipython",
    "version": 3
   },
   "file_extension": ".py",
   "mimetype": "text/x-python",
   "name": "python",
   "nbconvert_exporter": "python",
   "pygments_lexer": "ipython3",
   "version": "3.6.1"
  }
 },
 "nbformat": 4,
 "nbformat_minor": 2
}
