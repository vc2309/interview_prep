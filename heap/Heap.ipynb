{
 "cells": [
  {
   "cell_type": "code",
   "execution_count": 36,
   "metadata": {
    "collapsed": true
   },
   "outputs": [],
   "source": [
    "def build_max_heap(A,i):\n",
    "    largest = i\n",
    "    l=(i*2)+1\n",
    "    r=(i*2)+2\n",
    "    if l<len(A):\n",
    "        largest = max([(A[i],i),(A[l],l)])[1]\n",
    "    if r<len(A):\n",
    "        largest = max([(A[largest],largest),(A[r],r)])[1]\n",
    "    if largest!=i:\n",
    "        A[largest],A[i]=A[i],A[largest]\n",
    "        build_max_heap(A,largest)\n",
    "def heapify(A):\n",
    "    for i in range(len(A)//2,-1,-1):\n",
    "        build_max_heap(A,i)\n",
    "    return A\n",
    "class Heap(object):\n",
    "    def __init__(self,A):\n",
    "        self.__heap = heapify(A)\n",
    "        self.__capacity = len(A)\n",
    "    def __repr__(self):\n",
    "        return str(self.__heap)\n",
    "    def parent(self,i):\n",
    "        if i==0:\n",
    "            return -1\n",
    "        return i//2\n",
    "    def swap(self,i,j):\n",
    "        self.__heap[i],self.__heap[j] = self.__heap[j], self.__heap[i]\n",
    "    def insert(self,element):\n",
    "        self.__heap.append(element)\n",
    "        self.__capacity+=1\n",
    "        i = self.__capacity - 1\n",
    "        \n",
    "        while self.parent(i)>=0:\n",
    "            j = self.parent(i)\n",
    "            if self.__heap[j]<self.__heap[i]:\n",
    "                self.swap(i,j)\n",
    "            else:\n",
    "                break\n",
    "            i=j\n",
    "    def max_child(self,i):\n",
    "        if self.__capacity<=1:\n",
    "            return None\n",
    "        \n",
    "        l = i*2 +1\n",
    "        r = i*2 +2\n",
    "        if r>=self.__capacity:\n",
    "            return l\n",
    "        return max([(self.__heap[l],l),(self.__heap[r],r)])[1]\n",
    "    def pop(self):\n",
    "        if not self.__capacity:\n",
    "            return None\n",
    "        ele = self.__heap[0]\n",
    "        self.__heap[0]=self.__heap.pop()\n",
    "        self.__capacity-=1\n",
    "        i = 0\n",
    "        while i<(self.__capacity//2):\n",
    "            j = self.max_child(i)\n",
    "            if not j:\n",
    "                break\n",
    "            if self.__heap[j]>self.__heap[i]:\n",
    "                self.swap(i,j)\n",
    "                i=j\n",
    "            else:\n",
    "                break\n",
    "        return ele\n",
    "        "
   ]
  },
  {
   "cell_type": "code",
   "execution_count": 37,
   "metadata": {},
   "outputs": [],
   "source": [
    "h = Heap([1,2,3,21,3,44,20])"
   ]
  },
  {
   "cell_type": "code",
   "execution_count": 34,
   "metadata": {},
   "outputs": [
    {
     "name": "stdout",
     "output_type": "stream",
     "text": [
      "[44, 21, 20, 2, 3, 3, 1]\n"
     ]
    }
   ],
   "source": [
    "print(h)"
   ]
  },
  {
   "cell_type": "code",
   "execution_count": 28,
   "metadata": {},
   "outputs": [
    {
     "data": {
      "text/plain": [
       "[21, 3, 20, 2, 1, 3]"
      ]
     },
     "execution_count": 28,
     "metadata": {},
     "output_type": "execute_result"
    }
   ],
   "source": [
    "heapify([1,2,3,21,3,20])"
   ]
  },
  {
   "cell_type": "code",
   "execution_count": 46,
   "metadata": {},
   "outputs": [],
   "source": [
    "h.insert(132)"
   ]
  },
  {
   "cell_type": "code",
   "execution_count": null,
   "metadata": {
    "collapsed": true
   },
   "outputs": [],
   "source": []
  }
 ],
 "metadata": {
  "kernelspec": {
   "display_name": "Python 3",
   "language": "python",
   "name": "python3"
  },
  "language_info": {
   "codemirror_mode": {
    "name": "ipython",
    "version": 3
   },
   "file_extension": ".py",
   "mimetype": "text/x-python",
   "name": "python",
   "nbconvert_exporter": "python",
   "pygments_lexer": "ipython3",
   "version": "3.6.1"
  }
 },
 "nbformat": 4,
 "nbformat_minor": 2
}
