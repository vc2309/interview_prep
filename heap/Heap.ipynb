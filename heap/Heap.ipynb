{
 "cells": [
  {
   "cell_type": "code",
   "execution_count": 39,
   "metadata": {
    "collapsed": true
   },
   "outputs": [],
   "source": [
    "def build_max_heap(A,i):\n",
    "    largest = i\n",
    "    l=(i*2)+1\n",
    "    r=(i*2)+2\n",
    "    if l<len(A):\n",
    "        largest = max([(A[i],i),(A[l],l)])[1]\n",
    "    if r<len(A):\n",
    "        largest = max([(A[largest],largest),(A[r],r)])[1]\n",
    "    if largest!=i:\n",
    "        A[largest],A[i]=A[i],A[largest]\n",
    "        build_max_heap(A,largest)\n",
    "def heapify(A):\n",
    "    for i in range(len(A)//2,-1,-1):\n",
    "        build_max_heap(A,i)\n",
    "    return A\n",
    "class Heap(object):\n",
    "    def __init__(self,A):\n",
    "        self.__heap = heapify(A)\n",
    "        self.__capacity = len(A)\n",
    "    def __repr__(self):\n",
    "        return str(self.__heap)\n",
    "    def parent(self,i):\n",
    "        if i==0:\n",
    "            return -1\n",
    "        return ceil(i//2)-1\n",
    "    def swap(self,i,j):\n",
    "        self.__heap[i],self.__heap[j] = self.__heap[j], self.__heap[i]\n",
    "    def insert(self,element):\n",
    "        self.__heap.append(element)\n",
    "        self.__capacity+=1\n",
    "        i = self.__capacity - 1\n",
    "        \n",
    "        while self.parent(i)>=0:\n",
    "            j = self.parent(i)\n",
    "            if self.__heap[j]<self.__heap[i]:\n",
    "                self.swap(i,j)\n",
    "            else:\n",
    "                break\n",
    "            i=j\n",
    "    def max_child(self,i):\n",
    "        if self.__capacity<=1:\n",
    "            return None\n",
    "        \n",
    "        l = i*2 +1\n",
    "        r = i*2 +2\n",
    "        if r>=self.__capacity:\n",
    "            return l\n",
    "        return max([(self.__heap[l],l),(self.__heap[r],r)])[1]\n",
    "    def pop(self):\n",
    "        if not self.__capacity:\n",
    "            return None\n",
    "        ele = self.__heap[0]\n",
    "        self.__heap[0]=self.__heap.pop()\n",
    "        self.__capacity-=1\n",
    "        i = 0\n",
    "        while i<(self.__capacity//2):\n",
    "            j = self.max_child(i)\n",
    "            if not j:\n",
    "                break\n",
    "            if self.__heap[j]>self.__heap[i]:\n",
    "                self.swap(i,j)\n",
    "                i=j\n",
    "            else:\n",
    "                break\n",
    "        return ele\n",
    "        "
   ]
  },
  {
   "cell_type": "code",
   "execution_count": 40,
   "metadata": {},
   "outputs": [],
   "source": [
    "h = Heap([1,2,3,21,3,44,20,22])"
   ]
  },
  {
   "cell_type": "code",
   "execution_count": 48,
   "metadata": {},
   "outputs": [
    {
     "ename": "IndexError",
     "evalue": "list assignment index out of range",
     "output_type": "error",
     "traceback": [
      "\u001b[0;31m---------------------------------------------------------------------------\u001b[0m",
      "\u001b[0;31mIndexError\u001b[0m                                Traceback (most recent call last)",
      "\u001b[0;32m<ipython-input-48-d3faed2966f7>\u001b[0m in \u001b[0;36m<module>\u001b[0;34m()\u001b[0m\n\u001b[0;32m----> 1\u001b[0;31m \u001b[0mh\u001b[0m\u001b[0;34m.\u001b[0m\u001b[0mpop\u001b[0m\u001b[0;34m(\u001b[0m\u001b[0;34m)\u001b[0m\u001b[0;34m\u001b[0m\u001b[0m\n\u001b[0m\u001b[1;32m      2\u001b[0m \u001b[0mprint\u001b[0m\u001b[0;34m(\u001b[0m\u001b[0mh\u001b[0m\u001b[0;34m)\u001b[0m\u001b[0;34m\u001b[0m\u001b[0m\n",
      "\u001b[0;32m<ipython-input-39-45bf58673c73>\u001b[0m in \u001b[0;36mpop\u001b[0;34m(self)\u001b[0m\n\u001b[1;32m     51\u001b[0m             \u001b[0;32mreturn\u001b[0m \u001b[0;32mNone\u001b[0m\u001b[0;34m\u001b[0m\u001b[0m\n\u001b[1;32m     52\u001b[0m         \u001b[0mele\u001b[0m \u001b[0;34m=\u001b[0m \u001b[0mself\u001b[0m\u001b[0;34m.\u001b[0m\u001b[0m__heap\u001b[0m\u001b[0;34m[\u001b[0m\u001b[0;36m0\u001b[0m\u001b[0;34m]\u001b[0m\u001b[0;34m\u001b[0m\u001b[0m\n\u001b[0;32m---> 53\u001b[0;31m         \u001b[0mself\u001b[0m\u001b[0;34m.\u001b[0m\u001b[0m__heap\u001b[0m\u001b[0;34m[\u001b[0m\u001b[0;36m0\u001b[0m\u001b[0;34m]\u001b[0m\u001b[0;34m=\u001b[0m\u001b[0mself\u001b[0m\u001b[0;34m.\u001b[0m\u001b[0m__heap\u001b[0m\u001b[0;34m.\u001b[0m\u001b[0mpop\u001b[0m\u001b[0;34m(\u001b[0m\u001b[0;34m)\u001b[0m\u001b[0;34m\u001b[0m\u001b[0m\n\u001b[0m\u001b[1;32m     54\u001b[0m         \u001b[0mself\u001b[0m\u001b[0;34m.\u001b[0m\u001b[0m__capacity\u001b[0m\u001b[0;34m-=\u001b[0m\u001b[0;36m1\u001b[0m\u001b[0;34m\u001b[0m\u001b[0m\n\u001b[1;32m     55\u001b[0m         \u001b[0mi\u001b[0m \u001b[0;34m=\u001b[0m \u001b[0;36m0\u001b[0m\u001b[0;34m\u001b[0m\u001b[0m\n",
      "\u001b[0;31mIndexError\u001b[0m: list assignment index out of range"
     ]
    }
   ],
   "source": [
    "h.pop()\n",
    "print(h)"
   ]
  },
  {
   "cell_type": "code",
   "execution_count": 32,
   "metadata": {},
   "outputs": [
    {
     "data": {
      "text/plain": [
       "[24, 21, 20, 3, 1, 3, 2]"
      ]
     },
     "execution_count": 32,
     "metadata": {},
     "output_type": "execute_result"
    }
   ],
   "source": [
    "heapify([24,1,2,3,21,3,20])"
   ]
  },
  {
   "cell_type": "code",
   "execution_count": 24,
   "metadata": {},
   "outputs": [
    {
     "ename": "IndexError",
     "evalue": "list index out of range",
     "output_type": "error",
     "traceback": [
      "\u001b[0;31m---------------------------------------------------------------------------\u001b[0m",
      "\u001b[0;31mIndexError\u001b[0m                                Traceback (most recent call last)",
      "\u001b[0;32m<ipython-input-24-8c0638602e42>\u001b[0m in \u001b[0;36m<module>\u001b[0;34m()\u001b[0m\n\u001b[0;32m----> 1\u001b[0;31m \u001b[0mh\u001b[0m\u001b[0;34m.\u001b[0m\u001b[0mpop\u001b[0m\u001b[0;34m(\u001b[0m\u001b[0;34m)\u001b[0m\u001b[0;34m\u001b[0m\u001b[0m\n\u001b[0m",
      "\u001b[0;32m<ipython-input-12-67c567e01ad6>\u001b[0m in \u001b[0;36mpop\u001b[0;34m(self)\u001b[0m\n\u001b[1;32m     50\u001b[0m         \u001b[0;32mif\u001b[0m \u001b[0;32mnot\u001b[0m \u001b[0mself\u001b[0m\u001b[0;34m.\u001b[0m\u001b[0m__capacity\u001b[0m\u001b[0;34m:\u001b[0m\u001b[0;34m\u001b[0m\u001b[0m\n\u001b[1;32m     51\u001b[0m             \u001b[0;32mreturn\u001b[0m \u001b[0;32mNone\u001b[0m\u001b[0;34m\u001b[0m\u001b[0m\n\u001b[0;32m---> 52\u001b[0;31m         \u001b[0mele\u001b[0m \u001b[0;34m=\u001b[0m \u001b[0mself\u001b[0m\u001b[0;34m.\u001b[0m\u001b[0m__heap\u001b[0m\u001b[0;34m[\u001b[0m\u001b[0;36m0\u001b[0m\u001b[0;34m]\u001b[0m\u001b[0;34m\u001b[0m\u001b[0m\n\u001b[0m\u001b[1;32m     53\u001b[0m         \u001b[0mself\u001b[0m\u001b[0;34m.\u001b[0m\u001b[0m__heap\u001b[0m\u001b[0;34m[\u001b[0m\u001b[0;36m0\u001b[0m\u001b[0;34m]\u001b[0m\u001b[0;34m=\u001b[0m\u001b[0mself\u001b[0m\u001b[0;34m.\u001b[0m\u001b[0m__heap\u001b[0m\u001b[0;34m.\u001b[0m\u001b[0mpop\u001b[0m\u001b[0;34m(\u001b[0m\u001b[0;34m)\u001b[0m\u001b[0;34m\u001b[0m\u001b[0m\n\u001b[1;32m     54\u001b[0m         \u001b[0mself\u001b[0m\u001b[0;34m.\u001b[0m\u001b[0m__capacity\u001b[0m\u001b[0;34m-=\u001b[0m\u001b[0;36m1\u001b[0m\u001b[0;34m\u001b[0m\u001b[0m\n",
      "\u001b[0;31mIndexError\u001b[0m: list index out of range"
     ]
    }
   ],
   "source": [
    "h.pop()"
   ]
  },
  {
   "cell_type": "code",
   "execution_count": 50,
   "metadata": {
    "collapsed": true
   },
   "outputs": [],
   "source": [
    "def min_heapify(arr,i):\n",
    "    min_ = i\n",
    "    left = i*2+1\n",
    "    right = left+1\n",
    "    if left<len(arr):\n",
    "        min_ = min_ if arr[left]>=arr[min_] else left\n",
    "    if right<len(arr):\n",
    "        min_ = min_ if arr[right]>=arr[min_] else right\n",
    "    if min_!=i:\n",
    "        arr[i],arr[min_]=arr[min_],arr[i]\n",
    "        min_heapify(arr,min_)\n",
    "    \n",
    "def heapify(arr):\n",
    "    for i in range(len(arr)//2,-1,-1):\n",
    "        min_heapify(arr,i)\n",
    "    return arr"
   ]
  },
  {
   "cell_type": "code",
   "execution_count": 51,
   "metadata": {},
   "outputs": [
    {
     "data": {
      "text/plain": [
       "[-1, 2, 1, 4, 2, 23, 44, 24, 4]"
      ]
     },
     "execution_count": 51,
     "metadata": {},
     "output_type": "execute_result"
    }
   ],
   "source": [
    "heapify([24,4,23,4,2,1,44,2,-1])"
   ]
  },
  {
   "cell_type": "code",
   "execution_count": 119,
   "metadata": {
    "collapsed": true
   },
   "outputs": [],
   "source": [
    "class MyHeap(object):\n",
    "    def __init__(self,k,arr):\n",
    "        self.capacity = k\n",
    "        self.size = 0\n",
    "        self.__heap = heapify(arr)\n",
    "        self.__idxs = {}\n",
    "    def __repr__(self):\n",
    "        return str(self.__heap)\n",
    "    def get_idxs(self):\n",
    "        return self.__idxs\n",
    "    def parent(self,i):\n",
    "        if not i:\n",
    "            return -1\n",
    "        return (i-1)//2\n",
    "    def swap(self,i,j):\n",
    "        if i>=self.size or j>=self.size:\n",
    "            return\n",
    "        #change idxs\n",
    "        key_i,key_j = self.__heap[i][0],self.__heap[j][0]\n",
    "        self.__idxs[key_i],self.__idxs[key_j] =j,i \n",
    "        self.__heap[j],self.__heap[i]=self.__heap[i],self.__heap[j]\n",
    "        \n",
    "    def bubble_up(self,i):\n",
    "        while i:\n",
    "            parent = self.parent(i)\n",
    "            if self.__heap[i][1]<=self.__heap[parent][1]:\n",
    "                self.swap(i,parent)\n",
    "                i=parent\n",
    "                continue\n",
    "            break\n",
    "            \n",
    "    def min_child(self,i):\n",
    "        left=i*2 + 1\n",
    "        right = left+1\n",
    "        min_=i\n",
    "        if left<self.size:\n",
    "            min_ = left\n",
    "        if right<self.size and self.__heap[right][1]<self.__heap[left][1]:\n",
    "            min_ = right\n",
    "        return min_\n",
    "    \n",
    "    def bubble_down(self,i):\n",
    "        while i<self.size:\n",
    "            min_child = self.min_child(i)\n",
    "            if self.__heap[min_child][1]<self.__heap[i][1]:\n",
    "                self.swap(i,min_child)\n",
    "                i=min_child\n",
    "                continue\n",
    "            break\n",
    "    def pop_min(self):\n",
    "        if self.size>0:\n",
    "            min_ = self.__heap[0]\n",
    "            last = self.__heap.pop()\n",
    "            self.size-=1\n",
    "            try:\n",
    "                self.__heap[0] = last\n",
    "                self.__idxs[min_[0]] = None\n",
    "                self.bubble_down(0)\n",
    "            except Exception as e:\n",
    "                print(e)\n",
    "            return min_\n",
    "        else:\n",
    "            print(\"Empty heap\")\n",
    "        \n",
    "    def insert(self,key,val):\n",
    "        if self.__idxs.get(key)!=None:\n",
    "            curr_idx = self.__idxs.get(key)\n",
    "            self.__heap[curr_idx][1]+=val\n",
    "            self.bubble_down(curr_idx)\n",
    "        else:\n",
    "            if self.size>=self.capacity:\n",
    "                if self.__heap[0][1]<val:\n",
    "                    self.pop_min()\n",
    "                else:\n",
    "                    return \"Heap full\"\n",
    "            self.__heap.append([key,val])\n",
    "            self.size+=1\n",
    "            self.__idxs[key]=self.size - 1\n",
    "            self.bubble_up(self.size-1)"
   ]
  },
  {
   "cell_type": "code",
   "execution_count": 120,
   "metadata": {},
   "outputs": [],
   "source": [
    "heap = MyHeap(5,[])"
   ]
  },
  {
   "cell_type": "code",
   "execution_count": 121,
   "metadata": {},
   "outputs": [],
   "source": [
    "heap.insert(\"gogle\",100)\n",
    "heap.insert(\"voda\",10)\n",
    "heap.insert(\"APPL\",30)\n",
    "heap.insert(\"BLM\",103)\n",
    "heap.insert(\"AIR\",45)\n",
    "heap.insert(\"AIR\",90)"
   ]
  },
  {
   "cell_type": "code",
   "execution_count": 132,
   "metadata": {},
   "outputs": [
    {
     "data": {
      "text/plain": [
       "{'AIR': 2,\n",
       " 'APPL': None,\n",
       " 'BLM': 0,\n",
       " 'LOL': 4,\n",
       " 'LOlL': 1,\n",
       " 'VISHNU': 3,\n",
       " 'gogle': None,\n",
       " 'voda': None}"
      ]
     },
     "execution_count": 132,
     "metadata": {},
     "output_type": "execute_result"
    }
   ],
   "source": [
    "heap.get_idxs()"
   ]
  },
  {
   "cell_type": "code",
   "execution_count": 131,
   "metadata": {},
   "outputs": [],
   "source": [
    "heap.insert(\"LOlL\",150)"
   ]
  },
  {
   "cell_type": "code",
   "execution_count": null,
   "metadata": {
    "collapsed": true
   },
   "outputs": [],
   "source": []
  }
 ],
 "metadata": {
  "kernelspec": {
   "display_name": "Python 3",
   "language": "python",
   "name": "python3"
  },
  "language_info": {
   "codemirror_mode": {
    "name": "ipython",
    "version": 3
   },
   "file_extension": ".py",
   "mimetype": "text/x-python",
   "name": "python",
   "nbconvert_exporter": "python",
   "pygments_lexer": "ipython3",
   "version": "3.6.1"
  }
 },
 "nbformat": 4,
 "nbformat_minor": 2
}
