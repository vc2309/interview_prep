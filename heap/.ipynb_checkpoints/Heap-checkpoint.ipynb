{
 "cells": [
  {
   "cell_type": "code",
   "execution_count": 29,
   "metadata": {
    "collapsed": true
   },
   "outputs": [],
   "source": [
    "def build_max_heap(A,i):\n",
    "    largest = i\n",
    "    l=(i*2)+1\n",
    "    r=(i*2)+2\n",
    "    if l<len(A):\n",
    "        largest = max([(A[i],i),(A[l],l)])[1]\n",
    "    if r<len(A):\n",
    "        largest = max([(A[largest],largest),(A[r],r)])[1]\n",
    "    if largest!=i:\n",
    "        A[largest],A[i]=A[i],A[largest]\n",
    "        build_max_heap(A,largest)\n",
    "def heapify(A):\n",
    "    for i in range(len(A)//2,-1,-1):\n",
    "        build_max_heap(A,i)\n",
    "    return A\n",
    "class Heap(object):\n",
    "    def __init__(self,A):\n",
    "        self.__heap = heapify(A)\n",
    "        self.__capacity = len(A)\n",
    "    def __repr__(self):\n",
    "        return str(self.__heap)"
   ]
  },
  {
   "cell_type": "code",
   "execution_count": 30,
   "metadata": {},
   "outputs": [],
   "source": [
    "h = Heap([1,2,3,21,3,44,20])"
   ]
  },
  {
   "cell_type": "code",
   "execution_count": 27,
   "metadata": {},
   "outputs": [
    {
     "name": "stdout",
     "output_type": "stream",
     "text": [
      "[44, 21, 20, 2, 3, 3, 1]\n"
     ]
    }
   ],
   "source": [
    "h.print_heap()"
   ]
  },
  {
   "cell_type": "code",
   "execution_count": 28,
   "metadata": {},
   "outputs": [
    {
     "data": {
      "text/plain": [
       "[21, 3, 20, 2, 1, 3]"
      ]
     },
     "execution_count": 28,
     "metadata": {},
     "output_type": "execute_result"
    }
   ],
   "source": [
    "heapify([1,2,3,21,3,20])"
   ]
  },
  {
   "cell_type": "code",
   "execution_count": null,
   "metadata": {
    "collapsed": true
   },
   "outputs": [],
   "source": []
  }
 ],
 "metadata": {
  "kernelspec": {
   "display_name": "Python 3",
   "language": "python",
   "name": "python3"
  },
  "language_info": {
   "codemirror_mode": {
    "name": "ipython",
    "version": 3
   },
   "file_extension": ".py",
   "mimetype": "text/x-python",
   "name": "python",
   "nbconvert_exporter": "python",
   "pygments_lexer": "ipython3",
   "version": "3.6.1"
  }
 },
 "nbformat": 4,
 "nbformat_minor": 2
}
