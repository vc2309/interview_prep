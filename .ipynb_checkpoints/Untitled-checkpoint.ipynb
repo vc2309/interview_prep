{
 "cells": [
  {
   "cell_type": "code",
   "execution_count": null,
   "metadata": {
    "collapsed": true
   },
   "outputs": [],
   "source": [
    "def print_mat(m):\n",
    "    for r in m:\n",
    "        print(r)\n",
    "\n",
    "def rotate_matrix(m):\n",
    "    layers = int(len(m)/2)\n",
    "    end = len(m)\n",
    "    layer=0\n",
    "    while(layer<layers):\n",
    "        i=layer\n",
    "        offset = end-i-1\n",
    "        j=i\n",
    "        while j<=offset:\n",
    "            top_row = m[i][j]\n",
    "            right_col = m[j][offset]\n",
    "            bottom_row = m[offset][end-j]\n",
    "            left_col = m[end-j][i]\n",
    "            \n",
    "            m[i][j] = left_col\n",
    "            m[j][offset] = top_row \n",
    "            m[offset][end-j] = right_col\n",
    "            m[end-j][i] = bottom_row\n",
    "            \n",
    "            j+=1\n",
    "        layer+=1\n",
    "    \n",
    "    print_mat(m)\n",
    "            "
   ]
  }
 ],
 "metadata": {
  "kernelspec": {
   "display_name": "Python 3",
   "language": "python",
   "name": "python3"
  },
  "language_info": {
   "codemirror_mode": {
    "name": "ipython",
    "version": 3
   },
   "file_extension": ".py",
   "mimetype": "text/x-python",
   "name": "python",
   "nbconvert_exporter": "python",
   "pygments_lexer": "ipython3",
   "version": "3.6.1"
  }
 },
 "nbformat": 4,
 "nbformat_minor": 2
}
