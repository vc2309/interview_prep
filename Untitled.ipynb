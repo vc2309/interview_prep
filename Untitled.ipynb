{
 "cells": [
  {
   "cell_type": "code",
   "execution_count": 43,
   "metadata": {},
   "outputs": [],
   "source": [
    "def print_mat(m):\n",
    "    for r in m:\n",
    "        print(r)\n",
    "\n",
    "def rotate_matrix(m):\n",
    "    layers = int(len(m)/2)\n",
    "    end = len(m)\n",
    "    layer=0\n",
    "    while(layer<layers):\n",
    "        i=layer\n",
    "        offset = end-i-1\n",
    "        j=i\n",
    "        while j<offset:\n",
    "            top_row = m[i][j]\n",
    "            right_col = m[j][offset]\n",
    "            bottom_row = m[offset][offset-j+i]\n",
    "            left_col = m[offset-j+i][i]\n",
    "#             print(top_row,right_col,bottom_row,left_col)\n",
    "            m[i][j] = left_col\n",
    "            m[j][offset] = top_row \n",
    "            m[offset][offset-j+i] = right_col\n",
    "            m[offset-j+i][i] = bottom_row\n",
    "#             p\n",
    "            j+=1\n",
    "        layer+=1\n",
    "#         print_mat(m)\n",
    "    \n",
    "    print_mat(m)"
   ]
  },
  {
   "cell_type": "code",
   "execution_count": 44,
   "metadata": {},
   "outputs": [
    {
     "name": "stdout",
     "output_type": "stream",
     "text": [
      "[1, 2, 3, 4]\n",
      "[5, 6, 7, 8]\n",
      "[9, 10, 11, 12]\n",
      "[13, 14, 15, 16]\n"
     ]
    }
   ],
   "source": [
    "mtx = [[1,2,3,4],[5,6,7,8],[9,10,11,12],[13,14,15,16]]\n",
    "print_mat(mtx)"
   ]
  },
  {
   "cell_type": "code",
   "execution_count": 48,
   "metadata": {},
   "outputs": [
    {
     "name": "stdout",
     "output_type": "stream",
     "text": [
      "[1, 2, 3, 4]\n",
      "[5, 6, 7, 8]\n",
      "[9, 10, 11, 12]\n",
      "[13, 14, 15, 16]\n"
     ]
    }
   ],
   "source": [
    "rotate_matrix(mtx)"
   ]
  },
  {
   "cell_type": "code",
   "execution_count": 66,
   "metadata": {
    "collapsed": true
   },
   "outputs": [],
   "source": [
    "def spiral_print(mtx):\n",
    "    layers = int(len(mtx)/2)\n",
    "    end = len(mtx)\n",
    "    layer = 0\n",
    "    while layer<=layers:\n",
    "        offset = end-layer-1\n",
    "        \n",
    "        if layer==offset:\n",
    "            print(mtx[layer][layer])\n",
    "        #print top row\n",
    "        r = layer\n",
    "        c = layer\n",
    "        while (c<offset):\n",
    "            print(mtx[r][c])\n",
    "            c+=1\n",
    "        while (r<offset):\n",
    "            print(mtx[r][c])\n",
    "            r+=1\n",
    "        while (c>layer):\n",
    "            print(mtx[r][c])\n",
    "            c-=1\n",
    "        while (r>layer):\n",
    "            print(mtx[r][c])\n",
    "            r-=1\n",
    "        layer+=1"
   ]
  },
  {
   "cell_type": "code",
   "execution_count": 67,
   "metadata": {},
   "outputs": [
    {
     "name": "stdout",
     "output_type": "stream",
     "text": [
      "1\n",
      "2\n",
      "3\n",
      "4\n",
      "8\n",
      "12\n",
      "16\n",
      "15\n",
      "14\n",
      "13\n",
      "9\n",
      "5\n",
      "6\n",
      "7\n",
      "11\n",
      "10\n"
     ]
    }
   ],
   "source": [
    "spiral_print(mtx)"
   ]
  },
  {
   "cell_type": "code",
   "execution_count": 68,
   "metadata": {},
   "outputs": [
    {
     "name": "stdout",
     "output_type": "stream",
     "text": [
      "1\n",
      "2\n",
      "3\n",
      "6\n",
      "9\n",
      "8\n",
      "7\n",
      "4\n",
      "5\n"
     ]
    }
   ],
   "source": [
    "mtx2 = [[1,2,3],[4,5,6],[7,8,9]]\n",
    "spiral_print(mtx2)"
   ]
  },
  {
   "cell_type": "code",
   "execution_count": 89,
   "metadata": {
    "collapsed": true
   },
   "outputs": [],
   "source": [
    "def zero_matrix (m):\n",
    "    #first we mark all the columns which have zero on row zero\n",
    "    if not len(m):\n",
    "        return m\n",
    "    rows = len(m)\n",
    "    cols = len(m[0])\n",
    "    row_0_has_0 = False\n",
    "    col_0_has_0 = False\n",
    "    for row in range(rows):\n",
    "        for col in range(cols):\n",
    "            if m[row][col]==0:\n",
    "                if row==0:\n",
    "                    row_0_has_0 = True\n",
    "                if col==0:\n",
    "                    col_0_has_0 = True\n",
    "                else:\n",
    "                    m[0][col]=0\n",
    "                    m[row][0]=0\n",
    "    \n",
    "    # mark all the columns\n",
    "    for c in range(1,cols):\n",
    "        if m[0][c]==0:\n",
    "            for r in range(rows):\n",
    "                m[r][c]=0\n",
    "    \n",
    "    for r in range(1,rows):\n",
    "        if m[r][0]==0:\n",
    "            for c in range(cols):\n",
    "                m[r][c]=0\n",
    "    if row_0_has_0:\n",
    "        for col in range(cols):\n",
    "            m[0][col]=0\n",
    "    if col_0_has_0:\n",
    "        for row in range(rows):\n",
    "            m[row][0]=0"
   ]
  },
  {
   "cell_type": "code",
   "execution_count": 92,
   "metadata": {},
   "outputs": [
    {
     "name": "stdout",
     "output_type": "stream",
     "text": [
      "[0, 1, 1, 1]\n",
      "[1, 0, 1, 1]\n",
      "[1, 1, 1, 1]\n"
     ]
    }
   ],
   "source": [
    "mat = [[0,1,1,1],[1,0,1,1],[1,1,1,1]]\n",
    "print_mat(mat)"
   ]
  },
  {
   "cell_type": "code",
   "execution_count": 93,
   "metadata": {},
   "outputs": [
    {
     "name": "stdout",
     "output_type": "stream",
     "text": [
      "[0, 0, 0, 0]\n",
      "[0, 0, 0, 0]\n",
      "[0, 0, 1, 1]\n"
     ]
    }
   ],
   "source": [
    "zero_matrix(mat)\n",
    "print_mat(mat)"
   ]
  },
  {
   "cell_type": "code",
   "execution_count": null,
   "metadata": {
    "collapsed": true
   },
   "outputs": [],
   "source": []
  }
 ],
 "metadata": {
  "kernelspec": {
   "display_name": "Python 3",
   "language": "python",
   "name": "python3"
  },
  "language_info": {
   "codemirror_mode": {
    "name": "ipython",
    "version": 3
   },
   "file_extension": ".py",
   "mimetype": "text/x-python",
   "name": "python",
   "nbconvert_exporter": "python",
   "pygments_lexer": "ipython3",
   "version": "3.6.1"
  }
 },
 "nbformat": 4,
 "nbformat_minor": 2
}
