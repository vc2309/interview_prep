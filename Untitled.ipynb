{
 "cells": [
  {
   "cell_type": "code",
   "execution_count": 43,
   "metadata": {
    "collapsed": true
   },
   "outputs": [],
   "source": [
    "def print_mat(m):\n",
    "    for r in m:\n",
    "        print(r)\n",
    "\n",
    "def rotate_matrix(m):\n",
    "    layers = int(len(m)/2)\n",
    "    end = len(m)\n",
    "    layer=0\n",
    "    while(layer<layers):\n",
    "        i=layer\n",
    "        offset = end-i-1\n",
    "        j=i\n",
    "        while j<offset:\n",
    "            top_row = m[i][j]\n",
    "            right_col = m[j][offset]\n",
    "            bottom_row = m[offset][offset-j+i]\n",
    "            left_col = m[offset-j+i][i]\n",
    "#             print(top_row,right_col,bottom_row,left_col)\n",
    "            m[i][j] = left_col\n",
    "            m[j][offset] = top_row \n",
    "            m[offset][offset-j+i] = right_col\n",
    "            m[offset-j+i][i] = bottom_row\n",
    "#             p\n",
    "            j+=1\n",
    "        layer+=1\n",
    "#         print_mat(m)\n",
    "    \n",
    "    print_mat(m)"
   ]
  },
  {
   "cell_type": "code",
   "execution_count": 44,
   "metadata": {},
   "outputs": [
    {
     "name": "stdout",
     "output_type": "stream",
     "text": [
      "[1, 2, 3, 4]\n",
      "[5, 6, 7, 8]\n",
      "[9, 10, 11, 12]\n",
      "[13, 14, 15, 16]\n"
     ]
    }
   ],
   "source": [
    "mtx = [[1,2,3,4],[5,6,7,8],[9,10,11,12],[13,14,15,16]]\n",
    "print_mat(mtx)"
   ]
  },
  {
   "cell_type": "code",
   "execution_count": 48,
   "metadata": {},
   "outputs": [
    {
     "name": "stdout",
     "output_type": "stream",
     "text": [
      "[1, 2, 3, 4]\n",
      "[5, 6, 7, 8]\n",
      "[9, 10, 11, 12]\n",
      "[13, 14, 15, 16]\n"
     ]
    }
   ],
   "source": [
    "rotate_matrix(mtx)"
   ]
  },
  {
   "cell_type": "code",
   "execution_count": 66,
   "metadata": {
    "collapsed": true
   },
   "outputs": [],
   "source": [
    "def spiral_print(mtx):\n",
    "    layers = int(len(mtx)/2)\n",
    "    end = len(mtx)\n",
    "    layer = 0\n",
    "    while layer<=layers:\n",
    "        offset = end-layer-1\n",
    "        \n",
    "        if layer==offset:\n",
    "            print(mtx[layer][layer])\n",
    "        #print top row\n",
    "        r = layer\n",
    "        c = layer\n",
    "        while (c<offset):\n",
    "            print(mtx[r][c])\n",
    "            c+=1\n",
    "        while (r<offset):\n",
    "            print(mtx[r][c])\n",
    "            r+=1\n",
    "        while (c>layer):\n",
    "            print(mtx[r][c])\n",
    "            c-=1\n",
    "        while (r>layer):\n",
    "            print(mtx[r][c])\n",
    "            r-=1\n",
    "        layer+=1"
   ]
  },
  {
   "cell_type": "code",
   "execution_count": 67,
   "metadata": {},
   "outputs": [
    {
     "name": "stdout",
     "output_type": "stream",
     "text": [
      "1\n",
      "2\n",
      "3\n",
      "4\n",
      "8\n",
      "12\n",
      "16\n",
      "15\n",
      "14\n",
      "13\n",
      "9\n",
      "5\n",
      "6\n",
      "7\n",
      "11\n",
      "10\n"
     ]
    }
   ],
   "source": [
    "spiral_print(mtx)"
   ]
  },
  {
   "cell_type": "code",
   "execution_count": 68,
   "metadata": {},
   "outputs": [
    {
     "name": "stdout",
     "output_type": "stream",
     "text": [
      "1\n",
      "2\n",
      "3\n",
      "6\n",
      "9\n",
      "8\n",
      "7\n",
      "4\n",
      "5\n"
     ]
    }
   ],
   "source": [
    "mtx2 = [[1,2,3],[4,5,6],[7,8,9]]\n",
    "spiral_print(mtx2)"
   ]
  },
  {
   "cell_type": "code",
   "execution_count": 89,
   "metadata": {
    "collapsed": true
   },
   "outputs": [],
   "source": [
    "def zero_matrix (m):\n",
    "    #first we mark all the columns which have zero on row zero\n",
    "    if not len(m):\n",
    "        return m\n",
    "    rows = len(m)\n",
    "    cols = len(m[0])\n",
    "    row_0_has_0 = False\n",
    "    col_0_has_0 = False\n",
    "    for row in range(rows):\n",
    "        for col in range(cols):\n",
    "            if m[row][col]==0:\n",
    "                if row==0:\n",
    "                    row_0_has_0 = True\n",
    "                if col==0:\n",
    "                    col_0_has_0 = True\n",
    "                else:\n",
    "                    m[0][col]=0\n",
    "                    m[row][0]=0\n",
    "    \n",
    "    # mark all the columns\n",
    "    for c in range(1,cols):\n",
    "        if m[0][c]==0:\n",
    "            for r in range(rows):\n",
    "                m[r][c]=0\n",
    "    \n",
    "    for r in range(1,rows):\n",
    "        if m[r][0]==0:\n",
    "            for c in range(cols):\n",
    "                m[r][c]=0\n",
    "    if row_0_has_0:\n",
    "        for col in range(cols):\n",
    "            m[0][col]=0\n",
    "    if col_0_has_0:\n",
    "        for row in range(rows):\n",
    "            m[row][0]=0"
   ]
  },
  {
   "cell_type": "code",
   "execution_count": 92,
   "metadata": {},
   "outputs": [
    {
     "name": "stdout",
     "output_type": "stream",
     "text": [
      "[0, 1, 1, 1]\n",
      "[1, 0, 1, 1]\n",
      "[1, 1, 1, 1]\n"
     ]
    }
   ],
   "source": [
    "mat = [[0,1,1,1],[1,0,1,1],[1,1,1,1]]\n",
    "print_mat(mat)"
   ]
  },
  {
   "cell_type": "code",
   "execution_count": 93,
   "metadata": {},
   "outputs": [
    {
     "name": "stdout",
     "output_type": "stream",
     "text": [
      "[0, 0, 0, 0]\n",
      "[0, 0, 0, 0]\n",
      "[0, 0, 1, 1]\n"
     ]
    }
   ],
   "source": [
    "zero_matrix(mat)\n",
    "print_mat(mat)"
   ]
  },
  {
   "cell_type": "code",
   "execution_count": 33,
   "metadata": {
    "collapsed": true
   },
   "outputs": [],
   "source": [
    "def max_len(arr):\n",
    "    max_len = len(arr[0])\n",
    "    max_arr=arr[0]\n",
    "    for i in arr:\n",
    "        if len(i)>max_len:\n",
    "            max_len=len(i)\n",
    "            max_arr=i\n",
    "    return max_arr"
   ]
  },
  {
   "cell_type": "code",
   "execution_count": 60,
   "metadata": {
    "collapsed": true
   },
   "outputs": [],
   "source": [
    "class Solution(object):\n",
    "    def helper(self,s,i,j,pali):\n",
    "        # print(pali)\n",
    "#         if i>j:\n",
    "#         print(pali)\n",
    "#             pali.append('***')\n",
    "#             pali.append('***')\n",
    "        print(i,j,pali)\n",
    "        if i<j:\n",
    "            if s[i]==s[j]:\n",
    "                both = pali\n",
    "                both.append(s[i])\n",
    "                \n",
    "                if j-i==1:\n",
    "                    both.append('***')\n",
    "                    both.append('***')\n",
    "                    return both\n",
    "                l=self.helper(s,i+1,j,pali)\n",
    "                r=self.helper(s,i,j-1,pali)\n",
    "                m=self.helper(s,i+1,j-1,both)\n",
    "                return(max_len([l,r,m]))\n",
    "\n",
    "            else:\n",
    "                l=self.helper(s,i+1,j,[])\n",
    "                r=self.helper(s,i,j-1,[])\n",
    "#                 m=self.helper(s,i+1,j-1,[])\n",
    "#                 print(l,r)\n",
    "                return max_len([l,r])\n",
    "        elif i==j:\n",
    "            # print(pali)\n",
    "            pali.append(s[i])\n",
    "            pali.append(\"***\")\n",
    "        return pali\n",
    "    def longestPalindrome(self, s):\n",
    "        \"\"\"\n",
    "        :type s: str\n",
    "        :rtype: str\n",
    "        \"\"\"\n",
    "        if len(s)<2:\n",
    "            return s\n",
    "        half = self.helper(s,0,len(s)-1,[])\n",
    "        print(half)\n",
    "        if half[-1]=='***' and half[-2]==\"***\":\n",
    "            half=half[:-2]\n",
    "            half.extend([half[i] for i in range(len(half)-1,-1,-1) ])\n",
    "        else:\n",
    "            half=half[:-1]\n",
    "            half.extend([half[i] for i in range(len(half)-2,-1,-1) ])\n",
    "        return ''.join(half)"
   ]
  },
  {
   "cell_type": "code",
   "execution_count": 63,
   "metadata": {
    "collapsed": true
   },
   "outputs": [],
   "source": [
    "s = Solution()"
   ]
  },
  {
   "cell_type": "code",
   "execution_count": 64,
   "metadata": {},
   "outputs": [
    {
     "name": "stdout",
     "output_type": "stream",
     "text": [
      "0 6 []\n",
      "1 6 ['a']\n",
      "2 6 ['a', 'a']\n",
      "3 6 []\n",
      "4 6 []\n",
      "5 6 ['a']\n",
      "6 6 []\n",
      "5 5 []\n",
      "4 5 ['a']\n",
      "5 5 []\n",
      "4 4 []\n",
      "5 5 ['a']\n",
      "3 5 []\n",
      "4 5 []\n",
      "5 5 []\n",
      "4 4 []\n",
      "3 4 []\n",
      "4 4 []\n",
      "3 3 []\n",
      "2 5 []\n",
      "3 5 []\n",
      "4 5 []\n",
      "5 5 []\n",
      "4 4 []\n",
      "3 4 []\n",
      "4 4 []\n",
      "3 3 []\n",
      "2 4 []\n",
      "3 4 []\n",
      "4 4 []\n",
      "3 3 []\n",
      "2 3 []\n",
      "1 5 ['a', 'a']\n",
      "2 5 []\n",
      "3 5 []\n",
      "4 5 []\n",
      "5 5 []\n",
      "4 4 []\n",
      "3 4 []\n",
      "4 4 []\n",
      "3 3 []\n",
      "2 4 []\n",
      "3 4 []\n",
      "4 4 []\n",
      "3 3 []\n",
      "2 3 []\n",
      "1 4 []\n",
      "2 4 ['a']\n",
      "3 4 []\n",
      "4 4 []\n",
      "3 3 []\n",
      "2 3 []\n",
      "1 3 ['a']\n",
      "2 3 []\n",
      "1 2 []\n",
      "2 2 []\n",
      "1 1 []\n",
      "2 3 ['a']\n",
      "2 5 ['a', 'a']\n",
      "3 5 []\n",
      "4 5 []\n",
      "5 5 []\n",
      "4 4 []\n",
      "3 4 []\n",
      "4 4 []\n",
      "3 3 []\n",
      "2 4 []\n",
      "3 4 []\n",
      "4 4 []\n",
      "3 3 []\n",
      "2 3 []\n",
      "0 5 ['a', 'a']\n",
      "1 5 []\n",
      "2 5 []\n",
      "3 5 []\n",
      "4 5 []\n",
      "5 5 []\n",
      "4 4 []\n",
      "3 4 []\n",
      "4 4 []\n",
      "3 3 []\n",
      "2 4 []\n",
      "3 4 []\n",
      "4 4 []\n",
      "3 3 []\n",
      "2 3 []\n",
      "1 4 []\n",
      "2 4 ['a']\n",
      "3 4 []\n",
      "4 4 []\n",
      "3 3 []\n",
      "2 3 []\n",
      "1 3 ['a']\n",
      "2 3 []\n",
      "1 2 []\n",
      "2 2 []\n",
      "1 1 []\n",
      "2 3 ['a']\n",
      "0 4 []\n",
      "1 4 ['a']\n",
      "2 4 ['a', 'a']\n",
      "3 4 []\n",
      "4 4 []\n",
      "3 3 []\n",
      "2 3 []\n",
      "1 3 ['a', 'a']\n",
      "2 3 []\n",
      "1 2 []\n",
      "2 2 []\n",
      "1 1 []\n",
      "2 3 ['a', 'a']\n",
      "0 3 ['a', 'a', 'b', '***', '***']\n",
      "1 3 []\n",
      "2 3 []\n",
      "1 2 []\n",
      "2 2 []\n",
      "1 1 []\n",
      "0 2 []\n",
      "1 2 []\n",
      "2 2 []\n",
      "1 1 []\n",
      "0 1 []\n",
      "1 3 ['a', 'a', 'b', '***', '***']\n",
      "2 3 []\n",
      "1 2 []\n",
      "2 2 []\n",
      "1 1 []\n",
      "1 5 ['a', 'a']\n",
      "2 5 []\n",
      "3 5 []\n",
      "4 5 []\n",
      "5 5 []\n",
      "4 4 []\n",
      "3 4 []\n",
      "4 4 []\n",
      "3 3 []\n",
      "2 4 []\n",
      "3 4 []\n",
      "4 4 []\n",
      "3 3 []\n",
      "2 3 []\n",
      "1 4 []\n",
      "2 4 ['a']\n",
      "3 4 []\n",
      "4 4 []\n",
      "3 3 []\n",
      "2 3 []\n",
      "1 3 ['a']\n",
      "2 3 []\n",
      "1 2 []\n",
      "2 2 []\n",
      "1 1 []\n",
      "2 3 ['a']\n",
      "['a', 'a', 'b', '***', '***']\n"
     ]
    },
    {
     "data": {
      "text/plain": [
       "'aabbaa'"
      ]
     },
     "execution_count": 64,
     "metadata": {},
     "output_type": "execute_result"
    }
   ],
   "source": [
    "s.longestPalindrome(\"aabbaca\")"
   ]
  },
  {
   "cell_type": "code",
   "execution_count": 15,
   "metadata": {},
   "outputs": [],
   "source": [
    "def first_unique(arr,t):\n",
    "    from collections import OrderedDict\n",
    "    freqs = {}\n",
    "    od = OrderedDict()\n",
    "    i=0\n",
    "    while(arr[i])!=t:\n",
    "        if not freqs.get(arr[i]):\n",
    "            freqs[arr[i]]=1\n",
    "            od[arr[i]]=True\n",
    "        else:\n",
    "            if od.get(arr[i]):\n",
    "                od.pop(arr[i])\n",
    "        i+=1\n",
    "    return od.popitem(last=False)\n",
    "            \n",
    "        \n",
    "        \n",
    "        "
   ]
  },
  {
   "cell_type": "code",
   "execution_count": 16,
   "metadata": {},
   "outputs": [
    {
     "data": {
      "text/plain": [
       "(23, True)"
      ]
     },
     "execution_count": 16,
     "metadata": {},
     "output_type": "execute_result"
    }
   ],
   "source": [
    "first_unique([1,2,3,1,2,23,3,4,11,53,232,599,9,23,32,12],9)"
   ]
  },
  {
   "cell_type": "code",
   "execution_count": null,
   "metadata": {
    "collapsed": true
   },
   "outputs": [],
   "source": []
  }
 ],
 "metadata": {
  "kernelspec": {
   "display_name": "Python 3",
   "language": "python",
   "name": "python3"
  },
  "language_info": {
   "codemirror_mode": {
    "name": "ipython",
    "version": 3
   },
   "file_extension": ".py",
   "mimetype": "text/x-python",
   "name": "python",
   "nbconvert_exporter": "python",
   "pygments_lexer": "ipython3",
   "version": "3.6.1"
  }
 },
 "nbformat": 4,
 "nbformat_minor": 2
}
