{
 "cells": [
  {
   "cell_type": "code",
   "execution_count": 16,
   "metadata": {
    "collapsed": true
   },
   "outputs": [],
   "source": [
    "class Vertex(object):\n",
    "        def __init__(self,name):\n",
    "            self.name = name\n",
    "            self.edges = []\n",
    "        def add_edge(self,V):\n",
    "            if not V in self.edges:\n",
    "                self.edges.append(V)\n",
    "class Graph(object):\n",
    "    def __init__(self,vertices):\n",
    "        self.vertices = vertices\n",
    "    \n",
    "    def print_graph(self):\n",
    "        for V in self.vertices:\n",
    "            print(V.name,end=\" : \")\n",
    "            for vert in V.edges:\n",
    "                print(vert.name,end=\" \")\n",
    "            print(\"\")\n",
    "    "
   ]
  },
  {
   "cell_type": "code",
   "execution_count": 69,
   "metadata": {},
   "outputs": [],
   "source": [
    "names = [\"a\",\"b\",\"c\",\"d\",\"e\",\"f\"]\n",
    "V = [Vertex(name) for name in names]\n",
    "edges = [(V[0],V[1]),\n",
    "        (V[0],V[4]),\n",
    "         (V[1],V[2]),\n",
    "         (V[1],V[4]),\n",
    "         (V[4],V[2]),\n",
    "         (V[3],V[5]),\n",
    "         (V[2],V[3])\n",
    "        ]\n",
    "for e in edges:\n",
    "    e[0].add_edge(e[1])"
   ]
  },
  {
   "cell_type": "code",
   "execution_count": 27,
   "metadata": {},
   "outputs": [],
   "source": [
    "import random"
   ]
  },
  {
   "cell_type": "code",
   "execution_count": 19,
   "metadata": {},
   "outputs": [],
   "source": [
    "for vert in V:\n",
    "    for i in range(random.randint(0,5)):\n",
    "        vert.add_edge(V[random.randint(0,5)])\n",
    "        "
   ]
  },
  {
   "cell_type": "code",
   "execution_count": 72,
   "metadata": {
    "collapsed": true
   },
   "outputs": [],
   "source": [
    "graph = Graph(V)"
   ]
  },
  {
   "cell_type": "code",
   "execution_count": 71,
   "metadata": {},
   "outputs": [
    {
     "name": "stdout",
     "output_type": "stream",
     "text": [
      "a : b e \n",
      "b : c e \n",
      "c : d \n",
      "d : f \n",
      "e : c \n",
      "f : \n"
     ]
    }
   ],
   "source": [
    "graph.print_graph()"
   ]
  },
  {
   "cell_type": "code",
   "execution_count": 73,
   "metadata": {},
   "outputs": [],
   "source": [
    "visited = {vert.name:False for vert in graph.vertices}\n",
    "queue = []\n",
    "def dfs(G):\n",
    "    for vertex in G.vertices:\n",
    "        if not visited[vertex.name]:\n",
    "            explore(vertex)\n",
    "            print(visited,queue)\n",
    "def explore(vertex):\n",
    "    visited[vertex.name]=True\n",
    "    queue.append(vertex.name)\n",
    "    for vert in vertex.edges:\n",
    "        if not visited[vert.name]:\n",
    "            explore(vert)\n",
    "            "
   ]
  },
  {
   "cell_type": "code",
   "execution_count": 74,
   "metadata": {},
   "outputs": [
    {
     "name": "stdout",
     "output_type": "stream",
     "text": [
      "{'a': True, 'b': True, 'c': True, 'd': True, 'e': True, 'f': True} ['a', 'b', 'c', 'd', 'f', 'e']\n"
     ]
    }
   ],
   "source": [
    "dfs(graph)"
   ]
  },
  {
   "cell_type": "code",
   "execution_count": 33,
   "metadata": {},
   "outputs": [
    {
     "data": {
      "text/plain": [
       "{<__main__.Vertex at 0x104d3a630>: False,\n",
       " <__main__.Vertex at 0x104d3a6d8>: False,\n",
       " <__main__.Vertex at 0x104d3a710>: False,\n",
       " <__main__.Vertex at 0x104d3a7b8>: False,\n",
       " <__main__.Vertex at 0x104d3a7f0>: False,\n",
       " <__main__.Vertex at 0x104d3a828>: False}"
      ]
     },
     "execution_count": 33,
     "metadata": {},
     "output_type": "execute_result"
    }
   ],
   "source": [
    "visited"
   ]
  },
  {
   "cell_type": "code",
   "execution_count": 115,
   "metadata": {
    "collapsed": true
   },
   "outputs": [],
   "source": [
    "visited = {vert.name:False for vert in graph.vertices}\n",
    "queue = []\n",
    "path = []\n",
    "def bfs(G):\n",
    "    for vertex in G.vertices:\n",
    "        if not visited[vertex.name]:\n",
    "            print(visited,vertex.name)\n",
    "            explore(vertex)\n",
    "def explore(vertex):\n",
    "    queue.append(vertex)\n",
    "    while len(queue)>0:\n",
    "        v=queue.pop(0)\n",
    "        if visited[v.name]:\n",
    "            continue\n",
    "        \n",
    "        visited[v.name]=True\n",
    "        path.append(v.name)\n",
    "        \n",
    "        for vtx in v.edges:\n",
    "            \n",
    "            if not visited[vtx.name]:\n",
    "                queue.append(vtx)\n"
   ]
  },
  {
   "cell_type": "code",
   "execution_count": 116,
   "metadata": {},
   "outputs": [
    {
     "name": "stdout",
     "output_type": "stream",
     "text": [
      "{'a': False, 'b': False, 'c': False, 'd': False, 'e': False, 'f': False} a\n"
     ]
    }
   ],
   "source": [
    "bfs(graph)"
   ]
  },
  {
   "cell_type": "code",
   "execution_count": 117,
   "metadata": {},
   "outputs": [
    {
     "name": "stdout",
     "output_type": "stream",
     "text": [
      "{'a': True, 'b': True, 'c': True, 'd': True, 'e': True, 'f': True} ['a', 'b', 'e', 'c', 'd', 'f']\n"
     ]
    }
   ],
   "source": [
    "print(visited,path)"
   ]
  },
  {
   "cell_type": "code",
   "execution_count": null,
   "metadata": {
    "collapsed": true
   },
   "outputs": [],
   "source": []
  }
 ],
 "metadata": {
  "kernelspec": {
   "display_name": "Python 3",
   "language": "python",
   "name": "python3"
  },
  "language_info": {
   "codemirror_mode": {
    "name": "ipython",
    "version": 3
   },
   "file_extension": ".py",
   "mimetype": "text/x-python",
   "name": "python",
   "nbconvert_exporter": "python",
   "pygments_lexer": "ipython3",
   "version": "3.6.1"
  }
 },
 "nbformat": 4,
 "nbformat_minor": 2
}
