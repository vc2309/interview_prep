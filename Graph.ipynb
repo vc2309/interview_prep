{
 "cells": [
  {
   "cell_type": "code",
   "execution_count": 1,
   "metadata": {
    "collapsed": true
   },
   "outputs": [],
   "source": [
    "class Graph(object):\n",
    "    def __init__(self):\n",
    "        self.graph = {}\n",
    "    def add_vertex(self,name):\n",
    "        if not self.graph.get(name):\n",
    "            self.graph[name]=[]\n",
    "    def add_edge(self,edge):\n",
    "        try:\n",
    "            self.graph[edge[0]].append(edge[1])\n",
    "        except Exception as e:\n",
    "            print(e)\n",
    "    def print_graph(self):\n",
    "        for V in self.graph.items():\n",
    "            print(V[0],end=\" : \")\n",
    "            for vert in V[1]:\n",
    "                print(vert,end=\" \")\n",
    "            print(\"\")\n",
    "    "
   ]
  },
  {
   "cell_type": "code",
   "execution_count": 2,
   "metadata": {},
   "outputs": [
    {
     "ename": "NameError",
     "evalue": "name 'Vertex' is not defined",
     "output_type": "error",
     "traceback": [
      "\u001b[0;31m---------------------------------------------------------------------------\u001b[0m",
      "\u001b[0;31mNameError\u001b[0m                                 Traceback (most recent call last)",
      "\u001b[0;32m<ipython-input-2-3b31314c2b26>\u001b[0m in \u001b[0;36m<module>\u001b[0;34m()\u001b[0m\n\u001b[1;32m      1\u001b[0m \u001b[0mnames\u001b[0m \u001b[0;34m=\u001b[0m \u001b[0;34m[\u001b[0m\u001b[0;34m\"a\"\u001b[0m\u001b[0;34m,\u001b[0m\u001b[0;34m\"b\"\u001b[0m\u001b[0;34m,\u001b[0m\u001b[0;34m\"c\"\u001b[0m\u001b[0;34m,\u001b[0m\u001b[0;34m\"d\"\u001b[0m\u001b[0;34m,\u001b[0m\u001b[0;34m\"e\"\u001b[0m\u001b[0;34m,\u001b[0m\u001b[0;34m\"f\"\u001b[0m\u001b[0;34m]\u001b[0m\u001b[0;34m\u001b[0m\u001b[0m\n\u001b[0;32m----> 2\u001b[0;31m \u001b[0mV\u001b[0m \u001b[0;34m=\u001b[0m \u001b[0;34m[\u001b[0m\u001b[0mVertex\u001b[0m\u001b[0;34m(\u001b[0m\u001b[0mname\u001b[0m\u001b[0;34m)\u001b[0m \u001b[0;32mfor\u001b[0m \u001b[0mname\u001b[0m \u001b[0;32min\u001b[0m \u001b[0mnames\u001b[0m\u001b[0;34m]\u001b[0m\u001b[0;34m\u001b[0m\u001b[0m\n\u001b[0m\u001b[1;32m      3\u001b[0m edges = [(V[0],V[1]),\n\u001b[1;32m      4\u001b[0m         \u001b[0;34m(\u001b[0m\u001b[0mV\u001b[0m\u001b[0;34m[\u001b[0m\u001b[0;36m0\u001b[0m\u001b[0;34m]\u001b[0m\u001b[0;34m,\u001b[0m\u001b[0mV\u001b[0m\u001b[0;34m[\u001b[0m\u001b[0;36m4\u001b[0m\u001b[0;34m]\u001b[0m\u001b[0;34m)\u001b[0m\u001b[0;34m,\u001b[0m\u001b[0;34m\u001b[0m\u001b[0m\n\u001b[1;32m      5\u001b[0m          \u001b[0;34m(\u001b[0m\u001b[0mV\u001b[0m\u001b[0;34m[\u001b[0m\u001b[0;36m1\u001b[0m\u001b[0;34m]\u001b[0m\u001b[0;34m,\u001b[0m\u001b[0mV\u001b[0m\u001b[0;34m[\u001b[0m\u001b[0;36m2\u001b[0m\u001b[0;34m]\u001b[0m\u001b[0;34m)\u001b[0m\u001b[0;34m,\u001b[0m\u001b[0;34m\u001b[0m\u001b[0m\n",
      "\u001b[0;32m<ipython-input-2-3b31314c2b26>\u001b[0m in \u001b[0;36m<listcomp>\u001b[0;34m(.0)\u001b[0m\n\u001b[1;32m      1\u001b[0m \u001b[0mnames\u001b[0m \u001b[0;34m=\u001b[0m \u001b[0;34m[\u001b[0m\u001b[0;34m\"a\"\u001b[0m\u001b[0;34m,\u001b[0m\u001b[0;34m\"b\"\u001b[0m\u001b[0;34m,\u001b[0m\u001b[0;34m\"c\"\u001b[0m\u001b[0;34m,\u001b[0m\u001b[0;34m\"d\"\u001b[0m\u001b[0;34m,\u001b[0m\u001b[0;34m\"e\"\u001b[0m\u001b[0;34m,\u001b[0m\u001b[0;34m\"f\"\u001b[0m\u001b[0;34m]\u001b[0m\u001b[0;34m\u001b[0m\u001b[0m\n\u001b[0;32m----> 2\u001b[0;31m \u001b[0mV\u001b[0m \u001b[0;34m=\u001b[0m \u001b[0;34m[\u001b[0m\u001b[0mVertex\u001b[0m\u001b[0;34m(\u001b[0m\u001b[0mname\u001b[0m\u001b[0;34m)\u001b[0m \u001b[0;32mfor\u001b[0m \u001b[0mname\u001b[0m \u001b[0;32min\u001b[0m \u001b[0mnames\u001b[0m\u001b[0;34m]\u001b[0m\u001b[0;34m\u001b[0m\u001b[0m\n\u001b[0m\u001b[1;32m      3\u001b[0m edges = [(V[0],V[1]),\n\u001b[1;32m      4\u001b[0m         \u001b[0;34m(\u001b[0m\u001b[0mV\u001b[0m\u001b[0;34m[\u001b[0m\u001b[0;36m0\u001b[0m\u001b[0;34m]\u001b[0m\u001b[0;34m,\u001b[0m\u001b[0mV\u001b[0m\u001b[0;34m[\u001b[0m\u001b[0;36m4\u001b[0m\u001b[0;34m]\u001b[0m\u001b[0;34m)\u001b[0m\u001b[0;34m,\u001b[0m\u001b[0;34m\u001b[0m\u001b[0m\n\u001b[1;32m      5\u001b[0m          \u001b[0;34m(\u001b[0m\u001b[0mV\u001b[0m\u001b[0;34m[\u001b[0m\u001b[0;36m1\u001b[0m\u001b[0;34m]\u001b[0m\u001b[0;34m,\u001b[0m\u001b[0mV\u001b[0m\u001b[0;34m[\u001b[0m\u001b[0;36m2\u001b[0m\u001b[0;34m]\u001b[0m\u001b[0;34m)\u001b[0m\u001b[0;34m,\u001b[0m\u001b[0;34m\u001b[0m\u001b[0m\n",
      "\u001b[0;31mNameError\u001b[0m: name 'Vertex' is not defined"
     ]
    }
   ],
   "source": [
    "names = [\"a\",\"b\",\"c\",\"d\",\"e\",\"f\"]\n",
    "V = [Vertex(name) for name in names]\n",
    "edges = [(V[0],V[1]),\n",
    "        (V[0],V[4]),\n",
    "         (V[1],V[2]),\n",
    "         (V[1],V[4]),\n",
    "         (V[4],V[2]),\n",
    "         (V[3],V[5]),\n",
    "         (V[2],V[3])\n",
    "        ]\n",
    "for e in edges:\n",
    "    e[0].add_edge(e[1])"
   ]
  },
  {
   "cell_type": "code",
   "execution_count": 6,
   "metadata": {
    "collapsed": true
   },
   "outputs": [],
   "source": [
    "import random"
   ]
  },
  {
   "cell_type": "code",
   "execution_count": 7,
   "metadata": {
    "collapsed": true
   },
   "outputs": [],
   "source": [
    "for vert in V:\n",
    "    for i in range(random.randint(0,5)):\n",
    "        vert.add_edge(V[random.randint(0,5)])\n",
    "        "
   ]
  },
  {
   "cell_type": "code",
   "execution_count": 8,
   "metadata": {
    "collapsed": true
   },
   "outputs": [],
   "source": [
    "graph = Graph(V)"
   ]
  },
  {
   "cell_type": "code",
   "execution_count": 9,
   "metadata": {},
   "outputs": [
    {
     "name": "stdout",
     "output_type": "stream",
     "text": [
      "a : b e c a \n",
      "b : c e f d b \n",
      "c : d b c e f \n",
      "d : f b e c \n",
      "e : c f d \n",
      "f : d b a \n"
     ]
    }
   ],
   "source": [
    "graph.print_graph()"
   ]
  },
  {
   "cell_type": "code",
   "execution_count": 10,
   "metadata": {
    "collapsed": true
   },
   "outputs": [],
   "source": [
    "visited = {vert.name:False for vert in graph.vertices}\n",
    "queue = []\n",
    "def dfs(G):\n",
    "    for vertex in G.vertices:\n",
    "        if not visited[vertex.name]:\n",
    "            explore(vertex)\n",
    "            print(visited,queue)\n",
    "def explore(vertex):\n",
    "    visited[vertex.name]=True\n",
    "    queue.append(vertex.name)\n",
    "    for vert in vertex.edges:\n",
    "        if not visited[vert.name]:\n",
    "            explore(vert)\n",
    "            "
   ]
  },
  {
   "cell_type": "code",
   "execution_count": 11,
   "metadata": {},
   "outputs": [
    {
     "name": "stdout",
     "output_type": "stream",
     "text": [
      "{'a': True, 'b': True, 'c': True, 'd': True, 'e': True, 'f': True} ['a', 'b', 'c', 'd', 'f', 'e']\n"
     ]
    }
   ],
   "source": [
    "dfs(graph)"
   ]
  },
  {
   "cell_type": "code",
   "execution_count": 12,
   "metadata": {},
   "outputs": [
    {
     "data": {
      "text/plain": [
       "{'a': True, 'b': True, 'c': True, 'd': True, 'e': True, 'f': True}"
      ]
     },
     "execution_count": 12,
     "metadata": {},
     "output_type": "execute_result"
    }
   ],
   "source": [
    "visited"
   ]
  },
  {
   "cell_type": "code",
   "execution_count": 115,
   "metadata": {
    "collapsed": true
   },
   "outputs": [],
   "source": [
    "visited = {vert.name:False for vert in graph.vertices}\n",
    "queue = []\n",
    "path = []\n",
    "def bfs(G):\n",
    "    for vertex in G.vertices:\n",
    "        if not visited[vertex.name]:\n",
    "            print(visited,vertex.name)\n",
    "            explore(vertex)\n",
    "def explore(vertex):\n",
    "    queue.append(vertex)\n",
    "    while len(queue)>0:\n",
    "        v=queue.pop(0)\n",
    "        if visited[v.name]:\n",
    "            continue\n",
    "        \n",
    "        visited[v.name]=True\n",
    "        path.append(v.name)\n",
    "        \n",
    "        for vtx in v.edges:\n",
    "            \n",
    "            if not visited[vtx.name]:\n",
    "                queue.append(vtx)\n"
   ]
  },
  {
   "cell_type": "code",
   "execution_count": 116,
   "metadata": {},
   "outputs": [
    {
     "name": "stdout",
     "output_type": "stream",
     "text": [
      "{'a': False, 'b': False, 'c': False, 'd': False, 'e': False, 'f': False} a\n"
     ]
    }
   ],
   "source": [
    "bfs(graph)"
   ]
  },
  {
   "cell_type": "code",
   "execution_count": 117,
   "metadata": {},
   "outputs": [
    {
     "name": "stdout",
     "output_type": "stream",
     "text": [
      "{'a': True, 'b': True, 'c': True, 'd': True, 'e': True, 'f': True} ['a', 'b', 'e', 'c', 'd', 'f']\n"
     ]
    }
   ],
   "source": [
    "print(visited,path)"
   ]
  },
  {
   "cell_type": "code",
   "execution_count": 62,
   "metadata": {
    "collapsed": true
   },
   "outputs": [],
   "source": [
    "def previsit(v,pre,clock):\n",
    "    visited[v]=True\n",
    "    clock+=1\n",
    "    pre[v]=clock\n",
    "def postvisit(v,post,clock):\n",
    "    clock+=1\n",
    "    post[v]=clock\n",
    "def topo_sort_helper(G,v,visited,pre,post,clock):\n",
    "    previsit(v,pre,clock)\n",
    "    print(\"clock after\",visited)\n",
    "    for u in G.graph.get(v):\n",
    "        if not visited.get(u):\n",
    "            topo_sort_helper(G,u,visited,pre,post,clock)\n",
    "    postvisit(v,post,clock)\n",
    "    \n",
    "def topo_sort(G):\n",
    "    pre={}\n",
    "    post={}\n",
    "    visited={}\n",
    "    clock=0\n",
    "    for vertex in G.graph.keys():\n",
    "        if not visited.get(vertex):\n",
    "            topo_sort_helper(G,vertex,visited,pre,post,clock)\n",
    "    order = [(i[0],i[1]) for i in post.items() ]\n",
    "    order = sorted(order,key= lambda x:x[1],reverse=True)\n",
    "    print(order)"
   ]
  },
  {
   "cell_type": "code",
   "execution_count": 47,
   "metadata": {
    "collapsed": true
   },
   "outputs": [],
   "source": [
    "G= Graph()"
   ]
  },
  {
   "cell_type": "code",
   "execution_count": 49,
   "metadata": {
    "collapsed": true
   },
   "outputs": [],
   "source": [
    "# import unichar\n",
    "verts = [chr(i) for i in range(65,72)]\n",
    "for i in verts:\n",
    "    G.add_vertex(i)\n",
    "edges = [ (\"A\",\"F\"), (\"B\",\"D\"),(\"B\",\"F\") ,(\"B\",\"C\"), (\"C\",\"E\"), (\"C\",\"F\"), (\"F\",\"D\"), (\"C\",\"D\"), (\"D\",\"E\")]\n",
    "for edge in edges:\n",
    "    G.add_edge(edge)"
   ]
  },
  {
   "cell_type": "code",
   "execution_count": 50,
   "metadata": {},
   "outputs": [
    {
     "name": "stdout",
     "output_type": "stream",
     "text": [
      "A\n",
      "F\n",
      "D\n",
      "E\n",
      "B\n",
      "C\n",
      "G\n"
     ]
    }
   ],
   "source": [
    "iterative_dfs(G)"
   ]
  },
  {
   "cell_type": "code",
   "execution_count": 89,
   "metadata": {
    "collapsed": true
   },
   "outputs": [],
   "source": [
    "def iterative_dfs(G,d):\n",
    "    visited = {}\n",
    "    for v in G.graph.keys():\n",
    "        path = []\n",
    "        if visited.get(v):\n",
    "            continue\n",
    "        stack = []\n",
    "        \n",
    "        stack.append(v)\n",
    "        while len(stack):\n",
    "            u = stack.pop()\n",
    "            path.append(u)\n",
    "            if u==d:\n",
    "                print(path)\n",
    "#             path.pop()\n",
    "#             print(u)\n",
    "            visited[u] = True\n",
    "            for child in G.graph.get(u):\n",
    "                if not visited.get(child):\n",
    "                    stack.append(child)\n",
    "            path.pop()\n",
    "            visited[u] = False"
   ]
  },
  {
   "cell_type": "code",
   "execution_count": 85,
   "metadata": {
    "collapsed": true
   },
   "outputs": [],
   "source": [
    "\n",
    "def helper(G,s,d,visited,path,paths):\n",
    "    if s==d:\n",
    "        path.append(s)\n",
    "        print(path)\n",
    "        paths.append(path.copy())\n",
    "    else:\n",
    "        visited[s]=True\n",
    "        path.append(s)\n",
    "        for child in G.graph.get(s):\n",
    "            if not visited.get(child):\n",
    "                helper(G,child,d,visited,path,paths)\n",
    "    path.pop()\n",
    "    visited[s]=False\n",
    "def all_paths(G,s,d):\n",
    "    path = []\n",
    "    paths = []\n",
    "    helper(G,s,d,{},path,paths)\n",
    "    print(paths)\n",
    "    "
   ]
  },
  {
   "cell_type": "code",
   "execution_count": 90,
   "metadata": {},
   "outputs": [
    {
     "name": "stdout",
     "output_type": "stream",
     "text": [
      "['D']\n",
      "['D']\n",
      "['D']\n",
      "['D']\n",
      "['D']\n",
      "['D']\n",
      "['D']\n",
      "['D']\n",
      "['D']\n"
     ]
    }
   ],
   "source": [
    "iterative_dfs(G,\"D\")"
   ]
  },
  {
   "cell_type": "code",
   "execution_count": 35,
   "metadata": {},
   "outputs": [
    {
     "name": "stdout",
     "output_type": "stream",
     "text": [
      "A : F \n",
      "B : D C \n",
      "C : E F D \n",
      "D : E \n",
      "E : \n",
      "F : D \n",
      "G : \n"
     ]
    }
   ],
   "source": [
    "G.print_graph()"
   ]
  },
  {
   "cell_type": "code",
   "execution_count": 101,
   "metadata": {
    "collapsed": true
   },
   "outputs": [],
   "source": [
    "def all_paths_helper(G,s,v,path,visited,paths):\n",
    "    if s==v:\n",
    "        path.append(s)\n",
    "        print (path)\n",
    "        paths.append(path)\n",
    "        return True\n",
    "    else:\n",
    "        visited[s]=True\n",
    "        path.append(s)\n",
    "        for u in G.graph[s]:\n",
    "            if not visited.get(u):\n",
    "                if all_paths_helper(G,u,v,path,visited,paths):\n",
    "                    path.pop()\n",
    "                    continue\n",
    "        path.pop()\n",
    "        visited[s]=False\n",
    "def all_paths(G,s,v):\n",
    "    visited = {}\n",
    "    path = []\n",
    "    paths=[]\n",
    "    all_paths_helper(G,s,v,path,visited,paths)\n",
    "    print(paths)"
   ]
  },
  {
   "cell_type": "code",
   "execution_count": 78,
   "metadata": {},
   "outputs": [
    {
     "name": "stdout",
     "output_type": "stream",
     "text": [
      "['B', 'D']\n",
      "['B', 'F', 'D']\n",
      "['B', 'C', 'F', 'D']\n",
      "['B', 'C', 'D']\n"
     ]
    }
   ],
   "source": [
    "printAllPaths(G,\"B\",\"D\")"
   ]
  },
  {
   "cell_type": "code",
   "execution_count": 77,
   "metadata": {
    "collapsed": true
   },
   "outputs": [],
   "source": [
    "def printAllPathsUtil(G,u, d, visited, path): \n",
    "\n",
    "    # Mark the current node as visited and store in path \n",
    "    visited[u]= True\n",
    "    path.append(u) \n",
    "\n",
    "    # If current vertex is same as destination, then print \n",
    "    # current path[] \n",
    "    if u ==d: \n",
    "        print (path )\n",
    "    else: \n",
    "        # If current vertex is not destination \n",
    "        #Recur for all the vertices adjacent to this vertex \n",
    "        for i in G.graph[u]: \n",
    "            if visited[i]==False: \n",
    "                printAllPathsUtil(G,i, d, visited, path) \n",
    "\n",
    "    # Remove current vertex from path[] and mark it as unvisited \n",
    "    path.pop() \n",
    "    visited[u]= False\n",
    "\n",
    "\n",
    "# Prints all paths from 's' to 'd' \n",
    "def printAllPaths(G,s, d):\n",
    "    visited ={i:False for i in G.graph.keys()}\n",
    "\n",
    "    # Create an array to store paths \n",
    "    path = [] \n",
    "\n",
    "    # Call the recursive helper function to print all paths \n",
    "    printAllPathsUtil(G,s, d,visited, path) "
   ]
  },
  {
   "cell_type": "code",
   "execution_count": 182,
   "metadata": {
    "collapsed": true
   },
   "outputs": [],
   "source": [
    "class Heap(object):\n",
    "    def __init__(self):\n",
    "        self.heap = [0]\n",
    "        self.size = 0\n",
    "    \n",
    "    def parent(self,i):\n",
    "        if i>1:\n",
    "            return self.heap[i//2]\n",
    "        else:\n",
    "            return float(\"inf\")\n",
    "    def bubble_up(self,val):\n",
    "        self.heap.append(val)\n",
    "        self.size+=1\n",
    "        i=self.size\n",
    "        while i>1:\n",
    "            if val<self.parent(i):\n",
    "                self.heap[i//2],self.heap[i]=self.heap[i],self.heap[i//2]\n",
    "                i=i//2\n",
    "            else:\n",
    "                break\n",
    "    def insert(self,val):\n",
    "        self.bubble_up(val)\n",
    "    def min_child(self,i):\n",
    "        if (i*2)+1>self.size:\n",
    "            return i*2\n",
    "        if self.heap[i*2]<self.heap[(i*2)+1]:\n",
    "            return i*2\n",
    "        return (i*2)+1\n",
    "            \n",
    "    def bubble_down(self,i):\n",
    "        while i<=self.size//2:\n",
    "            idx = self.min_child(i)\n",
    "            if self.heap[idx]<self.heap[i]:\n",
    "                self.heap[idx],self.heap[i] = self.heap[i],self.heap[idx]\n",
    "                i=idx\n",
    "            else:\n",
    "                break\n",
    "                \n",
    "    \n",
    "    def extract_min(self):\n",
    "        if not self.size:\n",
    "            print(\"heap emtpy\")\n",
    "            return\n",
    "        min_ = self.heap[1]\n",
    "        end = self.heap.pop()\n",
    "        self.size-=1\n",
    "        if self.size:\n",
    "            self.heap[1] = end\n",
    "            self.bubble_down(1)\n",
    "        return min_"
   ]
  },
  {
   "cell_type": "code",
   "execution_count": 183,
   "metadata": {
    "collapsed": true
   },
   "outputs": [],
   "source": [
    "h = Heap()"
   ]
  },
  {
   "cell_type": "code",
   "execution_count": 193,
   "metadata": {
    "collapsed": true
   },
   "outputs": [],
   "source": [
    "h.insert(10)\n",
    "h.insert(100)\n",
    "h.insert(1)\n",
    "h.insert(10)\n",
    "h.insert(-1)"
   ]
  },
  {
   "cell_type": "code",
   "execution_count": 194,
   "metadata": {},
   "outputs": [
    {
     "data": {
      "text/plain": [
       "[0, -1, 1, 1, 100, 10, 10, 10]"
      ]
     },
     "execution_count": 194,
     "metadata": {},
     "output_type": "execute_result"
    }
   ],
   "source": [
    "h.heap"
   ]
  },
  {
   "cell_type": "code",
   "execution_count": 202,
   "metadata": {},
   "outputs": [
    {
     "name": "stdout",
     "output_type": "stream",
     "text": [
      "heap emtpy\n"
     ]
    }
   ],
   "source": [
    "h.extract_min()"
   ]
  },
  {
   "cell_type": "code",
   "execution_count": 273,
   "metadata": {
    "collapsed": true
   },
   "outputs": [],
   "source": [
    "def eliminate_consecutive_dups(str_):\n",
    "    start = 0\n",
    "    end = start+1\n",
    "    str_ = list(str_)\n",
    "    n = len(str_)\n",
    "    last_word = curr_word = \"\"\n",
    "    idxs = []\n",
    "    while end<n:\n",
    "        curr_word=\"\"\n",
    "#         print(last_word)\n",
    "        i=j=start\n",
    "        #j is the beginning of the new word\n",
    "        while(i<n):\n",
    "            if str_[i]==\" \":\n",
    "                break\n",
    "            curr_word+=str_[i]\n",
    "            i+=1\n",
    "        #i is now at a space\n",
    "        \n",
    "        #if it's a duplicate of last word\n",
    "        if curr_word == last_word:\n",
    "            for idx in range(j,i+1):\n",
    "                try:\n",
    "#                     print(\"deleting\",str_[j])\n",
    "                    del str_[j]\n",
    "                except Exception as e:\n",
    "                    pass\n",
    "            n -=(i+1-j)\n",
    "            i=j #set next starting point to starting of next word\n",
    "        \n",
    "        else:\n",
    "            last_word = curr_word\n",
    "            i+=1\n",
    "        start = i\n",
    "        end = start+1\n",
    "    return ''.join(str_)"
   ]
  },
  {
   "cell_type": "code",
   "execution_count": 275,
   "metadata": {},
   "outputs": [
    {
     "data": {
      "text/plain": [
       "'hello i am vishnu ok man '"
      ]
     },
     "execution_count": 275,
     "metadata": {},
     "output_type": "execute_result"
    }
   ],
   "source": [
    "eliminate_consecutive_dups(\"hello i i am vishnu vishnu ok ok man man\")"
   ]
  },
  {
   "cell_type": "code",
   "execution_count": 295,
   "metadata": {
    "collapsed": true
   },
   "outputs": [],
   "source": [
    "def reverse_words(str_):\n",
    "    start = 0\n",
    "    end = start+1\n",
    "    n = len(str_)\n",
    "    str_ = list(str_)\n",
    "    #increment the end pointer to expand a sliding window and fit to each word (till we hit a whitespace)\n",
    "    #then reverse the word inplace\n",
    "    # set start to the index of the next space\n",
    "    \n",
    "    while (end<=n):\n",
    "        i=j=start\n",
    "        while(i<=n-1 and str_[i]!=\" \"):\n",
    "            i+=1\n",
    "        #starting point for the next word\n",
    "        start=i+1\n",
    "        end=start+1\n",
    "        \n",
    "        i-=1\n",
    "        #now we reverse chars b/w j-->i\n",
    "        print(j,i)\n",
    "        while j<i:\n",
    "            str_[j],str_[i]=str_[i],str_[j]\n",
    "            j+=1\n",
    "            i-=1\n",
    "#         print(start,end)\n",
    "    return ''.join(str_)"
   ]
  },
  {
   "cell_type": "code",
   "execution_count": 297,
   "metadata": {},
   "outputs": [
    {
     "name": "stdout",
     "output_type": "stream",
     "text": [
      "0 4\n",
      "6 7\n",
      "9 12\n",
      "14 15\n",
      "17 22\n",
      "24 25\n",
      "27 29\n",
      "31 36\n",
      "38 43\n",
      "45 48\n",
      "50 54\n",
      "56 63\n",
      "65 65\n",
      "67 66\n",
      "68 67\n",
      "69 68\n"
     ]
    },
    {
     "data": {
      "text/plain": [
       "'olleh ym eman si unhsiv ih sti unhsiv unhsiv yako yddub adohcnab .    '"
      ]
     },
     "execution_count": 297,
     "metadata": {},
     "output_type": "execute_result"
    }
   ],
   "source": [
    "reverse_words(\"hello my name is vishnu hi its vishnu vishnu okay buddy banchoda .    \")"
   ]
  },
  {
   "cell_type": "code",
   "execution_count": 325,
   "metadata": {
    "collapsed": true
   },
   "outputs": [],
   "source": [
    "def find_max_rotated(arr):\n",
    "    l=0\n",
    "    r=len(arr)-1\n",
    "    while l<r:\n",
    "        if arr[l]<arr[r]:\n",
    "            return arr[r]\n",
    "        else:\n",
    "            m = ceil((l+r)//2)\n",
    "            if arr[m]>arr[l]:\n",
    "                l=m\n",
    "            else:\n",
    "                r=m\n",
    "            \n",
    "    return arr[r]"
   ]
  },
  {
   "cell_type": "code",
   "execution_count": 322,
   "metadata": {},
   "outputs": [
    {
     "data": {
      "text/plain": [
       "6"
      ]
     },
     "execution_count": 322,
     "metadata": {},
     "output_type": "execute_result"
    }
   ],
   "source": [
    "from math import ceil\n",
    "ceil(5.5)"
   ]
  },
  {
   "cell_type": "code",
   "execution_count": 332,
   "metadata": {},
   "outputs": [
    {
     "data": {
      "text/plain": [
       "6"
      ]
     },
     "execution_count": 332,
     "metadata": {},
     "output_type": "execute_result"
    }
   ],
   "source": [
    "find_max_rotated([3,4,4,5,6,1,2,3,3,3])"
   ]
  },
  {
   "cell_type": "code",
   "execution_count": 11,
   "metadata": {
    "collapsed": true
   },
   "outputs": [],
   "source": [
    "def pre_visit(v,clock,pre,visited):\n",
    "    visited[v]=True\n",
    "    clock+=1\n",
    "    pre[v]=clock\n",
    "    return clock\n",
    "def post_visit(v,clock,post):\n",
    "    clock+=1\n",
    "    post[v]=clock\n",
    "    return clock\n",
    "\n",
    "def iterative_dfs(G):\n",
    "    visited = {}\n",
    "    pre = {}\n",
    "    post = {}\n",
    "    clock = 0\n",
    "    recStack = []\n",
    "    for v in G.graph.keys():\n",
    "        if not visited.get(v):\n",
    "            recStack.insert(0,v)\n",
    "            \n",
    "            while len(recStack):\n",
    "                curr = recStack.pop(0)\n",
    "                if visited.get(curr):\n",
    "                    continue\n",
    "                clock=pre_visit(curr,clock,pre,visited)\n",
    "                \n",
    "                print(curr)\n",
    "                for chile in G.graph[curr]:\n",
    "                    if not visited.get(chile):\n",
    "                        recStack.insert(0,chile)\n",
    "                clock=post_visit(curr,clock,post)\n",
    "                \n",
    "    "
   ]
  },
  {
   "cell_type": "code",
   "execution_count": 12,
   "metadata": {},
   "outputs": [
    {
     "name": "stdout",
     "output_type": "stream",
     "text": [
      "A\n",
      "B\n",
      "C\n",
      "D\n",
      "E\n",
      "F\n",
      "G\n"
     ]
    }
   ],
   "source": [
    "iterative_dfs(G)\n"
   ]
  },
  {
   "cell_type": "code",
   "execution_count": 10,
   "metadata": {},
   "outputs": [
    {
     "name": "stdout",
     "output_type": "stream",
     "text": [
      "A : B \n",
      "B : D C \n",
      "C : E F D \n",
      "D : E \n",
      "E : \n",
      "F : D \n",
      "G : \n"
     ]
    }
   ],
   "source": [
    "G.print_graph()"
   ]
  },
  {
   "cell_type": "code",
   "execution_count": 37,
   "metadata": {
    "collapsed": true
   },
   "outputs": [],
   "source": [
    "def bfs_util(G,s,visited):\n",
    "    queue=[s]\n",
    "    while queue:\n",
    "        cur = queue.pop(0)\n",
    "        if not visited.get(cur):\n",
    "            visited[cur] = True\n",
    "            print(cur)\n",
    "        for u in G.graph[cur]:\n",
    "            if not visited.get(u):\n",
    "#                 print(cur,u)\n",
    "                queue.append(u)\n",
    "#             else:\n",
    "#                 print(\"cycle at\",cur,u)"
   ]
  },
  {
   "cell_type": "code",
   "execution_count": 38,
   "metadata": {
    "collapsed": true
   },
   "outputs": [],
   "source": [
    "def bfs(G):\n",
    "    visited = {}\n",
    "    for i in G.graph.keys():\n",
    "        if not visited.get(i):\n",
    "            bfs_util(G,i,visited)"
   ]
  },
  {
   "cell_type": "code",
   "execution_count": 39,
   "metadata": {},
   "outputs": [
    {
     "name": "stdout",
     "output_type": "stream",
     "text": [
      "A : B \n",
      "B : A D C \n",
      "C : B E F D \n",
      "D : B F C E \n",
      "E : C D \n",
      "F : C D \n",
      "G : \n"
     ]
    }
   ],
   "source": [
    "G2.print_graph()"
   ]
  },
  {
   "cell_type": "code",
   "execution_count": 40,
   "metadata": {},
   "outputs": [
    {
     "name": "stdout",
     "output_type": "stream",
     "text": [
      "A\n",
      "B\n",
      "D\n",
      "C\n",
      "F\n",
      "E\n"
     ]
    }
   ],
   "source": [
    "bfs_util(G2,\"A\",{})"
   ]
  },
  {
   "cell_type": "code",
   "execution_count": 21,
   "metadata": {
    "collapsed": true
   },
   "outputs": [],
   "source": [
    "G2=Graph()\n",
    "verts = [chr(i) for i in range(65,72)]\n",
    "for i in verts:\n",
    "    G2.add_vertex(i)\n",
    "edges = [ (\"A\",\"B\"),(\"B\",\"A\"), (\"B\",\"D\"),(\"D\",\"B\"), (\"B\",\"C\"),(\"C\",\"B\") ,(\"C\",\"E\"),(\"E\",\"C\") ,(\"C\",\"F\"),(\"F\",\"C\"), (\"F\",\"D\"),(\"D\",\"F\"),(\"D\",\"C\") ,(\"C\",\"D\"), (\"D\",\"E\"),(\"E\",\"D\")]         \n",
    "for edge in edges:\n",
    "    G2.add_edge(edge)"
   ]
  },
  {
   "cell_type": "code",
   "execution_count": 22,
   "metadata": {},
   "outputs": [
    {
     "name": "stdout",
     "output_type": "stream",
     "text": [
      "A : B \n",
      "B : A D C \n",
      "C : B E F D \n",
      "D : B F C E \n",
      "E : C D \n",
      "F : C D \n",
      "G : \n"
     ]
    }
   ],
   "source": [
    "G2.print_graph()"
   ]
  },
  {
   "cell_type": "code",
   "execution_count": 23,
   "metadata": {},
   "outputs": [
    {
     "name": "stdout",
     "output_type": "stream",
     "text": [
      "cycle at B A\n",
      "cycle at D B\n",
      "cycle at C B\n",
      "cycle at C D\n",
      "cycle at F C\n",
      "cycle at F D\n",
      "cycle at C B\n",
      "cycle at C F\n",
      "cycle at C D\n",
      "cycle at E C\n",
      "cycle at E D\n",
      "cycle at E C\n",
      "cycle at E D\n",
      "cycle at F C\n",
      "cycle at F D\n",
      "cycle at E C\n",
      "cycle at E D\n"
     ]
    }
   ],
   "source": []
  },
  {
   "cell_type": "code",
   "execution_count": 62,
   "metadata": {
    "collapsed": true
   },
   "outputs": [],
   "source": [
    "class Node(object):\n",
    "    def __init__(self,val):\n",
    "        self.val=val\n",
    "        self.next=None\n",
    "class LinkedList(object):\n",
    "    def __init__(self):\n",
    "        self.head=None\n",
    "        self.size=0\n",
    "    def push(self,val):\n",
    "        if not self.size:\n",
    "            self.head =Node(val)\n",
    "            self.size+=1\n",
    "        else:\n",
    "            curr = self.head\n",
    "            while curr.next:\n",
    "                curr=curr.next\n",
    "            curr.next=Node(val)\n",
    "            self.size+=1\n",
    "    def print_(self):\n",
    "        curr=self.head\n",
    "        while curr:\n",
    "            print(curr.val,end=\" \")\n",
    "            curr=curr.next\n",
    "        \n",
    "    \n",
    "def reverse_list(ll):\n",
    "    prev= ll\n",
    "    if not ll.next:\n",
    "        return ll\n",
    "    curr = prev.next\n",
    "    prev.next = None\n",
    "    while curr:\n",
    "        nxt = curr.next\n",
    "        curr.next=prev\n",
    "        prev=curr\n",
    "        curr=nxt\n",
    "    return prev\n",
    "    "
   ]
  },
  {
   "cell_type": "code",
   "execution_count": 63,
   "metadata": {
    "collapsed": true
   },
   "outputs": [],
   "source": [
    "LL = LinkedList()"
   ]
  },
  {
   "cell_type": "code",
   "execution_count": 68,
   "metadata": {
    "collapsed": true
   },
   "outputs": [],
   "source": [
    "LL.push(1)\n",
    "LL.push(2)\n",
    "LL.push(3)\n",
    "LL.push(4)\n",
    "LL.push(5)\n",
    "LL.push(6)"
   ]
  },
  {
   "cell_type": "code",
   "execution_count": 69,
   "metadata": {},
   "outputs": [
    {
     "name": "stdout",
     "output_type": "stream",
     "text": [
      "1 1 2 3 4 5 6 "
     ]
    }
   ],
   "source": [
    "LL.print_()"
   ]
  },
  {
   "cell_type": "code",
   "execution_count": 70,
   "metadata": {
    "collapsed": true
   },
   "outputs": [],
   "source": [
    "LL.head=reverse_list(LL.head)"
   ]
  },
  {
   "cell_type": "code",
   "execution_count": 71,
   "metadata": {},
   "outputs": [
    {
     "name": "stdout",
     "output_type": "stream",
     "text": [
      "6 5 4 3 2 1 1 "
     ]
    }
   ],
   "source": [
    "LL.print_()"
   ]
  },
  {
   "cell_type": "code",
   "execution_count": 84,
   "metadata": {
    "collapsed": true
   },
   "outputs": [],
   "source": [
    "def top_k(arr_,k):\n",
    "    n = len(arr_)\n",
    "    for i in range(n):\n",
    "        for j in range(n-i-1):\n",
    "            if arr_[j]>arr_[j+1]:\n",
    "                arr_[j],arr_[j+1] = arr_[j+1],arr_[j]\n",
    "    print(arr_)"
   ]
  },
  {
   "cell_type": "code",
   "execution_count": 85,
   "metadata": {},
   "outputs": [
    {
     "name": "stdout",
     "output_type": "stream",
     "text": [
      "[-1, 1, 2, 4, 9, 12, 16, 24, 30, 31, 99]\n"
     ]
    }
   ],
   "source": [
    "top_k([1,4,31,2,12,9,24,99,-1,30,16],3)"
   ]
  },
  {
   "cell_type": "code",
   "execution_count": 1,
   "metadata": {
    "collapsed": true
   },
   "outputs": [],
   "source": [
    "def selection_sort(arr_):\n",
    "    n=len(arr_)\n",
    "    for i in range(n):\n",
    "        key = arr_[i]\n",
    "        pos = i\n",
    "        for j in range(i+1,n):\n",
    "            if arr_[j]<arr_[pos]:\n",
    "                pos=j\n",
    "        if arr_[pos]<arr_[i]:\n",
    "            arr_[i],arr_[pos]=arr_[pos],arr_[i]\n",
    "    return arr_"
   ]
  },
  {
   "cell_type": "code",
   "execution_count": 2,
   "metadata": {},
   "outputs": [
    {
     "data": {
      "text/plain": [
       "[-1, 1, 2, 4, 9, 12, 16, 24, 30, 31, 99]"
      ]
     },
     "execution_count": 2,
     "metadata": {},
     "output_type": "execute_result"
    }
   ],
   "source": [
    "selection_sort([1,4,31,2,12,9,24,99,-1,30,16])"
   ]
  },
  {
   "cell_type": "code",
   "execution_count": 5,
   "metadata": {
    "collapsed": true
   },
   "outputs": [],
   "source": [
    "def insertion_sort(arr_):\n",
    "    n=len(arr_)\n",
    "    for i in range(n):\n",
    "        key = arr_[i]\n",
    "        j=i-1\n",
    "        while(j>=0 and arr_[j]>key):\n",
    "            arr_[j+1]=arr_[j]\n",
    "            j-=1\n",
    "        arr_[j+1]=key\n",
    "    return arr_"
   ]
  },
  {
   "cell_type": "code",
   "execution_count": 79,
   "metadata": {},
   "outputs": [
    {
     "data": {
      "text/plain": [
       "[-1, 1, 2, 4, 9, 12, 16, 24, 30, 31, 699]"
      ]
     },
     "execution_count": 79,
     "metadata": {},
     "output_type": "execute_result"
    }
   ],
   "source": [
    "insertion_sort([1,4,31,2,12,9,24,699,-1,30,16])"
   ]
  },
  {
   "cell_type": "code",
   "execution_count": 7,
   "metadata": {
    "collapsed": true
   },
   "outputs": [],
   "source": [
    "def rotate_matrix(mtx):\n",
    "    n=len(mtx)\n",
    "    layers = n//2\n",
    "    \n",
    "    for layer in range(layers):\n",
    "        start = i = layer\n",
    "        end = n-layer-1\n",
    "        j=end\n",
    "        \n",
    "        while i<end:\n",
    "            \n",
    "            top_row = mtx[start][i]\n",
    "            right_col = mtx[i][end]\n",
    "            bottom_row = mtx[end][j]\n",
    "            left_col = mtx[j][start]\n",
    "            \n",
    "            mtx[start][i] = left_col\n",
    "            mtx[i][end] = top_row\n",
    "            mtx[end][j] = right_col\n",
    "            mtx[j][start] = bottom_row\n",
    "            \n",
    "            i+=1\n",
    "            j-=1\n",
    "    \n",
    "    for l in mtx:\n",
    "        print(l)\n",
    "            "
   ]
  },
  {
   "cell_type": "code",
   "execution_count": 10,
   "metadata": {},
   "outputs": [
    {
     "name": "stdout",
     "output_type": "stream",
     "text": [
      "[21, 17, 11, 6, 1]\n",
      "[22, 18, 12, 7, 2]\n",
      "[23, 19, 13, 8, 3]\n",
      "[24, 20, 15, 9, 4]\n",
      "[25, 21, 16, 10, 5]\n"
     ]
    }
   ],
   "source": [
    "mtx = [[1,2,3,4,5],[6,7,8,9,10],[11,12,13,15,16],[17,18,19,20,21],[21,22,23,24,25]]\n",
    "rotate_matrix(mtx)"
   ]
  },
  {
   "cell_type": "code",
   "execution_count": 23,
   "metadata": {
    "collapsed": true
   },
   "outputs": [],
   "source": [
    "def spiral_print(mtx):\n",
    "    n=len(mtx)\n",
    "    layers = n//2\n",
    "    \n",
    "    for layer in range(layers+1):\n",
    "        start=layer\n",
    "        end = n-layer-1\n",
    "        i=start\n",
    "        j=end\n",
    "        if start==end:\n",
    "            print(mtx[start][start])\n",
    "            break\n",
    "        #print top row\n",
    "        while(i<end):\n",
    "            print(mtx[start][i],end=\" \")\n",
    "            i+=1\n",
    "        \n",
    "        i=start\n",
    "        print(\"\")\n",
    "        #print right col\n",
    "        while(i<end):\n",
    "            print(mtx[i][end],end=\" \")\n",
    "            i+=1\n",
    "        \n",
    "        #print bottom row in reverse\n",
    "        print(\"\")\n",
    "        while(i>start):\n",
    "            print(mtx[end][i],end=\" \")\n",
    "            i-=1\n",
    "        i=end\n",
    "        #print left col in revers\n",
    "        print(\" \")\n",
    "        while(i>start):\n",
    "            print(mtx[i][start],end=\" \")\n",
    "            i-=1\n",
    "        print(\" \")"
   ]
  },
  {
   "cell_type": "code",
   "execution_count": 24,
   "metadata": {},
   "outputs": [
    {
     "name": "stdout",
     "output_type": "stream",
     "text": [
      "21 17 11 6 \n",
      "1 2 3 4 \n",
      "5 10 16 21  \n",
      "25 24 23 22  \n",
      "18 12 \n",
      "7 8 \n",
      "9 15  \n",
      "20 19  \n",
      "13\n"
     ]
    }
   ],
   "source": [
    "spiral_print(mtx)"
   ]
  },
  {
   "cell_type": "code",
   "execution_count": 53,
   "metadata": {
    "collapsed": true
   },
   "outputs": [],
   "source": [
    "def zero_matrix(mtx):\n",
    "    \n",
    "    num_rows = len(mtx)\n",
    "    num_cols = len(mtx[0])\n",
    "    for row in mtx:\n",
    "        print(row)\n",
    "        \n",
    "    zero_row = False\n",
    "    zero_col = False\n",
    "    for row in range(num_rows):\n",
    "        for col in range(num_cols):\n",
    "            if mtx[row][col]==0:\n",
    "                if row==0:\n",
    "                    zero_row=True\n",
    "                if col==0:\n",
    "                    zero_col=True\n",
    "                if row>0 and col>0:    \n",
    "                    mtx[row][0]=0\n",
    "                    mtx[0][col]=0\n",
    "    \n",
    "    for row in range(1,num_rows):\n",
    "        if mtx[row][0]==0:\n",
    "            for i in range(num_cols):\n",
    "                mtx[row][i]=0\n",
    "    for col in range(1,num_cols):\n",
    "        if mtx[0][col]==0:\n",
    "            for i in range(num_rows):\n",
    "                mtx[i][col]=0\n",
    "    if zero_row:\n",
    "        for i in range(num_cols):\n",
    "            mtx[0][i]=0\n",
    "    if zero_col:\n",
    "        for i in range(num_rows):\n",
    "            mtx[i][0]=0\n",
    "    \n",
    "    for row in mtx:\n",
    "        print(row)"
   ]
  },
  {
   "cell_type": "code",
   "execution_count": 54,
   "metadata": {},
   "outputs": [
    {
     "name": "stdout",
     "output_type": "stream",
     "text": [
      "[0, 0, 1, 1]\n",
      "[1, 1, 1, 1]\n",
      "[1, 1, 1, 1]\n",
      "[0, 0, 0, 0]\n",
      "[0, 0, 1, 1]\n",
      "[0, 0, 1, 1]\n"
     ]
    }
   ],
   "source": [
    "zr = [[0,0,1,1],[1,1,1,1],[1,1,1,1]\n",
    "     ]\n",
    "zero_matrix(zr)"
   ]
  },
  {
   "cell_type": "code",
   "execution_count": 2,
   "metadata": {
    "collapsed": true
   },
   "outputs": [],
   "source": [
    "def min_dist(str_,char):\n",
    "    n = len(str_)\n",
    "    positions = []\n",
    "    for i,c in enumerate(str_):\n",
    "        if c==char:\n",
    "            positions.append(i)\n",
    "    \n",
    "    memo = [0 if i==char else float(\"inf\") for i in str_]\n",
    "    \n",
    "    for pos in positions:\n",
    "        #expand towards right\n",
    "        r=pos+1\n",
    "        while r<n and str_[r]!=char:\n",
    "            memo[r]=min(memo[r],1+memo[r-1])\n",
    "            r+=1\n",
    "        l=pos-1\n",
    "        while l>=0 and str_[l]!=char:\n",
    "            memo[l]=min(memo[l],1+memo[l+1])\n",
    "            l-=1\n",
    "    print (memo)"
   ]
  },
  {
   "cell_type": "code",
   "execution_count": 3,
   "metadata": {},
   "outputs": [
    {
     "name": "stdout",
     "output_type": "stream",
     "text": [
      "[0, 1, 2, 2, 1, 0, 1, 2, 3]\n",
      "CPU times: user 7 µs, sys: 2 µs, total: 9 µs\n",
      "Wall time: 16.7 µs\n"
     ]
    }
   ],
   "source": [
    "min_dist(\"BLOOMBERG\",\"B\")\n",
    "%time"
   ]
  },
  {
   "cell_type": "code",
   "execution_count": 1,
   "metadata": {
    "collapsed": true
   },
   "outputs": [],
   "source": [
    "class Node(object):\n",
    "    def __init__(self,name):\n",
    "        self.name = name\n",
    "        self.left = None\n",
    "        self.right = None"
   ]
  },
  {
   "cell_type": "code",
   "execution_count": 6,
   "metadata": {
    "collapsed": true
   },
   "outputs": [],
   "source": [
    "a = Node('a')\n",
    "a.left = Node('b')\n",
    "a.left.left = Node('x')\n",
    "a.left.right = Node('y')\n",
    "a.right = Node('c')\n",
    "a.right.left = Node('d')\n",
    "a.right.right = Node('e')\n",
    "a.right.left.left = Node('f')\n",
    "a.right.left.left.left = Node('g')"
   ]
  },
  {
   "cell_type": "code",
   "execution_count": 10,
   "metadata": {
    "collapsed": true
   },
   "outputs": [],
   "source": [
    "def col_helper(node,cols,col_no):\n",
    "    if not node:\n",
    "        return\n",
    "    if not cols.get(col_no):\n",
    "        cols[col_no]=[]\n",
    "    cols[col_no].append(node.name)\n",
    "    \n",
    "    col_helper(node.left,cols,col_no-1)\n",
    "    col_helper(node.right,cols,col_no+1)\n",
    "def column(tree):\n",
    "    cols = {}\n",
    "    col_helper(tree,cols,0)\n",
    "    min_col = min(cols.keys())\n",
    "    max_col = max(cols.keys())\n",
    "    while min_col <= max_col:\n",
    "        c = cols.get(min_col)\n",
    "        if c:\n",
    "            print (c)\n",
    "        min_col+=1"
   ]
  },
  {
   "cell_type": "code",
   "execution_count": 11,
   "metadata": {},
   "outputs": [
    {
     "name": "stdout",
     "output_type": "stream",
     "text": [
      "['x', 'g']\n",
      "['b', 'f']\n",
      "['a', 'y', 'd']\n",
      "['c']\n",
      "['e']\n"
     ]
    }
   ],
   "source": [
    "column(a)"
   ]
  },
  {
   "cell_type": "code",
   "execution_count": 1,
   "metadata": {
    "collapsed": true
   },
   "outputs": [],
   "source": [
    "a = [9,15,20,7,3]"
   ]
  },
  {
   "cell_type": "code",
   "execution_count": 5,
   "metadata": {},
   "outputs": [
    {
     "data": {
      "text/plain": [
       "[9, 15]"
      ]
     },
     "execution_count": 5,
     "metadata": {},
     "output_type": "execute_result"
    }
   ],
   "source": [
    "a[:2]"
   ]
  },
  {
   "cell_type": "code",
   "execution_count": 4,
   "metadata": {},
   "outputs": [
    {
     "data": {
      "text/plain": [
       "[15, 20, 7]"
      ]
     },
     "execution_count": 4,
     "metadata": {},
     "output_type": "execute_result"
    }
   ],
   "source": [
    "a[1:-1]"
   ]
  },
  {
   "cell_type": "code",
   "execution_count": null,
   "metadata": {
    "collapsed": true
   },
   "outputs": [],
   "source": []
  }
 ],
 "metadata": {
  "kernelspec": {
   "display_name": "Python 3",
   "language": "python",
   "name": "python3"
  },
  "language_info": {
   "codemirror_mode": {
    "name": "ipython",
    "version": 3
   },
   "file_extension": ".py",
   "mimetype": "text/x-python",
   "name": "python",
   "nbconvert_exporter": "python",
   "pygments_lexer": "ipython3",
   "version": "3.6.1"
  }
 },
 "nbformat": 4,
 "nbformat_minor": 2
}
