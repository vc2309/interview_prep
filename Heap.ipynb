{
 "cells": [
  {
   "cell_type": "code",
   "execution_count": 116,
   "metadata": {
    "collapsed": true
   },
   "outputs": [],
   "source": [
    "class Heap(object):\n",
    "    def __init__(self,arr=None):\n",
    "        if not arr:\n",
    "            self.heap = []\n",
    "            self.size = 0\n",
    "        else:\n",
    "            self.heap = buildHeap(arr)\n",
    "            self.size=len(arr)\n",
    "        \n",
    "    \n",
    "    def parent(self,i):\n",
    "        if i%2==0:\n",
    "            return int((i/2)-1)\n",
    "        return i//2\n",
    "    \n",
    "    def insert(self,val):\n",
    "        if not self.size:\n",
    "            self.heap.append(val)\n",
    "            self.size+=1\n",
    "        else:\n",
    "            self.heap.append(val)\n",
    "            self.size+=1\n",
    "            \n",
    "            i=self.size-1\n",
    "            while i>0:\n",
    "                pos = self.parent(i)\n",
    "                if self.heap[pos]>self.heap[i]:\n",
    "                    self.heap[pos],self.heap[i]=self.heap[i],self.heap[pos]\n",
    "                    i=pos\n",
    "                else:\n",
    "                    break\n",
    "    \n",
    "    def min_child(self,i):\n",
    "        if (i*2)+1>self.size:\n",
    "            return\n",
    "        else:\n",
    "            if self.size-1<(i*2)+2:\n",
    "                return (i*2)+1\n",
    "            min_ = (i*2)+1 if self.heap[(i*2)+1]<self.heap[(i*2)+2] else (i*2)+2\n",
    "            return min_\n",
    "    \n",
    "    def extract_min(self):\n",
    "        min_ = self.heap[0]\n",
    "        last = self.heap.pop()\n",
    "        self.size-=1\n",
    "        if not self.size:\n",
    "            print(\"empty heap\")\n",
    "            return min_\n",
    "        self.heap[0]=last\n",
    "        \n",
    "        i=0\n",
    "        while i<self.size//2:\n",
    "            pos = self.min_child(i)\n",
    "            if not pos:\n",
    "                break\n",
    "            print(self.heap[i],self.heap[pos])\n",
    "            if self.heap[pos]<self.heap[i]:\n",
    "                self.heap[pos],self.heap[i]=self.heap[i],self.heap[pos]\n",
    "                i=pos\n",
    "            else:\n",
    "                break\n",
    "        return min_"
   ]
  },
  {
   "cell_type": "code",
   "execution_count": 10,
   "metadata": {
    "collapsed": true
   },
   "outputs": [],
   "source": [
    "def heapify(arr, n, i): \n",
    "    largest = i # Initialize largest as root \n",
    "    l = 2 * i + 1     # left = 2*i + 1 \n",
    "    r = 2 * i + 2     # right = 2*i + 2 \n",
    "  \n",
    "    # See if left child of root exists and is \n",
    "    # greater than root \n",
    "    if l < n and arr[i] > arr[l]: \n",
    "        largest = l \n",
    "  \n",
    "    # See if right child of root exists and is \n",
    "    # greater than root \n",
    "    if r < n and arr[largest] > arr[r]: \n",
    "        largest = r \n",
    "  \n",
    "    # Change root, if needed \n",
    "    if largest != i: \n",
    "        arr[i],arr[largest] = arr[largest],arr[i] # swap \n",
    "  \n",
    "        # Heapify the root. \n",
    "        heapify(arr, n, largest)\n",
    "    print(arr)"
   ]
  },
  {
   "cell_type": "code",
   "execution_count": 117,
   "metadata": {
    "collapsed": true
   },
   "outputs": [],
   "source": [
    "a = [10,9,8,2,4,1,3]"
   ]
  },
  {
   "cell_type": "code",
   "execution_count": 101,
   "metadata": {},
   "outputs": [],
   "source": [
    "def buildHeap(a):\n",
    "    for i in range(len(a)//2,-1,-1):\n",
    "        heapify(a,len(a),i)\n",
    "    return a"
   ]
  },
  {
   "cell_type": "code",
   "execution_count": 83,
   "metadata": {},
   "outputs": [],
   "source": [
    "my_heap = Heap()\n",
    "my_heap.insert(1)\n",
    "my_heap.insert(3)\n",
    "my_heap.insert(2)\n",
    "my_heap.insert(4)\n",
    "my_heap.insert(5)\n",
    "my_heap.insert(-1)"
   ]
  },
  {
   "cell_type": "code",
   "execution_count": 96,
   "metadata": {},
   "outputs": [
    {
     "data": {
      "text/plain": [
       "[]"
      ]
     },
     "execution_count": 96,
     "metadata": {},
     "output_type": "execute_result"
    }
   ],
   "source": [
    "my_heap.heap"
   ]
  },
  {
   "cell_type": "code",
   "execution_count": 118,
   "metadata": {},
   "outputs": [
    {
     "name": "stdout",
     "output_type": "stream",
     "text": [
      "[10, 9, 8, 2, 4, 1, 3]\n",
      "[10, 9, 1, 2, 4, 8, 3]\n",
      "[10, 9, 1, 2, 4, 8, 3]\n",
      "[10, 2, 1, 9, 4, 8, 3]\n",
      "[10, 2, 1, 9, 4, 8, 3]\n",
      "[1, 2, 3, 9, 4, 8, 10]\n",
      "[1, 2, 3, 9, 4, 8, 10]\n",
      "[1, 2, 3, 9, 4, 8, 10]\n"
     ]
    }
   ],
   "source": [
    "my_heap=Heap(a)"
   ]
  },
  {
   "cell_type": "code",
   "execution_count": 125,
   "metadata": {},
   "outputs": [
    {
     "name": "stdout",
     "output_type": "stream",
     "text": [
      "empty heap\n"
     ]
    },
    {
     "data": {
      "text/plain": [
       "10"
      ]
     },
     "execution_count": 125,
     "metadata": {},
     "output_type": "execute_result"
    }
   ],
   "source": [
    "my_heap.extract_min()"
   ]
  },
  {
   "cell_type": "code",
   "execution_count": null,
   "metadata": {
    "collapsed": true
   },
   "outputs": [],
   "source": []
  }
 ],
 "metadata": {
  "kernelspec": {
   "display_name": "Python 3",
   "language": "python",
   "name": "python3"
  },
  "language_info": {
   "codemirror_mode": {
    "name": "ipython",
    "version": 3
   },
   "file_extension": ".py",
   "mimetype": "text/x-python",
   "name": "python",
   "nbconvert_exporter": "python",
   "pygments_lexer": "ipython3",
   "version": "3.6.1"
  }
 },
 "nbformat": 4,
 "nbformat_minor": 2
}
