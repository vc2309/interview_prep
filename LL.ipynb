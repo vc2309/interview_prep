{
 "cells": [
  {
   "cell_type": "code",
   "execution_count": 182,
   "metadata": {},
   "outputs": [],
   "source": [
    "class Node(object):\n",
    "        def __init__(self,val):\n",
    "            self.__val = val\n",
    "            self.prev = None\n",
    "            self.next = None\n",
    "        def get_val(self):\n",
    "            return self.__val\n",
    "class DLL(object):\n",
    "    def __init__(self):\n",
    "        self.head=None\n",
    "        self.tail=None\n",
    "        self.size=0\n",
    "    \n",
    "    def push(self,val):\n",
    "        node = Node(val)\n",
    "        if self.size==0:\n",
    "            self.head=node\n",
    "            self.tail=node\n",
    "        else:\n",
    "            self.tail.next = node\n",
    "            node.prev=self.tail\n",
    "            self.tail=node\n",
    "            \n",
    "        self.size+=1\n",
    "    def push_(self,val):\n",
    "        node = Node(val)\n",
    "        if self.size==0:\n",
    "            self.head=node\n",
    "            self.tail=node\n",
    "        else:\n",
    "            node.next=self.head\n",
    "            self.head.prev=node\n",
    "            self.head=node\n",
    "            \n",
    "        self.size+=1\n",
    "    def pop(self):\n",
    "        if self.size==0:\n",
    "            print(\"err\")\n",
    "        else:\n",
    "            end = self.tail\n",
    "            (self.tail.prev).next = None\n",
    "            self.tail = self.tail.prev\n",
    "            self.size-=1\n",
    "            return end.get_val()\n",
    "        \n",
    "    def pop_(self):\n",
    "        if self.size==0:\n",
    "            print(\"err\")\n",
    "        else:\n",
    "            start = self.head\n",
    "            (self.head.next).prev = None\n",
    "            self.size-=1\n",
    "            self.head = self.head.next\n",
    "            return start.get_val()\n",
    "    def print_(self,reverse=False):\n",
    "        outp = []\n",
    "        if not reverse:\n",
    "            curr = self.head\n",
    "            while curr:\n",
    "                outp.append(curr.get_val())\n",
    "                curr=curr.next\n",
    "        else:\n",
    "            curr=self.tail\n",
    "            while curr:\n",
    "                outp.append(curr.get_val())\n",
    "                curr=curr.prev\n",
    "        return outp\n",
    "    def __str__(self):\n",
    "        return str(self.print_())\n",
    "    def reverse_print(self):\n",
    "        return self.print_(reverse=True)\n",
    "    def partition(self,val):\n",
    "        curr = self.head\n",
    "        tail = self.head\n",
    "        while tail.next:\n",
    "            tail=tail.next\n",
    "        print(\"tail\",tail.get_val())\n",
    "        prev=self.head\n",
    "        while curr:\n",
    "            print(curr.get_val())\n",
    "            if (curr.get_val() < val) and curr!=self.head:\n",
    "                prev.next = curr.next\n",
    "                curr.next=self.head\n",
    "                self.head=curr\n",
    "                curr=prev.next\n",
    "            else:\n",
    "                prev=curr\n",
    "                curr=curr.next\n",
    "    "
   ]
  },
  {
   "cell_type": "code",
   "execution_count": 17,
   "metadata": {
    "collapsed": true
   },
   "outputs": [],
   "source": [
    "my_dll = DLL()"
   ]
  },
  {
   "cell_type": "code",
   "execution_count": 29,
   "metadata": {},
   "outputs": [],
   "source": [
    "my_dll.push(10)"
   ]
  },
  {
   "cell_type": "code",
   "execution_count": 31,
   "metadata": {},
   "outputs": [
    {
     "name": "stdout",
     "output_type": "stream",
     "text": [
      "[10, 9]\n"
     ]
    }
   ],
   "source": [
    "print(my_dll.reverse_print())"
   ]
  },
  {
   "cell_type": "code",
   "execution_count": 73,
   "metadata": {
    "collapsed": true
   },
   "outputs": [],
   "source": [
    "def del_middle(head):\n",
    "    slow = head\n",
    "    fast = head\n",
    "    if fast.next:\n",
    "        fast=(fast.next).next\n",
    "\n",
    "    while fast:\n",
    "        fast=(fast.next)\n",
    "        if not fast:\n",
    "            break\n",
    "        fast=fast.next\n",
    "        slow=slow.next\n",
    "    print(slow.next.get_val())\n",
    "    "
   ]
  },
  {
   "cell_type": "code",
   "execution_count": 79,
   "metadata": {},
   "outputs": [
    {
     "name": "stdout",
     "output_type": "stream",
     "text": [
      "16\n"
     ]
    }
   ],
   "source": [
    "del_middle(my_dll.head)"
   ]
  },
  {
   "cell_type": "code",
   "execution_count": 175,
   "metadata": {},
   "outputs": [],
   "source": [
    "ndll = DLL()"
   ]
  },
  {
   "cell_type": "code",
   "execution_count": 176,
   "metadata": {},
   "outputs": [],
   "source": [
    "ndll.push(5)\n",
    "ndll.push(2)\n",
    "ndll.push(10)\n",
    "ndll.push(5)\n",
    "ndll.push(8)\n",
    "ndll.push(1)"
   ]
  },
  {
   "cell_type": "code",
   "execution_count": 164,
   "metadata": {},
   "outputs": [],
   "source": [
    "def partition(val):\n",
    "    curr = head\n",
    "    tail = head\n",
    "    while tail.next:\n",
    "        tail=tail.next\n",
    "    print(\"tail\",tail.get_val())\n",
    "    prev=head\n",
    "    while curr:\n",
    "        print(curr.get_val())\n",
    "        if (curr.get_val() < val) and curr!=head:\n",
    "            prev.next = curr.next\n",
    "            head.next=curr\n",
    "            head=curr\n",
    "            curr=prev.next\n",
    "        else:\n",
    "            prev=curr\n",
    "            curr=curr.next\n",
    "    return head\n",
    "    "
   ]
  },
  {
   "cell_type": "code",
   "execution_count": 181,
   "metadata": {},
   "outputs": [
    {
     "name": "stdout",
     "output_type": "stream",
     "text": [
      "[8, 5, 5, 2, 1, 10]\n"
     ]
    }
   ],
   "source": [
    "print(ndll)"
   ]
  },
  {
   "cell_type": "code",
   "execution_count": 180,
   "metadata": {},
   "outputs": [
    {
     "name": "stdout",
     "output_type": "stream",
     "text": [
      "tail 8\n",
      "1\n",
      "2\n",
      "5\n",
      "10\n",
      "5\n",
      "8\n"
     ]
    }
   ],
   "source": [
    "ndll.partition(10)"
   ]
  },
  {
   "cell_type": "code",
   "execution_count": 172,
   "metadata": {},
   "outputs": [
    {
     "name": "stdout",
     "output_type": "stream",
     "text": [
      "[]\n"
     ]
    }
   ],
   "source": [
    "print(ndll)"
   ]
  },
  {
   "cell_type": "code",
   "execution_count": 225,
   "metadata": {
    "collapsed": true
   },
   "outputs": [],
   "source": [
    "def prepend(head,num):\n",
    "    tail = head\n",
    "    while tail.next:\n",
    "        tail=tail.next\n",
    "    for i in range(num):\n",
    "        n = Node(0)\n",
    "        tail.next=n\n",
    "        tail=n\n",
    "def sum_lists(a,b):\n",
    "    size_a=size_b=0\n",
    "    ca = a\n",
    "    cb = b\n",
    "    while ca:\n",
    "        size_a+=1\n",
    "        ca=ca.next\n",
    "    while cb:\n",
    "        size_b+=1\n",
    "        cb=cb.next\n",
    "    \n",
    "    if size_a<size_b:\n",
    "        prepend(a,size_b-size_a)\n",
    "    else:\n",
    "        prepend(b,size_a-size_a)\n",
    "    pcarry =0\n",
    "    pos_a = a\n",
    "    pos_b = b\n",
    "    myList = DLL()\n",
    "    while pos_a and pos_b:\n",
    "        sum_ = pos_b.get_val()+pos_a.get_val()+pcarry\n",
    "        carry = sum_//10\n",
    "        print(sum_,carry)\n",
    "        if carry>0 or carry<-1:\n",
    "            sum_=sum_ - 10*carry\n",
    "        pcarry = carry\n",
    "        myList.push(sum_)\n",
    "        pos_a=pos_a.next\n",
    "        pos_b=pos_b.next\n",
    "    if pcarry>0 or pcarry<-1:\n",
    "        myList.push(pcarry)\n",
    "    print(myList.reverse_print())"
   ]
  },
  {
   "cell_type": "code",
   "execution_count": 228,
   "metadata": {},
   "outputs": [
    {
     "name": "stdout",
     "output_type": "stream",
     "text": [
      "[-9, -9, -1]\n",
      "[-1, -2, -1]\n"
     ]
    }
   ],
   "source": [
    "a = DLL()\n",
    "a.push(-1)\n",
    "a.push(-9)\n",
    "a.push(-9)\n",
    "print(a.reverse_print())\n",
    "b = DLL()\n",
    "b.push(-1)\n",
    "b.push(-2)\n",
    "b.push(-1)\n",
    "print(b.reverse_print())\n"
   ]
  },
  {
   "cell_type": "code",
   "execution_count": 229,
   "metadata": {},
   "outputs": [
    {
     "name": "stdout",
     "output_type": "stream",
     "text": [
      "-2 -1\n",
      "-12 -2\n",
      "-12 -2\n",
      "[-2, 8, 8, -2]\n"
     ]
    }
   ],
   "source": [
    "sum_lists(a.head,b.head)"
   ]
  },
  {
   "cell_type": "code",
   "execution_count": 231,
   "metadata": {},
   "outputs": [
    {
     "name": "stdout",
     "output_type": "stream",
     "text": [
      "[-1, -9, -9]\n"
     ]
    }
   ],
   "source": [
    "def has_cycle(a):\n",
    "    runner = a\n",
    "    "
   ]
  },
  {
   "cell_type": "code",
   "execution_count": 221,
   "metadata": {},
   "outputs": [
    {
     "data": {
      "text/plain": [
       "-2"
      ]
     },
     "execution_count": 221,
     "metadata": {},
     "output_type": "execute_result"
    }
   ],
   "source": [
    "-17//10"
   ]
  },
  {
   "cell_type": "code",
   "execution_count": 265,
   "metadata": {
    "collapsed": true
   },
   "outputs": [],
   "source": [
    "from collections import UserDict, defaultdict"
   ]
  },
  {
   "cell_type": "code",
   "execution_count": 256,
   "metadata": {},
   "outputs": [],
   "source": [
    "a=UserDict()"
   ]
  },
  {
   "cell_type": "code",
   "execution_count": 258,
   "metadata": {},
   "outputs": [],
   "source": [
    "a[\"1\"]=(3,\"3\")"
   ]
  },
  {
   "cell_type": "code",
   "execution_count": 260,
   "metadata": {},
   "outputs": [],
   "source": [
    "a[(\"d\",\"d\")]=2"
   ]
  },
  {
   "cell_type": "code",
   "execution_count": 266,
   "metadata": {},
   "outputs": [
    {
     "ename": "TypeError",
     "evalue": "first argument must be callable or None",
     "output_type": "error",
     "traceback": [
      "\u001b[0;31m---------------------------------------------------------------------------\u001b[0m",
      "\u001b[0;31mTypeError\u001b[0m                                 Traceback (most recent call last)",
      "\u001b[0;32m<ipython-input-266-549ea1ce92ab>\u001b[0m in \u001b[0;36m<module>\u001b[0;34m()\u001b[0m\n\u001b[0;32m----> 1\u001b[0;31m \u001b[0mdefaultdict\u001b[0m\u001b[0;34m(\u001b[0m\u001b[0ma\u001b[0m\u001b[0;34m)\u001b[0m\u001b[0;34m\u001b[0m\u001b[0m\n\u001b[0m",
      "\u001b[0;31mTypeError\u001b[0m: first argument must be callable or None"
     ]
    }
   ],
   "source": []
  },
  {
   "cell_type": "code",
   "execution_count": 345,
   "metadata": {
    "collapsed": true
   },
   "outputs": [],
   "source": [
    "class EmptyStackException(BaseException):\n",
    "    def __str__(self):\n",
    "        return \"stack is empty\"\n",
    "class Node(object):\n",
    "    def __init__(self,val):\n",
    "        self.__val=val\n",
    "        self.next = None\n",
    "    def get_val(self):\n",
    "        return self.__val\n",
    "    def __str__(self):\n",
    "        return str(self.__val)\n",
    "class Stack(object):\n",
    "    def __init__(self):\n",
    "        self.top=None\n",
    "        self.size=0\n",
    "    def push(self,val):\n",
    "        if self.size==0:\n",
    "            self.top=Node(val)\n",
    "        else:\n",
    "            n = Node(val)\n",
    "            n.next=self.top\n",
    "            self.top=n\n",
    "        self.size+=1\n",
    "    def pop(self):\n",
    "        if not self.size:\n",
    "            raise EmptyStackException\n",
    "        t = self.top\n",
    "        self.top=(self.top).next\n",
    "        self.size-=1\n",
    "        return t\n",
    "    def __str__(self):\n",
    "        curr = self.top\n",
    "        while(curr):\n",
    "            yield curr.__str__()\n",
    "            curr=curr.next\n",
    "    \n",
    "class StackMin(Stack):\n",
    "    def __init__(self):\n",
    "        super(StackMin,self).__init__()\n",
    "        self.mins = Stack()\n",
    "    def push(self,val):\n",
    "        super().push(val)\n",
    "        if self.mins.size==0:\n",
    "            self.mins.push(val)\n",
    "        else:\n",
    "            if val <= self.min_().get_val():\n",
    "                self.mins.push(val)\n",
    "    def pop(self):\n",
    "        rem = super().pop()\n",
    "        if rem.get_val()==self.min_().get_val():\n",
    "            self.mins.pop()\n",
    "        return rem\n",
    "    def min_(self):\n",
    "        try:\n",
    "            return self.mins.top\n",
    "        except EmptyStackException as e:\n",
    "            print(e)"
   ]
  },
  {
   "cell_type": "code",
   "execution_count": 346,
   "metadata": {
    "collapsed": true
   },
   "outputs": [],
   "source": [
    "ms = StackMin()"
   ]
  },
  {
   "cell_type": "code",
   "execution_count": 357,
   "metadata": {},
   "outputs": [
    {
     "name": "stdout",
     "output_type": "stream",
     "text": [
      "3\n"
     ]
    }
   ],
   "source": [
    "print(ms.pop())"
   ]
  },
  {
   "cell_type": "code",
   "execution_count": 356,
   "metadata": {},
   "outputs": [
    {
     "name": "stdout",
     "output_type": "stream",
     "text": [
      "1\n",
      "10\n"
     ]
    }
   ],
   "source": [
    "for j in ms.mins.__str__():\n",
    "    print(j)"
   ]
  },
  {
   "cell_type": "code",
   "execution_count": 354,
   "metadata": {},
   "outputs": [
    {
     "name": "stdout",
     "output_type": "stream",
     "text": [
      "90\n",
      "3\n",
      "1\n",
      "12\n",
      "10\n"
     ]
    }
   ],
   "source": [
    "for i in ms.__str__():\n",
    "    print(i)"
   ]
  },
  {
   "cell_type": "code",
   "execution_count": 363,
   "metadata": {},
   "outputs": [],
   "source": [
    "from collections import Counter\n",
    "cnt=Counter(list(\"hello\"))"
   ]
  },
  {
   "cell_type": "code",
   "execution_count": 366,
   "metadata": {},
   "outputs": [],
   "source": [
    "cnt2 = Counter(list(\"elloh\"))"
   ]
  },
  {
   "cell_type": "code",
   "execution_count": 368,
   "metadata": {},
   "outputs": [
    {
     "data": {
      "text/plain": [
       "True"
      ]
     },
     "execution_count": 368,
     "metadata": {},
     "output_type": "execute_result"
    }
   ],
   "source": [
    "cnt==cnt2"
   ]
  },
  {
   "cell_type": "code",
   "execution_count": 369,
   "metadata": {},
   "outputs": [
    {
     "data": {
      "text/plain": [
       "Counter({'e': 1, 'h': 1, 'l': 2, 'o': 1})"
      ]
     },
     "execution_count": 369,
     "metadata": {},
     "output_type": "execute_result"
    }
   ],
   "source": [
    "cnt"
   ]
  },
  {
   "cell_type": "code",
   "execution_count": 395,
   "metadata": {},
   "outputs": [],
   "source": [
    "x=filter(lambda x:x[0]+x[1]>5,[(2,3),(4,7),(6,8)])"
   ]
  },
  {
   "cell_type": "code",
   "execution_count": 396,
   "metadata": {},
   "outputs": [],
   "source": [
    "x=list(x)"
   ]
  },
  {
   "cell_type": "code",
   "execution_count": 397,
   "metadata": {},
   "outputs": [
    {
     "data": {
      "text/plain": [
       "[(4, 7), (6, 8)]"
      ]
     },
     "execution_count": 397,
     "metadata": {},
     "output_type": "execute_result"
    }
   ],
   "source": [
    "x"
   ]
  },
  {
   "cell_type": "code",
   "execution_count": 398,
   "metadata": {
    "collapsed": true
   },
   "outputs": [],
   "source": [
    "x=[1,2,3]"
   ]
  },
  {
   "cell_type": "code",
   "execution_count": 399,
   "metadata": {
    "collapsed": true
   },
   "outputs": [],
   "source": [
    "del x[1]"
   ]
  },
  {
   "cell_type": "code",
   "execution_count": 401,
   "metadata": {},
   "outputs": [
    {
     "data": {
      "text/plain": [
       "Counter({'e': 1, 'h': 1, 'l': 2, 'o': 1})"
      ]
     },
     "execution_count": 401,
     "metadata": {},
     "output_type": "execute_result"
    }
   ],
   "source": [
    "cnt"
   ]
  },
  {
   "cell_type": "code",
   "execution_count": 402,
   "metadata": {},
   "outputs": [
    {
     "name": "stdout",
     "output_type": "stream",
     "text": [
      "1\n",
      "1\n",
      "2\n",
      "1\n"
     ]
    }
   ],
   "source": [
    "for i in cnt.keys():\n",
    "    print(cnt[i])"
   ]
  },
  {
   "cell_type": "code",
   "execution_count": null,
   "metadata": {
    "collapsed": true
   },
   "outputs": [],
   "source": []
  }
 ],
 "metadata": {
  "kernelspec": {
   "display_name": "Python 3",
   "language": "python",
   "name": "python3"
  },
  "language_info": {
   "codemirror_mode": {
    "name": "ipython",
    "version": 3
   },
   "file_extension": ".py",
   "mimetype": "text/x-python",
   "name": "python",
   "nbconvert_exporter": "python",
   "pygments_lexer": "ipython3",
   "version": "3.6.1"
  }
 },
 "nbformat": 4,
 "nbformat_minor": 2
}
