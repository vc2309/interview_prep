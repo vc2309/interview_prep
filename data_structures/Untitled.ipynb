{
 "cells": [
  {
   "cell_type": "code",
   "execution_count": 8,
   "metadata": {
    "collapsed": true
   },
   "outputs": [],
   "source": [
    "def club_k(arr,k):\n",
    "    good = len(list(filter(lambda x:x<=k,arr)))\n",
    "#     bad = len(arr)-good\n",
    "    \n",
    "    start = 0\n",
    "    end = good-1\n",
    "    bad = min_bad = len(list(filter(lambda x:x>k,arr[:good])))\n",
    "    \n",
    "    while(end<len(arr)-1):\n",
    "        if arr[start]>k:\n",
    "            bad-=1\n",
    "        start+=1\n",
    "        end+=1\n",
    "        if arr[end]>k:\n",
    "            bad+=1\n",
    "        min_bad = min(min_bad,bad)\n",
    "    return min_bad\n",
    "    "
   ]
  },
  {
   "cell_type": "code",
   "execution_count": 11,
   "metadata": {},
   "outputs": [],
   "source": [
    "arr = [1,3,5,4,6,2,4]\n",
    "k = 4\n",
    "good=4\n",
    "min_bad = len(list(filter(lambda x:x>k,arr[:good])))"
   ]
  },
  {
   "cell_type": "code",
   "execution_count": 15,
   "metadata": {},
   "outputs": [
    {
     "data": {
      "text/plain": [
       "[3, 1, 5, 4, 6, 2, 4]"
      ]
     },
     "execution_count": 15,
     "metadata": {},
     "output_type": "execute_result"
    }
   ],
   "source": [
    "2\n",
    "15\n",
    "88 57 44 92 28 66 60 37 33 52 38 29 76 8 75 \n",
    "22\n",
    "59 96 30 38 36 94 19 29 44 12 29 30 77 5 44 64 14 39 7 41 5 19"
   ]
  },
  {
   "cell_type": "code",
   "execution_count": 20,
   "metadata": {
    "collapsed": true
   },
   "outputs": [],
   "source": [
    "def method(arr):\n",
    "    i = 1\n",
    "    while i < len(arr):\n",
    "        if i%2==0:\n",
    "            if arr[i]<arr[i-1]:\n",
    "                arr[i],arr[i-1]=arr[i-1],arr[i]\n",
    "        else:\n",
    "            if arr[i]>arr[i-1]:\n",
    "                arr[i],arr[i-1]=arr[i-1],arr[i]\n",
    "        i+=1\n",
    "    return arr"
   ]
  },
  {
   "cell_type": "code",
   "execution_count": null,
   "metadata": {
    "collapsed": true
   },
   "outputs": [],
   "source": [
    "tests = int(input())\n",
    "while(tests):\n",
    "    n = int(input())\n",
    "    arr = [int(i) for i in (input()).split()]\n",
    "    k = int(input())\n",
    "    print(club_k(arr,k))\n",
    "    tests-=1"
   ]
  },
  {
   "cell_type": "code",
   "execution_count": 21,
   "metadata": {},
   "outputs": [
    {
     "data": {
      "text/plain": [
       "<zip at 0x10ffa2e88>"
      ]
     },
     "execution_count": 21,
     "metadata": {},
     "output_type": "execute_result"
    }
   ],
   "source": [
    "zip(method([88 ,57 ,44 ,92 ,28 ,66 ,60 ,37 ,33 ,52 ,38 ,29 ,76 ,8 ,75]),[i for i in range(15)])"
   ]
  },
  {
   "cell_type": "code",
   "execution_count": 40,
   "metadata": {},
   "outputs": [
    {
     "data": {
      "text/plain": [
       "[1, 2, 3, 4, 4, 5, 6]"
      ]
     },
     "execution_count": 40,
     "metadata": {},
     "output_type": "execute_result"
    }
   ],
   "source": [
    "sorted(arr,key=lambda x:x)"
   ]
  },
  {
   "cell_type": "code",
   "execution_count": 61,
   "metadata": {},
   "outputs": [],
   "source": [
    "def findTriplets(arr, n):\n",
    "    # Code here\n",
    "    arr = sorted(arr)\n",
    "    start = 0\n",
    "    end = len(arr)-1\n",
    "    sols = []\n",
    "    while start<end:\n",
    "        reqd = n-(arr[start]+arr[end])\n",
    "        l = start+1\n",
    "        r = end - 1\n",
    "        found = False\n",
    "        print(arr[start],arr[end],reqd)\n",
    "        while l<=r:\n",
    "            mid =( l+r)//2\n",
    "#             print(l,mid,r)\n",
    "            if arr[mid]==reqd:\n",
    "                sols.append([arr[start],arr[mid],arr[end]])\n",
    "                found = True\n",
    "                break\n",
    "            elif arr[mid]<=reqd:\n",
    "                l=mid+1\n",
    "            else:\n",
    "                r=mid-1\n",
    "        \n",
    "        if not found:\n",
    "            if reqd>=arr[end]:\n",
    "                start+=1\n",
    "            elif reqd<=arr[start]:\n",
    "                end-=1\n",
    "            else:\n",
    "                start+=1\n",
    "                end-=1\n",
    "                \n",
    "        else:\n",
    "            start+=1\n",
    "            end-=1\n",
    "    return sols"
   ]
  },
  {
   "cell_type": "code",
   "execution_count": 62,
   "metadata": {},
   "outputs": [
    {
     "name": "stdout",
     "output_type": "stream",
     "text": [
      "-64 96 -32\n",
      "-59 90 -31\n",
      "-45 85 -40\n",
      "-42 82 -40\n",
      "-34 82 -48\n",
      "-34 76 -42\n",
      "-34 68 -34\n",
      "-34 64 -30\n",
      "-7 48 -41\n",
      "-7 41 -34\n",
      "-7 39 -32\n",
      "-7 36 -29\n",
      "-7 13 -6\n",
      "3 11 -14\n",
      "3 8 -11\n",
      "3 7 -10\n"
     ]
    },
    {
     "data": {
      "text/plain": [
       "[]"
      ]
     },
     "execution_count": 62,
     "metadata": {},
     "output_type": "execute_result"
    }
   ],
   "source": [
    "findTriplets([39 ,11 ,13 ,-64 ,3 ,8 ,48 ,-42 ,64 ,-45 ,82 ,36 ,82 ,-34 ,85 ,68 ,96, 41 ,7 ,-59 ,90 ,-7 ,76],0)"
   ]
  },
  {
   "cell_type": "code",
   "execution_count": 63,
   "metadata": {},
   "outputs": [
    {
     "data": {
      "text/plain": [
       "False"
      ]
     },
     "execution_count": 63,
     "metadata": {},
     "output_type": "execute_result"
    }
   ],
   "source": [
    "(1,2)==(2,1)"
   ]
  },
  {
   "cell_type": "code",
   "execution_count": 84,
   "metadata": {},
   "outputs": [],
   "source": [
    "def getUnique(sols):\n",
    "    \n",
    "def fourSum(arr,k):\n",
    "    sums = {}\n",
    "    sols = []\n",
    "    arr=sorted(arr)\n",
    "    for i in range(len(arr)):\n",
    "        for j in range(i+1,len(arr)):\n",
    "            sum_=arr[i]+arr[j]\n",
    "            if not sums.get(sum_):\n",
    "                sums[sum_]=[(i,j)]\n",
    "            else:\n",
    "                sums[sum_].append((i,j))\n",
    "    for i in range(len(arr)):\n",
    "        for j in range(i+1,len(arr)):\n",
    "            sum_=arr[i]+arr[j]\n",
    "            pairs =  sums.get(k-sum_)\n",
    "            if pairs:\n",
    "                for pair in pairs:\n",
    "                    if i!=pair[0] and j!=pair[1] and i!=pair[1] and j!=pair[0]:\n",
    "                        sols.append([arr[i],arr[j],arr[pair[0]],arr[pair[1]]])\n",
    "#     sols = getUnique(sols)\n",
    "    return sols"
   ]
  },
  {
   "cell_type": "code",
   "execution_count": 85,
   "metadata": {},
   "outputs": [
    {
     "data": {
      "text/plain": [
       "[[0, 1, 5, 6],\n",
       " [0, 1, 5, 6],\n",
       " [0, 5, 1, 6],\n",
       " [0, 5, 1, 6],\n",
       " [0, 6, 1, 5],\n",
       " [0, 6, 1, 5],\n",
       " [0, 1, 5, 6],\n",
       " [0, 1, 5, 6],\n",
       " [0, 5, 1, 6],\n",
       " [0, 5, 1, 6],\n",
       " [0, 6, 1, 5],\n",
       " [0, 6, 1, 5],\n",
       " [1, 5, 0, 6],\n",
       " [1, 5, 0, 6],\n",
       " [1, 6, 0, 5],\n",
       " [1, 6, 0, 5],\n",
       " [1, 5, 0, 6],\n",
       " [1, 5, 0, 6],\n",
       " [1, 6, 0, 5],\n",
       " [1, 6, 0, 5],\n",
       " [5, 6, 0, 1],\n",
       " [5, 6, 0, 1],\n",
       " [5, 6, 0, 1],\n",
       " [5, 6, 0, 1]]"
      ]
     },
     "execution_count": 85,
     "metadata": {},
     "output_type": "execute_result"
    }
   ],
   "source": [
    "fourSum([1, 5, 1, 0, 6, 0 ],12)"
   ]
  },
  {
   "cell_type": "code",
   "execution_count": null,
   "metadata": {
    "collapsed": true
   },
   "outputs": [],
   "source": [
    "def max_min(arr):\n",
    "    end = len(arr)-1\n",
    "    start =0\n",
    "    max_elem = end\n",
    "    min_elem = start\n",
    "    while(start<end):\n",
    "        \n",
    "        #swap max and min\n",
    "        arr[max_elem],arr[min_elem] = arr[min_elem],arr[max_elem]\n",
    "        \n",
    "        #min_elem is now at start+1\n",
    "        min_elem+=1\n",
    "        "
   ]
  },
  {
   "cell_type": "code",
   "execution_count": 95,
   "metadata": {
    "collapsed": true
   },
   "outputs": [],
   "source": [
    "def compression(string):\n",
    "    if not string:\n",
    "        return\n",
    "    new_str = \"\"\n",
    "    i = 1\n",
    "    curr_char = string[0]\n",
    "    curr_count = 1\n",
    "    while(i<len(string)):\n",
    "        if string[i]!=curr_char:\n",
    "            if curr_count>1:\n",
    "                new_str+=\"{}{}\".format(curr_char,str(curr_count))\n",
    "            else:\n",
    "                new_str+=\"{}\".format(curr_char)\n",
    "            curr_char=string[i]\n",
    "            curr_count=1\n",
    "        else:\n",
    "            curr_count+=1\n",
    "            if i==len(string)-1:\n",
    "                if curr_count>1:\n",
    "                    new_str+=\"{}{}\".format(curr_char,str(curr_count))\n",
    "                else:\n",
    "                    new_str+=\"{}\".format(curr_char)\n",
    "                \n",
    "        i+=1\n",
    "    print(new_str)"
   ]
  },
  {
   "cell_type": "code",
   "execution_count": 96,
   "metadata": {},
   "outputs": [
    {
     "name": "stdout",
     "output_type": "stream",
     "text": [
      "ab2sdcsbs4\n"
     ]
    }
   ],
   "source": [
    "compression(\"abbsdcsbssss\")"
   ]
  },
  {
   "cell_type": "code",
   "execution_count": 97,
   "metadata": {
    "collapsed": true
   },
   "outputs": [],
   "source": [
    "def longest_k_subsq(string,k):\n",
    "    from collections import Counter\n",
    "    freq = Counter(string)\n",
    "    subs = \"\"\n",
    "    for letter in string:\n",
    "        if freq[letter]>=k:\n",
    "            subs+=letter\n",
    "    return subs"
   ]
  },
  {
   "cell_type": "code",
   "execution_count": 111,
   "metadata": {},
   "outputs": [
    {
     "data": {
      "text/plain": [
       "['s', '3', 's', 'd']"
      ]
     },
     "execution_count": 111,
     "metadata": {},
     "output_type": "execute_result"
    }
   ],
   "source": [
    "a()"
   ]
  },
  {
   "cell_type": "code",
   "execution_count": 188,
   "metadata": {
    "collapsed": true
   },
   "outputs": [],
   "source": [
    "def insert_spaces(perms,i):\n",
    "    print(\"here\",perms,i)\n",
    "    perms_ = []\n",
    "    for perm in perms:\n",
    "        for idx in range(1,len(perm)):\n",
    "#             print(\"this is perm\",perm)\n",
    "            x=perm.copy()\n",
    "            if x[idx]!=' ' and x[idx-1]!=' ':\n",
    "                x.insert(idx,' ')\n",
    "#         print(x)\n",
    "                perms_.append(x)\n",
    "#     print(perms_)\n",
    "    return perms_\n",
    "def space_perms(string):\n",
    "    n=len(string)\n",
    "    num_spaces = n-1\n",
    "    \n",
    "    perms = [[list(string)]]\n",
    "    for i in range(1,n):\n",
    "        for j in range(i,len(perms)+1):\n",
    "            new_perms=insert_spaces(perms[j-1],i)\n",
    "            perms.append(new_perms)\n",
    "    my_hash = {}\n",
    "    for arr in perms:\n",
    "        for word in arr:\n",
    "            my_hash[\"\".join(word)]=True\n",
    "    return my_hash.keys()"
   ]
  },
  {
   "cell_type": "code",
   "execution_count": 189,
   "metadata": {},
   "outputs": [
    {
     "name": "stdout",
     "output_type": "stream",
     "text": [
      "here [['A', 'B', 'C', 'D']] 1\n",
      "here [['A', ' ', 'B', 'C', 'D'], ['A', 'B', ' ', 'C', 'D'], ['A', 'B', 'C', ' ', 'D']] 2\n",
      "here [['A', ' ', 'B', ' ', 'C', 'D'], ['A', ' ', 'B', 'C', ' ', 'D'], ['A', ' ', 'B', ' ', 'C', 'D'], ['A', 'B', ' ', 'C', ' ', 'D'], ['A', ' ', 'B', 'C', ' ', 'D'], ['A', 'B', ' ', 'C', ' ', 'D']] 3\n"
     ]
    },
    {
     "data": {
      "text/plain": [
       "dict_keys(['ABCD', 'A BCD', 'AB CD', 'ABC D', 'A B CD', 'A BC D', 'AB C D', 'A B C D'])"
      ]
     },
     "execution_count": 189,
     "metadata": {},
     "output_type": "execute_result"
    }
   ],
   "source": [
    "space_perms('ABCD')"
   ]
  },
  {
   "cell_type": "code",
   "execution_count": 205,
   "metadata": {
    "collapsed": true
   },
   "outputs": [],
   "source": [
    "def min_appends(a,i,j,memo):\n",
    "    if i>=j:\n",
    "        return 0\n",
    "    if memo[i][j]==float(\"inf\"):\n",
    "        if a[i]==a[j]:\n",
    "            memo[i][j]= min_appends(a,i+1,j-1,memo)\n",
    "        else:\n",
    "            memo[i][j]= 1+ min(min_appends(a,i+1,j,memo),min_appends(a,i,j-1,memo))\n",
    "    return memo[i][j]\n",
    "def helper(str_):\n",
    "    memo = [[float(\"inf\") for i in str_] for j in str_]\n",
    "    return min_appends(str_,0,len(str_)-1,memo)"
   ]
  },
  {
   "cell_type": "code",
   "execution_count": 206,
   "metadata": {},
   "outputs": [
    {
     "data": {
      "text/plain": [
       "3"
      ]
     },
     "execution_count": 206,
     "metadata": {},
     "output_type": "execute_result"
    }
   ],
   "source": [
    "helper(\"abcd\")"
   ]
  },
  {
   "cell_type": "code",
   "execution_count": 200,
   "metadata": {},
   "outputs": [
    {
     "data": {
      "text/plain": [
       "True"
      ]
     },
     "execution_count": 200,
     "metadata": {},
     "output_type": "execute_result"
    }
   ],
   "source": [
    "float(\"inf\")==float(\"inf\")"
   ]
  },
  {
   "cell_type": "code",
   "execution_count": null,
   "metadata": {
    "collapsed": true
   },
   "outputs": [],
   "source": []
  }
 ],
 "metadata": {
  "kernelspec": {
   "display_name": "Python 3",
   "language": "python",
   "name": "python3"
  },
  "language_info": {
   "codemirror_mode": {
    "name": "ipython",
    "version": 3
   },
   "file_extension": ".py",
   "mimetype": "text/x-python",
   "name": "python",
   "nbconvert_exporter": "python",
   "pygments_lexer": "ipython3",
   "version": "3.6.1"
  }
 },
 "nbformat": 4,
 "nbformat_minor": 2
}
