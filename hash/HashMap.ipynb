{
 "cells": [
  {
   "cell_type": "markdown",
   "metadata": {},
   "source": [
    "## Closed Hashing / Open Addressing"
   ]
  },
  {
   "cell_type": "code",
   "execution_count": 6,
   "metadata": {
    "collapsed": true
   },
   "outputs": [],
   "source": [
    "from math import sqrt,floor\n",
    "class HashMap(object):\n",
    "    def __init__(self):\n",
    "        self.__m = 3047\n",
    "        self.__A = sqrt(2)-1\n",
    "        self.__table = ['NIL']*self.__m\n",
    "    def hash_(self,k):\n",
    "        z = self.__A*k\n",
    "        frac = z - floor(z)\n",
    "        return int(frac*self.__m)\n",
    "    \n",
    "    def insert(self,k,v):\n",
    "        i = 0\n",
    "        while i<self.__m:\n",
    "            idx = (self.hash_(k) + self.hash_(i)) % self.__m\n",
    "            if self.__table[idx]=='NIL':\n",
    "                self.__table[idx]= (k,v)\n",
    "                break\n",
    "            else:\n",
    "                i+=1\n",
    "    def __getitem__(self,k):\n",
    "        i = 0\n",
    "        while i<self.__m:\n",
    "            idx = (self.hash_(k) + self.hash_(i)) % self.__m\n",
    "            if self.__table[idx]=='NIL' or self.__table[idx]=='DEL' :\n",
    "                return \"ERROR\"\n",
    "            elif self.__table[idx][0] == k:\n",
    "                return self.__table[idx][1]\n",
    "            else:\n",
    "                i+=1\n",
    "        return \"ERROR\"\n",
    "    def delete(self,k):\n",
    "        i = 0\n",
    "        while i<self.__m:\n",
    "            idx = (self.hash_(k) + self.hash_(i)) % self.__m\n",
    "            if self.__table[idx]=='NIL' or self.__table[idx]=='DEL' :\n",
    "                return \"ERROR\"\n",
    "            elif self.__table[idx][0] == k:\n",
    "                self.__table[idx] = \"DEL\"\n",
    "            else:\n",
    "                i+=1\n",
    "        return \"ERROR\""
   ]
  },
  {
   "cell_type": "code",
   "execution_count": 7,
   "metadata": {
    "collapsed": true
   },
   "outputs": [],
   "source": [
    "h = HashMap()"
   ]
  },
  {
   "cell_type": "code",
   "execution_count": 14,
   "metadata": {
    "collapsed": true
   },
   "outputs": [],
   "source": [
    "h.insert(200,\"tress\")"
   ]
  },
  {
   "cell_type": "code",
   "execution_count": 15,
   "metadata": {},
   "outputs": [
    {
     "data": {
      "text/plain": [
       "'trisha'"
      ]
     },
     "execution_count": 15,
     "metadata": {},
     "output_type": "execute_result"
    }
   ],
   "source": [
    "h[200]"
   ]
  },
  {
   "cell_type": "code",
   "execution_count": null,
   "metadata": {
    "collapsed": true
   },
   "outputs": [],
   "source": []
  }
 ],
 "metadata": {
  "kernelspec": {
   "display_name": "Python 3",
   "language": "python",
   "name": "python3"
  },
  "language_info": {
   "codemirror_mode": {
    "name": "ipython",
    "version": 3
   },
   "file_extension": ".py",
   "mimetype": "text/x-python",
   "name": "python",
   "nbconvert_exporter": "python",
   "pygments_lexer": "ipython3",
   "version": "3.6.1"
  }
 },
 "nbformat": 4,
 "nbformat_minor": 2
}
