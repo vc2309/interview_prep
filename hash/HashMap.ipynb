{
 "cells": [
  {
   "cell_type": "markdown",
   "metadata": {},
   "source": [
    "## Closed Hashing / Open Addressing"
   ]
  },
  {
   "cell_type": "code",
   "execution_count": 24,
   "metadata": {
    "collapsed": true
   },
   "outputs": [],
   "source": [
    "from math import sqrt,floor\n",
    "class HashMap(object):\n",
    "    def __init__(self):\n",
    "        self.__m = 10\n",
    "        self.__A = sqrt(2)-1\n",
    "        self.__table = ['NIL']*self.__m\n",
    "    def hash_(self,k):\n",
    "        z = self.__A*k\n",
    "        frac = z - floor(z)\n",
    "        return int(frac*self.__m)\n",
    "    \n",
    "    def insert(self,k,v):\n",
    "        i = 0\n",
    "        while i<self.__m:\n",
    "            idx = (self.hash_(k) + self.hash_(i)) % self.__m\n",
    "            if self.__table[idx]=='NIL':\n",
    "                self.__table[idx]= (k,v)\n",
    "            elif self.__table[idx][0]==k:\n",
    "                self.__table[idx]= (k,v)\n",
    "                break\n",
    "            else:\n",
    "                i+=1\n",
    "    def __getitem__(self,k):\n",
    "        i = 0\n",
    "        while i<self.__m:\n",
    "            idx = (self.hash_(k) + self.hash_(i)) % self.__m\n",
    "            if self.__table[idx]=='NIL' or self.__table[idx]=='DEL' :\n",
    "                return \"ERROR\"\n",
    "            elif self.__table[idx][0] == k:\n",
    "                return self.__table[idx][1]\n",
    "            else:\n",
    "                i+=1\n",
    "        return \"ERROR\"\n",
    "    def delete(self,k):\n",
    "        i = 0\n",
    "        while i<self.__m:\n",
    "            idx = (self.hash_(k) + self.hash_(i)) % self.__m\n",
    "            if self.__table[idx]=='NIL' or self.__table[idx]=='DEL' :\n",
    "                return \"ERROR\"\n",
    "            elif self.__table[idx][0] == k:\n",
    "                self.__table[idx] = \"DEL\"\n",
    "            else:\n",
    "                i+=1\n",
    "        return \"ERROR\"\n",
    "    def show_table(self):\n",
    "        for i in range(self.__m):\n",
    "            if self.__table[i]!='NIL':\n",
    "                print(i,self.__table[i])\n",
    "        "
   ]
  },
  {
   "cell_type": "code",
   "execution_count": 25,
   "metadata": {
    "collapsed": true
   },
   "outputs": [],
   "source": [
    "h = HashMap()"
   ]
  },
  {
   "cell_type": "code",
   "execution_count": 30,
   "metadata": {
    "collapsed": true
   },
   "outputs": [],
   "source": [
    "h.insert(200,\"ts\")\n",
    "h.insert(201,\"t3ress\")\n",
    "h.insert(2309,\"vishnu\")\n",
    "h.insert(2001,\"yo\")\n",
    "h.insert(400,\"vyo\")"
   ]
  },
  {
   "cell_type": "code",
   "execution_count": 31,
   "metadata": {},
   "outputs": [
    {
     "name": "stdout",
     "output_type": "stream",
     "text": [
      "0 (400, 'vyo')\n",
      "2 (201, 't3ress')\n",
      "4 (2309, 'vishnu')\n",
      "6 (2001, 'yo')\n",
      "8 (200, 'ts')\n"
     ]
    }
   ],
   "source": [
    "h.show_table()"
   ]
  },
  {
   "cell_type": "markdown",
   "metadata": {
    "collapsed": true
   },
   "source": [
    "# HashMap\n",
    "\n",
    "## Operations\n",
    "1. Insert\n",
    "2. Search\n",
    "3. Delete\n",
    "\n",
    "## Hashing\n",
    "1. Table (array of size `m` which maintains values)\n",
    "2. Hash function (hashes a key `k` to an address in the array between `[0..m]`)\n",
    "\n",
    "## Collisions\n",
    "- A collision is when two keys hash to the same address.\n",
    "- Strategies to avoid collisions:\n",
    "\t1. Chaining (open hashing)\n",
    "\t2. Open addressing / Closed chaining\n",
    "\n",
    "## Chaining\n",
    "- Maintain m element array with m pointers.\n",
    "- Each cell in the array points to a linked list\n",
    "- When there is a collision just add the new element to the front of the list\n",
    "- Load factor = `a = n/m` where m is size of array and n is no. of elements.\n",
    "\n",
    "### Complexity\n",
    "- Insert O(1)\n",
    "- Search O(a) if we have **Simple uniform hashing** else O(n)\n",
    "- Delete O(a) if we have **Simple uniform hashing** else O(n)\n",
    "\n",
    "### Hash functions\n",
    "1. **Division method**\n",
    "- ` h(x) = m mod x`\n",
    "- Choosing m\n",
    "\t- Not a power of 2\n",
    "\t- Not a power of 10\n",
    "\t- Prime number\n",
    "2. **Multiplication method**\n",
    "- ` h(x) = int(frac(x*A) * m)` WHERE 0<A<1\n",
    "- Choosing A\n",
    "\t- Irrational number (1-sqrt(2))\n",
    "\n",
    "## Closed hashing\n",
    "- No chaining only 1 element per table\n",
    "- Why?\n",
    "\t- Constant complexity always\n",
    "\t- Less memory usage (we can store more elements with the same memory)\n",
    "- Collision strategy : \n",
    "\t- Probing function `f(i)`\n",
    "\t- `h'(k,i) = [h(k)+f(i)] mod m`\n",
    "\t- Increment i each time we hit a collision\n",
    "- Insert algorithm:\n",
    "\t- Wile `(i<m)`\n",
    "\t- Calculate `h'(k,i)`\n",
    "\t- If 'NIL' or 'DELETED', insert (k,v)\n",
    "\t- else i++\n",
    "- Search algo:\n",
    "\t- While `(i<m)`\n",
    "\t- Calculate `h'(k,i)`\n",
    "\t- If you hit NIL -> element doesnt exist\n",
    "\t- else if the element at this index has the same key as the searched key, return value\n",
    "\t- else i++\n",
    "- Delete\n",
    "\t- Same as search except delete\n",
    "\n",
    "### Complexity\n",
    "- Load factor should be below 0.5\n",
    "- **Rehash** if the load factor is above 0,5, double the size of the table and rehash"
   ]
  },
  {
   "cell_type": "code",
   "execution_count": null,
   "metadata": {
    "collapsed": true
   },
   "outputs": [],
   "source": []
  }
 ],
 "metadata": {
  "kernelspec": {
   "display_name": "Python 3",
   "language": "python",
   "name": "python3"
  },
  "language_info": {
   "codemirror_mode": {
    "name": "ipython",
    "version": 3
   },
   "file_extension": ".py",
   "mimetype": "text/x-python",
   "name": "python",
   "nbconvert_exporter": "python",
   "pygments_lexer": "ipython3",
   "version": "3.6.1"
  }
 },
 "nbformat": 4,
 "nbformat_minor": 2
}
