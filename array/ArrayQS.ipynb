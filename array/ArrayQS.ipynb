{
 "cells": [
  {
   "cell_type": "code",
   "execution_count": 9,
   "metadata": {
    "collapsed": true
   },
   "outputs": [],
   "source": [
    "def urlify(str_,end):\n",
    "    r = len(str_)-1\n",
    "    str_=list(str_)\n",
    "    end -=1\n",
    "    while end>=0:\n",
    "        if str_[end]==' ':\n",
    "            str_[r]='0'\n",
    "            str_[r-1]='2'\n",
    "            str_[r-2]='%'\n",
    "            r-=3\n",
    "        else:\n",
    "            str_[end],str_[r]=str_[r],str_[end]\n",
    "            r-=1\n",
    "        end-=1\n",
    "    print(''.join(str_))\n",
    "            \n",
    "    "
   ]
  },
  {
   "cell_type": "code",
   "execution_count": 14,
   "metadata": {},
   "outputs": [
    {
     "name": "stdout",
     "output_type": "stream",
     "text": [
      "Mr%20John%20Smith\n"
     ]
    }
   ],
   "source": [
    "urlify(\"Mr John Smith    \",13)"
   ]
  },
  {
   "cell_type": "code",
   "execution_count": 34,
   "metadata": {
    "collapsed": true
   },
   "outputs": [],
   "source": [
    "def one_away(a,b):\n",
    "    len_diff = abs(len(a)-len(b))\n",
    "    char_diff = 0\n",
    "    if len_diff>1:\n",
    "        return False\n",
    "    elif len_diff:\n",
    "        char_diff=0\n",
    "    idx_a=0\n",
    "    idx_b=0\n",
    "    if len(b)>len(a):\n",
    "        a,b=b,a\n",
    "    same_len=len(a)==len(b)\n",
    "    while idx_a<len(a) and idx_b<len(b):\n",
    "        if a[idx_a]!=b[idx_b]:\n",
    "            char_diff+=1\n",
    "            if char_diff==2:\n",
    "                return False\n",
    "            if same_len:\n",
    "                idx_b+=1\n",
    "            idx_a+=1\n",
    "                \n",
    "        else:\n",
    "            idx_b+=1\n",
    "            idx_a+=1\n",
    "    return True\n",
    "            \n",
    "    "
   ]
  },
  {
   "cell_type": "code",
   "execution_count": 39,
   "metadata": {},
   "outputs": [
    {
     "data": {
      "text/plain": [
       "False"
      ]
     },
     "execution_count": 39,
     "metadata": {},
     "output_type": "execute_result"
    }
   ],
   "source": [
    "one_away(\"bale\",\"asle\")"
   ]
  },
  {
   "cell_type": "code",
   "execution_count": 19,
   "metadata": {
    "collapsed": true
   },
   "outputs": [],
   "source": [
    "def rotate_matrix(mtx):\n",
    "    n = len(mtx)\n",
    "    end = n-1\n",
    "    layer = 0\n",
    "    layers = n//2\n",
    "    while layer<layers:\n",
    "        i=layer #this will be the iterator from beginning point to the end point\n",
    "        j=end\n",
    "        while i<end:\n",
    "            tl = mtx[layer][i]\n",
    "            tr = mtx[i][end]\n",
    "            br = mtx[end][j]\n",
    "            bl = mtx[j][layer]\n",
    "            \n",
    "            mtx[layer][i] = bl\n",
    "            mtx[i][end] = tl\n",
    "            mtx[end][j] = tr\n",
    "            mtx[j][layer] = br\n",
    "            \n",
    "            i+=1\n",
    "            j-=1\n",
    "        layer+=1\n",
    "        end-=1\n",
    "    for layer in mtx:\n",
    "        print(layer)\n",
    "        "
   ]
  },
  {
   "cell_type": "code",
   "execution_count": 22,
   "metadata": {},
   "outputs": [
    {
     "name": "stdout",
     "output_type": "stream",
     "text": [
      "[21, 16, 11, 6, 1]\n",
      "[22, 17, 12, 7, 2]\n",
      "[23, 18, 13, 8, 3]\n",
      "[24, 19, 14, 9, 4]\n",
      "[25, 20, 15, 10, 5]\n"
     ]
    }
   ],
   "source": [
    "m = [[1,2,3,4,5],[6,7,8,9,10],[11,12,13,14,15],[16,17,18,19,20],[21,22,23,24,25]]\n",
    "rotate_matrix(m)"
   ]
  },
  {
   "cell_type": "code",
   "execution_count": null,
   "metadata": {
    "collapsed": true
   },
   "outputs": [],
   "source": []
  },
  {
   "cell_type": "code",
   "execution_count": null,
   "metadata": {
    "collapsed": true
   },
   "outputs": [],
   "source": []
  }
 ],
 "metadata": {
  "kernelspec": {
   "display_name": "Python 3",
   "language": "python",
   "name": "python3"
  },
  "language_info": {
   "codemirror_mode": {
    "name": "ipython",
    "version": 3
   },
   "file_extension": ".py",
   "mimetype": "text/x-python",
   "name": "python",
   "nbconvert_exporter": "python",
   "pygments_lexer": "ipython3",
   "version": "3.6.1"
  }
 },
 "nbformat": 4,
 "nbformat_minor": 2
}
