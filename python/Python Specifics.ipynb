{
 "cells": [
  {
   "cell_type": "markdown",
   "metadata": {},
   "source": [
    "## Packing and Unpacking"
   ]
  },
  {
   "cell_type": "code",
   "execution_count": 2,
   "metadata": {},
   "outputs": [
    {
     "name": "stdout",
     "output_type": "stream",
     "text": [
      "[2, 4, 6, 8]\n",
      "2 4 6 8\n"
     ]
    }
   ],
   "source": [
    "def fxn(*args):\n",
    "    args = list(args)\n",
    "    args = [i*2 for i in args]\n",
    "    print(args)\n",
    "\n",
    "def fxn2(a,b,c,d):\n",
    "    print(a*2,b*2,c*2,d*2)\n",
    "    \n",
    "#Unpacking an array in a couple of ways\n",
    "arr = [1,2,3,4]\n",
    "a,b,c,d = arr\n",
    "fxn(a,b,c,d)\n",
    "fxn2(*arr)"
   ]
  },
  {
   "cell_type": "code",
   "execution_count": 3,
   "metadata": {},
   "outputs": [
    {
     "name": "stdout",
     "output_type": "stream",
     "text": [
      "a 23\n",
      "b 34\n",
      "l 9\n"
     ]
    }
   ],
   "source": [
    "def fxn(**kwargs):\n",
    "    for key in kwargs:\n",
    "        print(key,kwargs[key])\n",
    "\n",
    "fxn(a=23,b=34,l=9)"
   ]
  },
  {
   "cell_type": "markdown",
   "metadata": {},
   "source": [
    "## Generator"
   ]
  },
  {
   "cell_type": "code",
   "execution_count": 4,
   "metadata": {
    "collapsed": true
   },
   "outputs": [],
   "source": [
    "def xrange_(lower=None,upper=None,step=1):\n",
    "    if lower==None and upper==None:\n",
    "        raise KeyError\n",
    "    elif upper==None:\n",
    "        lower, upper = 0, lower\n",
    "\n",
    "    while lower<upper:\n",
    "        yield lower\n",
    "        lower+=step"
   ]
  },
  {
   "cell_type": "code",
   "execution_count": 7,
   "metadata": {
    "collapsed": true
   },
   "outputs": [
    {
     "name": "stdout",
     "output_type": "stream",
     "text": [
      "0\n",
      "1\n",
      "2\n",
      "3\n",
      "4\n",
      "5\n",
      "6\n",
      "7\n",
      "8\n",
      "9\n",
      "0\n",
      "1\n",
      "2\n",
      "3\n",
      "4\n",
      "5\n",
      "6\n",
      "7\n",
      "8\n",
      "9\n"
     ]
    }
   ],
   "source": [
    "# using the generator as a function\n",
    "for i in xrange_(10):\n",
    "    print(i)\n",
    "\n",
    "#using the generator as an object\n",
    "obj = xrange_(10).__iter__()\n",
    "while True:\n",
    "    try:\n",
    "        print(obj.__next__())\n",
    "    except:\n",
    "        break"
   ]
  },
  {
   "cell_type": "markdown",
   "metadata": {},
   "source": [
    "## Decorators"
   ]
  },
  {
   "cell_type": "code",
   "execution_count": 12,
   "metadata": {
    "collapsed": true
   },
   "outputs": [],
   "source": [
    "def twice(fn):\n",
    "    def do_twice(word):\n",
    "        print(\"first time\")\n",
    "        fn(word)\n",
    "        print(\"second time\")\n",
    "        fn(word)\n",
    "    return do_twice\n",
    "\n",
    "@twice\n",
    "def print_vishnu(word):\n",
    "    print(\"vishnu\",word)"
   ]
  },
  {
   "cell_type": "code",
   "execution_count": 13,
   "metadata": {},
   "outputs": [
    {
     "name": "stdout",
     "output_type": "stream",
     "text": [
      "first time\n",
      "vishnu oko\n",
      "second time\n",
      "vishnu oko\n"
     ]
    }
   ],
   "source": [
    "print_vishnu(\"oko\")"
   ]
  },
  {
   "cell_type": "markdown",
   "metadata": {},
   "source": [
    "# Inheritance and OOP"
   ]
  },
  {
   "cell_type": "code",
   "execution_count": 50,
   "metadata": {
    "collapsed": true
   },
   "outputs": [],
   "source": [
    "class Base(object):\n",
    "    #This is how we declare a static variable\n",
    "    count=0\n",
    "    def __init__(self,val):\n",
    "        self.__val = val #How to make a private member\n",
    "        Base.count+=1\n",
    "    def get_val(self):\n",
    "        return (self.__val)\n",
    "    def get_count(self):\n",
    "        return (Base.count)\n",
    "    def __str__(self):\n",
    "        return self.get_val()\n",
    "\n",
    "class Derived(Base):\n",
    "    def __init__(self,key,val):\n",
    "        super().__init__(val)\n",
    "        self.__key = key\n",
    "    def get_key(self):\n",
    "        return self.__key\n",
    "    def __str__(self):\n",
    "        print(self.get_key(),end=\" : \")\n",
    "        print(super().get_val())\n",
    "        return \"\""
   ]
  },
  {
   "cell_type": "code",
   "execution_count": 51,
   "metadata": {
    "collapsed": true
   },
   "outputs": [],
   "source": [
    "base1 = Base(\"vishnu\")\n",
    "der1 = Derived(\"vishnu\",\"yes\")"
   ]
  },
  {
   "cell_type": "code",
   "execution_count": 52,
   "metadata": {},
   "outputs": [
    {
     "name": "stdout",
     "output_type": "stream",
     "text": [
      "2\n"
     ]
    }
   ],
   "source": [
    "print(base1.get_count())"
   ]
  },
  {
   "cell_type": "markdown",
   "metadata": {},
   "source": [
    "## Class method vs Static method"
   ]
  },
  {
   "cell_type": "code",
   "execution_count": 55,
   "metadata": {},
   "outputs": [
    {
     "name": "stdout",
     "output_type": "stream",
     "text": [
      "21\n",
      "22\n",
      "True\n"
     ]
    }
   ],
   "source": [
    "from datetime import date \n",
    "  \n",
    "class Person: \n",
    "    def __init__(self, name, age): \n",
    "        self.name = name \n",
    "        self.age = age \n",
    "      \n",
    "    # a class method to create a Person object by birth year. \n",
    "    @classmethod\n",
    "    def fromBirthYear(cls, name, year): \n",
    "        return cls(name, date.today().year - year) \n",
    "      \n",
    "    # a static method to check if a Person is adult or not. \n",
    "    @staticmethod\n",
    "    def isAdult(age): \n",
    "        return age > 18\n",
    "  \n",
    "person1 = Person('mayank', 21) \n",
    "person2 = Person.fromBirthYear('mayank', 1996) \n",
    "  \n",
    "print( person1.age )\n",
    "print( person2.age )\n",
    "  \n",
    "# print the result \n",
    "print (Person.isAdult(22)) "
   ]
  },
  {
   "cell_type": "markdown",
   "metadata": {},
   "source": [
    "# Exceptions"
   ]
  },
  {
   "cell_type": "code",
   "execution_count": 63,
   "metadata": {
    "collapsed": true
   },
   "outputs": [],
   "source": [
    "def check(a,b):\n",
    "    try:\n",
    "        print( (a+b)/(a-b))\n",
    "    except ZeroDivisionError:\n",
    "        print(\"ZeroDiv\")\n",
    "    else:\n",
    "        print(\"success\")\n",
    "        raise VishnuError(\"but he champ\")"
   ]
  },
  {
   "cell_type": "code",
   "execution_count": 64,
   "metadata": {},
   "outputs": [
    {
     "name": "stdout",
     "output_type": "stream",
     "text": [
      "9.0\n",
      "success\n"
     ]
    },
    {
     "ename": "VishnuError",
     "evalue": "Issa vishnu error but he champ",
     "output_type": "error",
     "traceback": [
      "\u001b[0;31m---------------------------------------------------------------------------\u001b[0m",
      "\u001b[0;31mVishnuError\u001b[0m                               Traceback (most recent call last)",
      "\u001b[0;32m<ipython-input-64-b45bc694b376>\u001b[0m in \u001b[0;36m<module>\u001b[0;34m()\u001b[0m\n\u001b[0;32m----> 1\u001b[0;31m \u001b[0mcheck\u001b[0m\u001b[0;34m(\u001b[0m\u001b[0;36m5\u001b[0m\u001b[0;34m,\u001b[0m\u001b[0;36m4\u001b[0m\u001b[0;34m)\u001b[0m\u001b[0;34m\u001b[0m\u001b[0m\n\u001b[0m",
      "\u001b[0;32m<ipython-input-63-c87f373db9e7>\u001b[0m in \u001b[0;36mcheck\u001b[0;34m(a, b)\u001b[0m\n\u001b[1;32m      6\u001b[0m     \u001b[0;32melse\u001b[0m\u001b[0;34m:\u001b[0m\u001b[0;34m\u001b[0m\u001b[0m\n\u001b[1;32m      7\u001b[0m         \u001b[0mprint\u001b[0m\u001b[0;34m(\u001b[0m\u001b[0;34m\"success\"\u001b[0m\u001b[0;34m)\u001b[0m\u001b[0;34m\u001b[0m\u001b[0m\n\u001b[0;32m----> 8\u001b[0;31m         \u001b[0;32mraise\u001b[0m \u001b[0mVishnuError\u001b[0m\u001b[0;34m(\u001b[0m\u001b[0;34m\"but he champ\"\u001b[0m\u001b[0;34m)\u001b[0m\u001b[0;34m\u001b[0m\u001b[0m\n\u001b[0m",
      "\u001b[0;31mVishnuError\u001b[0m: Issa vishnu error but he champ"
     ]
    }
   ],
   "source": [
    "check(5,4)"
   ]
  },
  {
   "cell_type": "code",
   "execution_count": 62,
   "metadata": {
    "collapsed": true
   },
   "outputs": [],
   "source": [
    "class VishnuError(Exception):\n",
    "    def __init__(self,str_=None):\n",
    "        self.str_=str_\n",
    "    def __str__(self):\n",
    "        return \"Issa vishnu error {}\".format(str(self.str_))"
   ]
  },
  {
   "cell_type": "markdown",
   "metadata": {
    "collapsed": true
   },
   "source": [
    "# Collections Module\n",
    "- This module provides containers and methods for data collection and manipulation"
   ]
  },
  {
   "cell_type": "markdown",
   "metadata": {},
   "source": [
    "### 1. OrderedDict\n",
    "- It is the same as a python dictionary however it maintains the order of insertion\n"
   ]
  },
  {
   "cell_type": "code",
   "execution_count": 29,
   "metadata": {
    "collapsed": true
   },
   "outputs": [],
   "source": [
    "from collections import OrderedDict\n",
    "roll_no = OrderedDict()"
   ]
  },
  {
   "cell_type": "code",
   "execution_count": 30,
   "metadata": {},
   "outputs": [],
   "source": [
    "roll_no[\"Shubham\"] = 2\n",
    "roll_no[\"visnu\"]  =1\n",
    "roll_no[\"porr\"] = 3"
   ]
  },
  {
   "cell_type": "code",
   "execution_count": 31,
   "metadata": {},
   "outputs": [
    {
     "data": {
      "text/plain": [
       "('Shubham', 2)"
      ]
     },
     "execution_count": 31,
     "metadata": {},
     "output_type": "execute_result"
    }
   ],
   "source": [
    "roll_no.popitem(last=False)"
   ]
  },
  {
   "cell_type": "markdown",
   "metadata": {},
   "source": [
    "## 2. DefaultDict\n",
    "- This acts like a hashmap but allows us to have multiple values for a single key"
   ]
  },
  {
   "cell_type": "code",
   "execution_count": 45,
   "metadata": {},
   "outputs": [],
   "source": [
    "from collections import defaultdict\n",
    "sums = defaultdict()\n",
    "arr = [1,4,2,0,-1,5,-2]\n",
    "def all_sums(arr):\n",
    "    for i in range(len(arr)):\n",
    "        for j in range(len(arr)):\n",
    "            if i!=j:\n",
    "                if not sums.get(arr[i]+arr[j]):\n",
    "                    sums[arr[i]+arr[j]]=(arr[i],arr[j])\n",
    "                else:\n",
    "                    sums[arr[i]+arr[j]].append((arr[i],arr[j]))"
   ]
  },
  {
   "cell_type": "code",
   "execution_count": 46,
   "metadata": {},
   "outputs": [
    {
     "ename": "AttributeError",
     "evalue": "'tuple' object has no attribute 'append'",
     "output_type": "error",
     "traceback": [
      "\u001b[0;31m---------------------------------------------------------------------------\u001b[0m",
      "\u001b[0;31mAttributeError\u001b[0m                            Traceback (most recent call last)",
      "\u001b[0;32m<ipython-input-46-d3bdf1735772>\u001b[0m in \u001b[0;36m<module>\u001b[0;34m()\u001b[0m\n\u001b[0;32m----> 1\u001b[0;31m \u001b[0mall_sums\u001b[0m\u001b[0;34m(\u001b[0m\u001b[0marr\u001b[0m\u001b[0;34m)\u001b[0m\u001b[0;34m\u001b[0m\u001b[0m\n\u001b[0m",
      "\u001b[0;32m<ipython-input-45-fec4a8220f7b>\u001b[0m in \u001b[0;36mall_sums\u001b[0;34m(arr)\u001b[0m\n\u001b[1;32m      9\u001b[0m                     \u001b[0msums\u001b[0m\u001b[0;34m[\u001b[0m\u001b[0marr\u001b[0m\u001b[0;34m[\u001b[0m\u001b[0mi\u001b[0m\u001b[0;34m]\u001b[0m\u001b[0;34m+\u001b[0m\u001b[0marr\u001b[0m\u001b[0;34m[\u001b[0m\u001b[0mj\u001b[0m\u001b[0;34m]\u001b[0m\u001b[0;34m]\u001b[0m\u001b[0;34m=\u001b[0m\u001b[0;34m(\u001b[0m\u001b[0marr\u001b[0m\u001b[0;34m[\u001b[0m\u001b[0mi\u001b[0m\u001b[0;34m]\u001b[0m\u001b[0;34m,\u001b[0m\u001b[0marr\u001b[0m\u001b[0;34m[\u001b[0m\u001b[0mj\u001b[0m\u001b[0;34m]\u001b[0m\u001b[0;34m)\u001b[0m\u001b[0;34m\u001b[0m\u001b[0m\n\u001b[1;32m     10\u001b[0m                 \u001b[0;32melse\u001b[0m\u001b[0;34m:\u001b[0m\u001b[0;34m\u001b[0m\u001b[0m\n\u001b[0;32m---> 11\u001b[0;31m                     \u001b[0msums\u001b[0m\u001b[0;34m[\u001b[0m\u001b[0marr\u001b[0m\u001b[0;34m[\u001b[0m\u001b[0mi\u001b[0m\u001b[0;34m]\u001b[0m\u001b[0;34m+\u001b[0m\u001b[0marr\u001b[0m\u001b[0;34m[\u001b[0m\u001b[0mj\u001b[0m\u001b[0;34m]\u001b[0m\u001b[0;34m]\u001b[0m\u001b[0;34m.\u001b[0m\u001b[0mappend\u001b[0m\u001b[0;34m(\u001b[0m\u001b[0;34m(\u001b[0m\u001b[0marr\u001b[0m\u001b[0;34m[\u001b[0m\u001b[0mi\u001b[0m\u001b[0;34m]\u001b[0m\u001b[0;34m,\u001b[0m\u001b[0marr\u001b[0m\u001b[0;34m[\u001b[0m\u001b[0mj\u001b[0m\u001b[0;34m]\u001b[0m\u001b[0;34m)\u001b[0m\u001b[0;34m)\u001b[0m\u001b[0;34m\u001b[0m\u001b[0m\n\u001b[0m",
      "\u001b[0;31mAttributeError\u001b[0m: 'tuple' object has no attribute 'append'"
     ]
    }
   ],
   "source": [
    "all_sums(arr)"
   ]
  },
  {
   "cell_type": "markdown",
   "metadata": {},
   "source": [
    "## 3. Counter\n",
    "- Used to count frequency of elements "
   ]
  },
  {
   "cell_type": "code",
   "execution_count": 47,
   "metadata": {},
   "outputs": [
    {
     "name": "stdout",
     "output_type": "stream",
     "text": [
      "Counter({'JournalDev': 2, 'Shubham': 1, 'Pankaj': 1})\n"
     ]
    }
   ],
   "source": [
    "from collections import Counter\n",
    "\n",
    "marks_list = [\n",
    "    ('Shubham', 89),\n",
    "    ('Pankaj', 92),\n",
    "    ('JournalDev', 99),\n",
    "    ('JournalDev', 98)\n",
    "]\n",
    "\n",
    "count = Counter(name for name, marks in marks_list)\n",
    "print(count)"
   ]
  },
  {
   "cell_type": "markdown",
   "metadata": {},
   "source": [
    "## 4. Named Tuple\n",
    "- In python we cannot mutate the contents of tuples (immutable lists)\n",
    "- We can name each element of the tuple and access it like an object."
   ]
  },
  {
   "cell_type": "code",
   "execution_count": 50,
   "metadata": {},
   "outputs": [],
   "source": [
    "from collections import namedtuple\n",
    "User = namedtuple(\"User\",'Name Username Age')"
   ]
  },
  {
   "cell_type": "code",
   "execution_count": 68,
   "metadata": {},
   "outputs": [],
   "source": [
    "my_user = User(Name=\"Vishnu\",Username=\"vc2309\",Age=21)\n",
    "my_user2 = User(Name=\"Vishdnu\",Username=\"vc230d9\",Age=21)"
   ]
  },
  {
   "cell_type": "code",
   "execution_count": 69,
   "metadata": {},
   "outputs": [
    {
     "data": {
      "text/plain": [
       "1"
      ]
     },
     "execution_count": 69,
     "metadata": {},
     "output_type": "execute_result"
    }
   ],
   "source": [
    "my_user.count(21)"
   ]
  },
  {
   "cell_type": "markdown",
   "metadata": {},
   "source": [
    "## 5. Deque\n",
    "- double ended queue"
   ]
  },
  {
   "cell_type": "code",
   "execution_count": 72,
   "metadata": {},
   "outputs": [],
   "source": [
    "from collections import deque\n",
    "dq= deque()\n",
    "dq.append(1)\n",
    "dq.append(3)\n",
    "dq.append(34)"
   ]
  },
  {
   "cell_type": "code",
   "execution_count": 82,
   "metadata": {},
   "outputs": [],
   "source": [
    "dq.rotate(2)"
   ]
  },
  {
   "cell_type": "code",
   "execution_count": 85,
   "metadata": {},
   "outputs": [
    {
     "name": "stdout",
     "output_type": "stream",
     "text": [
      "Deque       : deque(['S', 'h', 'u', 'b', 'h', 'a', 'm'])\n",
      "Queue Length: 7\n",
      "Left part   : S\n",
      "Right part  : m\n",
      "remove(b): deque(['S', 'h', 'u', 'h', 'a', 'm'])\n"
     ]
    }
   ],
   "source": [
    "name = deque('Shubham')\n",
    "print('Deque       :', name)\n",
    "print('Queue Length:', len(name))\n",
    "print('Left part   :', name[0])\n",
    "print('Right part  :', name[-1])\n",
    "\n",
    "name.remove('b')\n",
    "print('remove(b):', name)"
   ]
  },
  {
   "cell_type": "code",
   "execution_count": 103,
   "metadata": {
    "collapsed": true
   },
   "outputs": [],
   "source": [
    "class EmptyCacheError(Exception):\n",
    "    def __init__(self,message=None):\n",
    "        self.message=message\n",
    "    def __str__(self):\n",
    "        if self.message:\n",
    "            return self.message\n",
    "        else:\n",
    "            return \"\"\n",
    "class LRUCache(OrderedDict):\n",
    "    def __init__(self,capacity):\n",
    "        super().__init__()\n",
    "        self.size=0\n",
    "        self.capacity = capacity\n",
    "    \n",
    "    def set_(self,k,v):\n",
    "        if self.get(k):\n",
    "            self.pop(k)\n",
    "        else:\n",
    "            if self.size==self.capacity:\n",
    "                if self.size>0:\n",
    "                    self.popitem(last=False)\n",
    "                else:\n",
    "                    raise EmptyCacheError(\"Your cache has insufficient capacity\")\n",
    "            self.size+=1\n",
    "        self[k]=v\n",
    "    \n",
    "    def get_(self,k):\n",
    "        if self.get(k):\n",
    "            val = self.get(k)\n",
    "            self.pop(k)\n",
    "            self[k]=val\n",
    "            return val\n",
    "        return -1"
   ]
  },
  {
   "cell_type": "code",
   "execution_count": 104,
   "metadata": {
    "collapsed": true
   },
   "outputs": [],
   "source": [
    "cache = LRUCache(3)"
   ]
  },
  {
   "cell_type": "code",
   "execution_count": 105,
   "metadata": {},
   "outputs": [
    {
     "data": {
      "text/plain": [
       "odict_keys([])"
      ]
     },
     "execution_count": 105,
     "metadata": {},
     "output_type": "execute_result"
    }
   ],
   "source": [
    "cache.keys()"
   ]
  },
  {
   "cell_type": "code",
   "execution_count": 106,
   "metadata": {
    "collapsed": true
   },
   "outputs": [],
   "source": [
    "a = dict()"
   ]
  },
  {
   "cell_type": "code",
   "execution_count": 107,
   "metadata": {
    "collapsed": true
   },
   "outputs": [],
   "source": [
    "a[\"vish\"]=\"A+\"\n",
    "a[\"sdd\"]=2\n",
    "a[\"ffss\"]=\"2\""
   ]
  },
  {
   "cell_type": "code",
   "execution_count": 110,
   "metadata": {},
   "outputs": [
    {
     "data": {
      "text/plain": [
       "('ffss', '2')"
      ]
     },
     "execution_count": 110,
     "metadata": {},
     "output_type": "execute_result"
    }
   ],
   "source": [
    "a.popitem()"
   ]
  },
  {
   "cell_type": "code",
   "execution_count": null,
   "metadata": {
    "collapsed": true
   },
   "outputs": [],
   "source": []
  }
 ],
 "metadata": {
  "kernelspec": {
   "display_name": "Python 3",
   "language": "python",
   "name": "python3"
  },
  "language_info": {
   "codemirror_mode": {
    "name": "ipython",
    "version": 3
   },
   "file_extension": ".py",
   "mimetype": "text/x-python",
   "name": "python",
   "nbconvert_exporter": "python",
   "pygments_lexer": "ipython3",
   "version": "3.6.1"
  }
 },
 "nbformat": 4,
 "nbformat_minor": 2
}
