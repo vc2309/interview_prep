{
 "cells": [
  {
   "cell_type": "markdown",
   "metadata": {},
   "source": [
    "## Packing and Unpacking"
   ]
  },
  {
   "cell_type": "code",
   "execution_count": 2,
   "metadata": {},
   "outputs": [
    {
     "name": "stdout",
     "output_type": "stream",
     "text": [
      "[2, 4, 6, 8]\n",
      "2 4 6 8\n"
     ]
    }
   ],
   "source": [
    "def fxn(*args):\n",
    "    args = list(args)\n",
    "    args = [i*2 for i in args]\n",
    "    print(args)\n",
    "\n",
    "def fxn2(a,b,c,d):\n",
    "    print(a*2,b*2,c*2,d*2)\n",
    "    \n",
    "#Unpacking an array in a couple of ways\n",
    "arr = [1,2,3,4]\n",
    "a,b,c,d = arr\n",
    "fxn(a,b,c,d)\n",
    "fxn2(*arr)"
   ]
  },
  {
   "cell_type": "code",
   "execution_count": 3,
   "metadata": {},
   "outputs": [
    {
     "name": "stdout",
     "output_type": "stream",
     "text": [
      "a 23\n",
      "b 34\n",
      "l 9\n"
     ]
    }
   ],
   "source": [
    "def fxn(**kwargs):\n",
    "    for key in kwargs:\n",
    "        print(key,kwargs[key])\n",
    "\n",
    "fxn(a=23,b=34,l=9)"
   ]
  },
  {
   "cell_type": "markdown",
   "metadata": {},
   "source": [
    "## Generator"
   ]
  },
  {
   "cell_type": "code",
   "execution_count": 4,
   "metadata": {
    "collapsed": true
   },
   "outputs": [],
   "source": [
    "def xrange_(lower=None,upper=None,step=1):\n",
    "    if lower==None and upper==None:\n",
    "        raise KeyError\n",
    "    elif upper==None:\n",
    "        lower, upper = 0, lower\n",
    "\n",
    "    while lower<upper:\n",
    "        yield lower\n",
    "        lower+=step"
   ]
  },
  {
   "cell_type": "code",
   "execution_count": 7,
   "metadata": {
    "collapsed": true
   },
   "outputs": [
    {
     "name": "stdout",
     "output_type": "stream",
     "text": [
      "0\n",
      "1\n",
      "2\n",
      "3\n",
      "4\n",
      "5\n",
      "6\n",
      "7\n",
      "8\n",
      "9\n",
      "0\n",
      "1\n",
      "2\n",
      "3\n",
      "4\n",
      "5\n",
      "6\n",
      "7\n",
      "8\n",
      "9\n"
     ]
    }
   ],
   "source": [
    "# using the generator as a function\n",
    "for i in xrange_(10):\n",
    "    print(i)\n",
    "\n",
    "#using the generator as an object\n",
    "obj = xrange_(10).__iter__()\n",
    "while True:\n",
    "    try:\n",
    "        print(obj.__next__())\n",
    "    except:\n",
    "        break"
   ]
  },
  {
   "cell_type": "markdown",
   "metadata": {},
   "source": [
    "## Decorators"
   ]
  },
  {
   "cell_type": "code",
   "execution_count": 12,
   "metadata": {
    "collapsed": true
   },
   "outputs": [],
   "source": [
    "def twice(fn):\n",
    "    def do_twice(word):\n",
    "        print(\"first time\")\n",
    "        fn(word)\n",
    "        print(\"second time\")\n",
    "        fn(word)\n",
    "    return do_twice\n",
    "\n",
    "@twice\n",
    "def print_vishnu(word):\n",
    "    print(\"vishnu\",word)"
   ]
  },
  {
   "cell_type": "code",
   "execution_count": 13,
   "metadata": {},
   "outputs": [
    {
     "name": "stdout",
     "output_type": "stream",
     "text": [
      "first time\n",
      "vishnu oko\n",
      "second time\n",
      "vishnu oko\n"
     ]
    }
   ],
   "source": [
    "print_vishnu(\"oko\")"
   ]
  },
  {
   "cell_type": "markdown",
   "metadata": {},
   "source": [
    "# Inheritance and OOP"
   ]
  },
  {
   "cell_type": "code",
   "execution_count": 50,
   "metadata": {
    "collapsed": true
   },
   "outputs": [],
   "source": [
    "class Base(object):\n",
    "    #This is how we declare a static variable\n",
    "    count=0\n",
    "    def __init__(self,val):\n",
    "        self.__val = val #How to make a private member\n",
    "        Base.count+=1\n",
    "    def get_val(self):\n",
    "        return (self.__val)\n",
    "    def get_count(self):\n",
    "        return (Base.count)\n",
    "    def __str__(self):\n",
    "        return self.get_val()\n",
    "\n",
    "class Derived(Base):\n",
    "    def __init__(self,key,val):\n",
    "        super().__init__(val)\n",
    "        self.__key = key\n",
    "    def get_key(self):\n",
    "        return self.__key\n",
    "    def __str__(self):\n",
    "        print(self.get_key(),end=\" : \")\n",
    "        print(super().get_val())\n",
    "        return \"\""
   ]
  },
  {
   "cell_type": "code",
   "execution_count": 51,
   "metadata": {},
   "outputs": [],
   "source": [
    "base1 = Base(\"vishnu\")\n",
    "der1 = Derived(\"vishnu\",\"yes\")"
   ]
  },
  {
   "cell_type": "code",
   "execution_count": 52,
   "metadata": {},
   "outputs": [
    {
     "name": "stdout",
     "output_type": "stream",
     "text": [
      "2\n"
     ]
    }
   ],
   "source": [
    "print(base1.get_count())"
   ]
  },
  {
   "cell_type": "markdown",
   "metadata": {},
   "source": [
    "## Class method vs Static method"
   ]
  },
  {
   "cell_type": "code",
   "execution_count": 55,
   "metadata": {},
   "outputs": [
    {
     "name": "stdout",
     "output_type": "stream",
     "text": [
      "21\n",
      "22\n",
      "True\n"
     ]
    }
   ],
   "source": [
    "from datetime import date \n",
    "  \n",
    "class Person: \n",
    "    def __init__(self, name, age): \n",
    "        self.name = name \n",
    "        self.age = age \n",
    "      \n",
    "    # a class method to create a Person object by birth year. \n",
    "    @classmethod\n",
    "    def fromBirthYear(cls, name, year): \n",
    "        return cls(name, date.today().year - year) \n",
    "      \n",
    "    # a static method to check if a Person is adult or not. \n",
    "    @staticmethod\n",
    "    def isAdult(age): \n",
    "        return age > 18\n",
    "  \n",
    "person1 = Person('mayank', 21) \n",
    "person2 = Person.fromBirthYear('mayank', 1996) \n",
    "  \n",
    "print( person1.age )\n",
    "print( person2.age )\n",
    "  \n",
    "# print the result \n",
    "print (Person.isAdult(22)) "
   ]
  },
  {
   "cell_type": "code",
   "execution_count": null,
   "metadata": {
    "collapsed": true
   },
   "outputs": [],
   "source": []
  }
 ],
 "metadata": {
  "kernelspec": {
   "display_name": "Python 3",
   "language": "python",
   "name": "python3"
  },
  "language_info": {
   "codemirror_mode": {
    "name": "ipython",
    "version": 3
   },
   "file_extension": ".py",
   "mimetype": "text/x-python",
   "name": "python",
   "nbconvert_exporter": "python",
   "pygments_lexer": "ipython3",
   "version": "3.6.1"
  }
 },
 "nbformat": 4,
 "nbformat_minor": 2
}
