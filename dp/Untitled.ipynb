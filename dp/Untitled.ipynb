{
 "cells": [
  {
   "cell_type": "code",
   "execution_count": null,
   "metadata": {
    "collapsed": true
   },
   "outputs": [],
   "source": [
    "def helper(n,arr,memo,path):\n",
    "    if n==0:\n",
    "        print(path)\n",
    "    elif not memo.get(n):\n",
    "        memo[n]=0\n",
    "        for val in arr:\n",
    "            memo[n]+=helper(n-val,arr)\n",
    "from collections import Counter\n",
    "def sum_to_n(n,arr):\n",
    "    return helper(n,arr,{},Counter(arr))"
   ]
  },
  {
   "cell_type": "code",
   "execution_count": 89,
   "metadata": {
    "collapsed": true
   },
   "outputs": [],
   "source": [
    "def sum_less_than_k(arr_,k):\n",
    "    n = len(arr_)\n",
    "    memo = [[None for i in range(n+1)] for j in range(k+1)]\n",
    "    arr_ = sorted(arr_)\n",
    "    for i in range(1,n+1):\n",
    "        memo[0][i] = [[]]\n",
    "#     print(memo)\n",
    "    for value in range(1,k+1):\n",
    "        for idx in range(1,n+1):\n",
    "            number = arr_[idx-1]\n",
    "            #If the number is less than or equal to the value\n",
    "            memo[value][idx]=[]\n",
    "            if value>=number:\n",
    "                not_using = memo[value][idx-1]\n",
    "                using = memo[value-number][idx]\n",
    "                if not_using:\n",
    "                    for items in not_using:\n",
    "                        memo[value][idx].append(items)\n",
    "                if using:\n",
    "#                     print(value,number,using)\n",
    "                    for items in using:\n",
    "#                         if number!=value:\n",
    "                        c = items.copy()\n",
    "                        c.append(number)\n",
    "#                         print(c)\n",
    "                        memo[value][idx].append(c)\n",
    "            else:\n",
    "                not_using = memo[value][idx-1]\n",
    "#                 print(\"notusing\",not_using,value,number)\n",
    "                for items in not_using:\n",
    "                    memo[value][idx].append(items)\n",
    "#                     print(memo)\n",
    "    \n",
    "#     print(memo)\n",
    "    return memo[:][n]\n",
    "\n",
    "                \n",
    "                \n",
    "            "
   ]
  },
  {
   "cell_type": "code",
   "execution_count": 90,
   "metadata": {},
   "outputs": [
    {
     "data": {
      "text/plain": [
       "[None, [[1, 1, 1]], [[1, 1, 1], [3]], [[1, 1, 1], [3]]]"
      ]
     },
     "execution_count": 90,
     "metadata": {},
     "output_type": "execute_result"
    }
   ],
   "source": [
    "vals = [1,3,5]\n",
    "sum_less_than_k(vals,8)"
   ]
  },
  {
   "cell_type": "code",
   "execution_count": 80,
   "metadata": {
    "collapsed": true
   },
   "outputs": [],
   "source": [
    "a = [1,32]"
   ]
  },
  {
   "cell_type": "code",
   "execution_count": 83,
   "metadata": {},
   "outputs": [
    {
     "data": {
      "text/plain": [
       "[1, 32]"
      ]
     },
     "execution_count": 83,
     "metadata": {},
     "output_type": "execute_result"
    }
   ],
   "source": [
    "a.copy()"
   ]
  },
  {
   "cell_type": "code",
   "execution_count": 94,
   "metadata": {
    "collapsed": true
   },
   "outputs": [],
   "source": [
    "def max_sum(arr_):\n",
    "    memo = arr_.copy()\n",
    "    i = len(arr_)-1\n",
    "    n = len(arr_)\n",
    "    while i>=0:\n",
    "        j=i+1\n",
    "        max_val=memo[i]\n",
    "        while(j<n):\n",
    "            if arr_[i]<arr_[j]:\n",
    "                max_val=max(max_val,memo[j]+memo[i])\n",
    "            j+=1\n",
    "        memo[i]=max_val\n",
    "        i-=1\n",
    "    # print(memo)\n",
    "    print(max(memo))"
   ]
  },
  {
   "cell_type": "code",
   "execution_count": 95,
   "metadata": {},
   "outputs": [
    {
     "name": "stdout",
     "output_type": "stream",
     "text": [
      "9788\n"
     ]
    }
   ],
   "source": [
    "max_sum([726 ,32 ,493 ,143 ,223 ,287 ,65 ,901 ,188 ,361 ,414 ,975 ,271 ,171 ,236 ,834 ,712 ,761 ,897 ,668 ,286 ,551 ,141 ,695 ,696 ,625 ,20 ,126 ,577 ,695 ,659 ,303 ,372 ,467 ,679 ,594 ,852 ,485 ,19 ,465 ,120 ,153 ,801 ,88 ,61 ,927 ,11 ,758 ,171 ,316 ,577 ,228 ,44 ,759 ,165 ,110 ,883 ,87 ,566 ,488 ,578 ,475 ,626 ,628 ,630 ,929 ,424 ,521 ,903 ,963 ,124 ,597 ,738 ,262 ,196 ,526 ,265 ,261 ,203 ,117 ,31 ,327 ,12, 772 ,412 ,548 ,154 ,521 ,791 ,925 ,189 ,764 ,941 ,852])"
   ]
  },
  {
   "cell_type": "code",
   "execution_count": 96,
   "metadata": {
    "collapsed": true
   },
   "outputs": [],
   "source": [
    "def cut_rod(lengths,vals,length):\n",
    "    n = len(lengths)\n",
    "    memo = [[0 for i in range(n+1)] for j in range(length+1)]\n",
    "    \n",
    "    for l in range(1,length+1):\n",
    "        for idx in range(1,n+1):\n",
    "            len_ = lengths[idx-1]\n",
    "            val_ = vals[idx-1]\n",
    "            if len_<=l:\n",
    "                memo[l][idx] = max((memo[l-len_][idx]+val_),memo[l][idx-1])\n",
    "            else:\n",
    "                memo[l][idx] = memo[l][idx-1]\n",
    "    return memo[length][n]\n",
    "            "
   ]
  },
  {
   "cell_type": "code",
   "execution_count": 98,
   "metadata": {},
   "outputs": [
    {
     "data": {
      "text/plain": [
       "22"
      ]
     },
     "execution_count": 98,
     "metadata": {},
     "output_type": "execute_result"
    }
   ],
   "source": [
    "cut_rod([1,2,3,4,5,6,7,8],[1,5,8,9,10,17,17,20],8)"
   ]
  },
  {
   "cell_type": "code",
   "execution_count": 107,
   "metadata": {
    "collapsed": true
   },
   "outputs": [],
   "source": [
    "def cut_rod_2(lengths,vals,length,memo):\n",
    "    if length==0:\n",
    "        return 0\n",
    "    elif not memo.get(length):\n",
    "        memo[length]=max(max([(cut_rod_2(lengths,vals,length-len_,memo) + vals[len_]) for idx,len_ in enumerate(lengths) if len_<=length]), vals[length])\n",
    "    return memo[length]"
   ]
  },
  {
   "cell_type": "code",
   "execution_count": 119,
   "metadata": {
    "collapsed": true
   },
   "outputs": [],
   "source": [
    "vals = {l:v for l,v in zip([1,2,3,4,5,6,7,8],[100,500,8,9,110,17,17,20])}"
   ]
  },
  {
   "cell_type": "code",
   "execution_count": 103,
   "metadata": {
    "collapsed": true
   },
   "outputs": [],
   "source": [
    "lengths=[1,2,3,4,5,6,7,8]"
   ]
  },
  {
   "cell_type": "code",
   "execution_count": 120,
   "metadata": {},
   "outputs": [
    {
     "data": {
      "text/plain": [
       "2000"
      ]
     },
     "execution_count": 120,
     "metadata": {},
     "output_type": "execute_result"
    }
   ],
   "source": [
    "cut_rod_2(lengths,vals,8,{})"
   ]
  },
  {
   "cell_type": "code",
   "execution_count": 116,
   "metadata": {},
   "outputs": [
    {
     "data": {
      "text/plain": [
       "{1: 100, 2: 5, 3: 8, 4: 9, 5: 110, 6: 17, 7: 17, 8: 20}"
      ]
     },
     "execution_count": 116,
     "metadata": {},
     "output_type": "execute_result"
    }
   ],
   "source": [
    "vals"
   ]
  },
  {
   "cell_type": "code",
   "execution_count": 8,
   "metadata": {
    "collapsed": true
   },
   "outputs": [],
   "source": [
    "def lcs(a,b):\n",
    "    memo = [[0 for i in range(len(b)+1)] for j in range(len(a)+1)]\n",
    "    for i in range(1,len(a)+1):\n",
    "        char_a=a[i-1]\n",
    "        for j in range(1,len(b)+1):\n",
    "            char_b=b[j-1]\n",
    "            if char_a==char_b:\n",
    "                memo[i][j]=1 + memo[i-1][j-1]\n",
    "            else:\n",
    "#                 print(i,j)\n",
    "                memo[i][j]=max(memo[i-1][j],memo[i][j-1])\n",
    "    return memo[-1][-1]\n",
    "            "
   ]
  },
  {
   "cell_type": "code",
   "execution_count": 12,
   "metadata": {},
   "outputs": [
    {
     "data": {
      "text/plain": [
       "7"
      ]
     },
     "execution_count": 12,
     "metadata": {},
     "output_type": "execute_result"
    }
   ],
   "source": [
    "lcs(\"ABCDEDDE\",\"ABCCDDDDDDDE\")"
   ]
  },
  {
   "cell_type": "code",
   "execution_count": 13,
   "metadata": {
    "collapsed": true
   },
   "outputs": [],
   "source": [
    "def deletion(a,b):\n",
    "    memo = [[None for i in range(len(b)+1)] for j in range(len(a)+1)]\n",
    "    for i in range(len(b)+1):\n",
    "        memo[0][i] = i\n",
    "    for i in range(len(a)+1):\n",
    "        memo[i][0] = i\n",
    "    for idx_a in range(1,len(a)+1):\n",
    "        char_a=a[idx_a-1]\n",
    "        for idx_b in range(1,len(b)+1):\n",
    "            char_b=b[idx_b-1]\n",
    "            if char_a==char_b:\n",
    "                memo[idx_a][idx_b]=memo[idx_a-1][idx_b-1]\n",
    "            else:\n",
    "                memo[idx_a][idx_b]=min(memo[idx_a][idx_b-1],memo[idx_a-1][idx_b]) + 1\n",
    "    return memo[-1][-1]"
   ]
  },
  {
   "cell_type": "code",
   "execution_count": 17,
   "metadata": {},
   "outputs": [
    {
     "data": {
      "text/plain": [
       "0"
      ]
     },
     "execution_count": 17,
     "metadata": {},
     "output_type": "execute_result"
    }
   ],
   "source": [
    "deletion(\"\",\"\")"
   ]
  },
  {
   "cell_type": "code",
   "execution_count": 35,
   "metadata": {
    "collapsed": true
   },
   "outputs": [],
   "source": [
    "def coin_change(n,coins):\n",
    "    memo = [[0 for i in range(len(coins)+1)] for j in range(n+1)]\n",
    "    for i in range(1,len(coins)+1):\n",
    "        memo[0][i]=1\n",
    "    for val in range(1,n+1):\n",
    "        for i in range(1,len(coins)+1):\n",
    "            coin_val = coins[i-1]\n",
    "            if coin_val<=val:\n",
    "                #1. use the coin\n",
    "#                 print(val-coin_val)\n",
    "                w1 = memo[val-coin_val][i]\n",
    "                w2 = memo[val][i-1]\n",
    "                memo[val][i]=w1+w2\n",
    "            else:\n",
    "                memo[val][i]=(memo[val][i-1])\n",
    "    return memo[-1][-1]"
   ]
  },
  {
   "cell_type": "code",
   "execution_count": 38,
   "metadata": {},
   "outputs": [
    {
     "data": {
      "text/plain": [
       "7"
      ]
     },
     "execution_count": 38,
     "metadata": {},
     "output_type": "execute_result"
    }
   ],
   "source": [
    "coin_change(6,[1, 2, 3])"
   ]
  },
  {
   "cell_type": "code",
   "execution_count": null,
   "metadata": {
    "collapsed": true
   },
   "outputs": [],
   "source": [
    "def helper(length,vals,memo):\n",
    "    if length==0:\n",
    "        return 0\n",
    "    for i in range(length,-1,-1):\n",
    "        \n",
    "def cut_segments(length,vals):\n",
    "    memo = {i+1:vals[i] for i in range(len(vals))}\n",
    "    vals.sort()\n",
    "    return helper(length,vals,memo)"
   ]
  }
 ],
 "metadata": {
  "kernelspec": {
   "display_name": "Python 3",
   "language": "python",
   "name": "python3"
  },
  "language_info": {
   "codemirror_mode": {
    "name": "ipython",
    "version": 3
   },
   "file_extension": ".py",
   "mimetype": "text/x-python",
   "name": "python",
   "nbconvert_exporter": "python",
   "pygments_lexer": "ipython3",
   "version": "3.6.1"
  }
 },
 "nbformat": 4,
 "nbformat_minor": 2
}
